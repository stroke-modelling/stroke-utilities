{
 "cells": [
  {
   "cell_type": "markdown",
   "id": "515527a0-1501-46ff-9ed7-fdf1aa42c282",
   "metadata": {},
   "source": [
    "# More uncertainty tests\n",
    "\n",
    "Import test data and SHAP models"
   ]
  },
  {
   "cell_type": "code",
   "execution_count": null,
   "id": "8f8823a9-346c-42eb-94c5-60caaecbaa35",
   "metadata": {},
   "outputs": [],
   "source": []
  },
  {
   "cell_type": "code",
   "execution_count": 1,
   "id": "1caa4488-d909-4026-a4fe-61a4ff6b31db",
   "metadata": {},
   "outputs": [
    {
     "name": "stderr",
     "output_type": "stream",
     "text": [
      "IProgress not found. Please update jupyter and ipywidgets. See https://ipywidgets.readthedocs.io/en/stable/user_install.html\n"
     ]
    }
   ],
   "source": [
    "import matplotlib.pyplot as plt\n",
    "import numpy as np\n",
    "import pandas as pd\n",
    "import shap\n",
    "import pickle\n",
    "\n",
    "from dataclasses import dataclass\n",
    "from xgboost import XGBClassifier"
   ]
  },
  {
   "cell_type": "code",
   "execution_count": 2,
   "id": "9260be9c-017e-439b-9a0f-8bde32e2b9ef",
   "metadata": {
    "tags": []
   },
   "outputs": [],
   "source": [
    "import stroke_utilities.process_data as process_data\n",
    "import stroke_utilities.models as models\n",
    "import stroke_utilities.scenario as scenario"
   ]
  },
  {
   "cell_type": "markdown",
   "id": "55f84184-8ecd-44f7-a531-f24247a07baf",
   "metadata": {},
   "source": [
    "## Set up paths and filenames"
   ]
  },
  {
   "cell_type": "code",
   "execution_count": 3,
   "id": "bc0be3c8-bbd0-4560-b926-0fe9ea3e5c22",
   "metadata": {},
   "outputs": [],
   "source": [
    "@dataclass(frozen=True)\n",
    "class Paths:\n",
    "    '''Singleton object for storing paths to data and database.'''\n",
    "\n",
    "    data_read_path: str = './stroke_utilities/data/'\n",
    "    output_folder = './stroke_utilities/output/'\n",
    "    model_folder = './stroke_utilities/models'\n",
    "    model_text = 'lgbm_decision_'\n",
    "    notebook: str = '01_'\n",
    "\n",
    "paths = Paths()"
   ]
  },
  {
   "attachments": {},
   "cell_type": "markdown",
   "id": "b7be4b1c-45bf-4939-af5a-d57644e14b0a",
   "metadata": {},
   "source": [
    "## Load data\n",
    "\n",
    "Import the data from file:"
   ]
  },
  {
   "cell_type": "code",
   "execution_count": 4,
   "id": "79552935-0349-4afe-a316-276d87de7ce6",
   "metadata": {},
   "outputs": [],
   "source": [
    "# Load data\n",
    "train = pd.read_csv(paths.data_read_path + 'cohort_10000_train.csv')\n",
    "train['stroke_team_id'] = train['stroke_team_id'].astype('category')\n",
    "test = pd.read_csv(paths.data_read_path + 'cohort_10000_test.csv')\n",
    "test['stroke_team_id'] = test['stroke_team_id'].astype('category')"
   ]
  },
  {
   "cell_type": "markdown",
   "id": "8a8b4109-1e14-44f9-af35-7244612a2679",
   "metadata": {},
   "source": [
    "## Process data\n",
    "\n",
    "Restrict the data to the following ten features, plus the \"thrombolysis\" feature."
   ]
  },
  {
   "cell_type": "code",
   "execution_count": 5,
   "id": "dbc0e652-99fd-4eab-94ce-714a3585602f",
   "metadata": {
    "tags": []
   },
   "outputs": [],
   "source": [
    "# Put data into the format for model\n",
    "features_to_model = [\n",
    "    'stroke_team_id',\n",
    "    'stroke_severity',\n",
    "    'prior_disability',\n",
    "    'age',\n",
    "    'infarction',\n",
    "    'onset_to_arrival_time',\n",
    "    'precise_onset_known',\n",
    "    'onset_during_sleep',\n",
    "    'arrival_to_scan_time',\n",
    "    'afib_anticoagulant',\n",
    "    # 'year',    \n",
    "    'thrombolysis'\n",
    "]"
   ]
  },
  {
   "cell_type": "code",
   "execution_count": 6,
   "id": "370db311-7e3c-4659-a7d7-2d1042c6d93b",
   "metadata": {
    "tags": []
   },
   "outputs": [],
   "source": [
    "train = train[features_to_model]\n",
    "test = test[features_to_model]"
   ]
  },
  {
   "cell_type": "code",
   "execution_count": 7,
   "id": "d3185c3e-90b5-4e4c-809f-9f895a7e3892",
   "metadata": {},
   "outputs": [],
   "source": [
    "stroke_team_ids = train.sort_values('stroke_team_id')['stroke_team_id'].unique().to_list()"
   ]
  },
  {
   "cell_type": "markdown",
   "id": "f1bd746b-9b24-4bbb-9500-3a4b027e5a25",
   "metadata": {},
   "source": [
    "Split the data. X contains the features for the model to use to predict use of thrombolysis, and y contains whether thrombolysis was used in the real data."
   ]
  },
  {
   "cell_type": "code",
   "execution_count": 8,
   "id": "92f6f676-879d-4e3a-a843-473a143b20f0",
   "metadata": {},
   "outputs": [],
   "source": [
    "X_train, y_train = process_data.split_X_and_y(train, 'thrombolysis')\n",
    "X_test, y_test = process_data.split_X_and_y(test, 'thrombolysis')"
   ]
  },
  {
   "cell_type": "markdown",
   "id": "a8ea0031-0f61-45b6-b72a-7e2a4b817476",
   "metadata": {},
   "source": [
    "Check the list of features currently included in the X data:"
   ]
  },
  {
   "cell_type": "code",
   "execution_count": 9,
   "id": "70729503-35f2-47e0-9acd-8dc48d91fa84",
   "metadata": {},
   "outputs": [
    {
     "data": {
      "text/plain": [
       "['stroke_team_id',\n",
       " 'stroke_severity',\n",
       " 'prior_disability',\n",
       " 'age',\n",
       " 'infarction',\n",
       " 'onset_to_arrival_time',\n",
       " 'precise_onset_known',\n",
       " 'onset_during_sleep',\n",
       " 'arrival_to_scan_time',\n",
       " 'afib_anticoagulant']"
      ]
     },
     "execution_count": 9,
     "metadata": {},
     "output_type": "execute_result"
    }
   ],
   "source": [
    "features = list(X_train)\n",
    "\n",
    "features"
   ]
  },
  {
   "cell_type": "markdown",
   "id": "f1ebe592-16ba-411d-9eb7-03bae56cbf68",
   "metadata": {},
   "source": [
    "For the XGBoost model, we need to change the single \"stroke team ID\" column to many individual team columns. For 119 separate teams, we will create 119 new columns. Each column may contain either 1 (meaning \"yes\") where a patient attended that stroke team, or 0 (meaning \"no\") where the patient did not attend that stroke team."
   ]
  },
  {
   "cell_type": "code",
   "execution_count": 10,
   "id": "e1792f6b-6d44-4942-b95f-c08b55e110e8",
   "metadata": {},
   "outputs": [],
   "source": [
    "X_train = process_data.one_hot_encode_column(\n",
    "    X_train, 'stroke_team_id', prefix='team')\n",
    "\n",
    "X_test = process_data.one_hot_encode_column(\n",
    "    X_test, 'stroke_team_id', prefix='team')"
   ]
  },
  {
   "cell_type": "markdown",
   "id": "818dcf9d-f64a-4f66-b4da-b84c76d98cbf",
   "metadata": {},
   "source": [
    "Check that the \"stroke_team_id\" column has gone and that there are now many \"team_\" columns."
   ]
  },
  {
   "cell_type": "code",
   "execution_count": 11,
   "id": "62568dd2-b19b-45b9-ac80-052b6014227a",
   "metadata": {},
   "outputs": [
    {
     "name": "stdout",
     "output_type": "stream",
     "text": [
      "['stroke_severity', 'prior_disability', 'age', 'infarction', 'onset_to_arrival_time', 'precise_onset_known', 'onset_during_sleep', 'arrival_to_scan_time', 'afib_anticoagulant', 'team_1', 'team_2', 'team_3', 'team_4', 'team_5', 'team_6']\n",
      "['team_117', 'team_118', 'team_119']\n"
     ]
    }
   ],
   "source": [
    "# Get features\n",
    "features_ohe = list(X_train)\n",
    "\n",
    "# Print the first several...\n",
    "print(features_ohe[:15])\n",
    "# ... and last few feature names:\n",
    "print(features_ohe[-3:])\n",
    "# The remaining features are all \"team_X\" for increasing X."
   ]
  },
  {
   "cell_type": "markdown",
   "id": "416cfa29-8a01-4744-9a15-3252f4d0eee3",
   "metadata": {},
   "source": [
    "## Get SHAP values"
   ]
  },
  {
   "cell_type": "code",
   "execution_count": 12,
   "id": "a7276293-18c8-4a57-9d4b-35fc1bd8e7ac",
   "metadata": {},
   "outputs": [
    {
     "name": "stdout",
     "output_type": "stream",
     "text": [
      "./stroke_utilities/models/shap_explainer_probability.p\n"
     ]
    }
   ],
   "source": [
    "filename = f'{paths.model_folder}/shap_explainer_probability.p'\n",
    "print(filename)\n",
    "with open(filename, 'rb') as filehandler:\n",
    "    explainer_probability = pickle.load(filehandler)"
   ]
  },
  {
   "cell_type": "code",
   "execution_count": 13,
   "id": "b0486448-de8b-4e6a-9178-f215975bb08d",
   "metadata": {},
   "outputs": [],
   "source": [
    "with open(f'{paths.model_folder}/shap_explainer.p', 'rb') as fp:\n",
    "    explainer = pickle.load(fp)"
   ]
  },
  {
   "cell_type": "code",
   "execution_count": 14,
   "id": "a9a584dc-6f8b-4ceb-baf3-124ce0843090",
   "metadata": {},
   "outputs": [],
   "source": [
    "with open(f'{paths.model_folder}/shap_explainer_probability.p', 'rb') as fp:\n",
    "    explainer_prob = pickle.load(fp)"
   ]
  },
  {
   "cell_type": "code",
   "execution_count": 15,
   "id": "fa5a8328-459d-41c6-9ba9-fca02aa45da1",
   "metadata": {},
   "outputs": [
    {
     "name": "stderr",
     "output_type": "stream",
     "text": [
      " 96%|=================== | 9553/10000 [00:11<00:00]       "
     ]
    }
   ],
   "source": [
    "shap_values = explainer.shap_values(X_test)\n",
    "shap_values_prob = explainer_prob.shap_values(X_test)"
   ]
  },
  {
   "cell_type": "markdown",
   "id": "bd6c9495-f58e-4e94-9cc2-a59f01abee3a",
   "metadata": {},
   "source": [
    "## Inspect"
   ]
  },
  {
   "cell_type": "code",
   "execution_count": 16,
   "id": "5f993355-0d4a-444e-8e1b-6ecec43c37de",
   "metadata": {},
   "outputs": [
    {
     "data": {
      "text/plain": [
       "array([[ 2.3055479e-01,  3.5574859e-01, -6.7545269e-03, ...,\n",
       "         3.8993263e-04, -1.1375784e-02,  5.0967374e-06],\n",
       "       [-2.0256398e+00, -6.7803931e-01, -2.4915010e-01, ...,\n",
       "         3.0105938e-03, -2.8919824e-03,  1.1325357e-05],\n",
       "       [ 9.7793740e-01,  5.8927941e-01,  1.2059644e-01, ...,\n",
       "        -4.4980794e-01, -8.4807687e-03, -2.2852901e-05],\n",
       "       ...,\n",
       "       [-2.3980770e+00,  2.5701925e-01, -3.7745178e-01, ...,\n",
       "         4.0751356e-03, -1.2559432e-03,  5.0967374e-06],\n",
       "       [-1.6628511e+00,  3.3319637e-01, -7.3512173e-01, ...,\n",
       "         2.8692193e-03, -5.0547002e-03, -1.6677929e-03],\n",
       "       [ 5.5671889e-01,  4.4737101e-01, -1.9050105e-02, ...,\n",
       "         4.1675437e-03, -5.1599587e-03,  5.0967374e-06]], dtype=float32)"
      ]
     },
     "execution_count": 16,
     "metadata": {},
     "output_type": "execute_result"
    }
   ],
   "source": [
    "shap_values"
   ]
  },
  {
   "cell_type": "code",
   "execution_count": 17,
   "id": "337a8d7c-08c8-467b-91da-857954aa2f55",
   "metadata": {},
   "outputs": [
    {
     "data": {
      "text/plain": [
       "array([[ 0.03878865,  0.03708629, -0.00346092, ...,  0.        ,\n",
       "         0.        ,  0.        ],\n",
       "       [-0.33897354, -0.11947999, -0.04790886, ...,  0.        ,\n",
       "         0.        ,  0.        ],\n",
       "       [ 0.19960814,  0.05960853,  0.01364045, ..., -0.07823933,\n",
       "         0.        ,  0.        ],\n",
       "       ...,\n",
       "       [-0.21098816,  0.0119806 , -0.03363617, ...,  0.        ,\n",
       "         0.        ,  0.        ],\n",
       "       [-0.18398179,  0.02120744, -0.07219641, ...,  0.        ,\n",
       "         0.        ,  0.        ],\n",
       "       [ 0.0925869 ,  0.04534363, -0.0171921 , ...,  0.        ,\n",
       "         0.        ,  0.        ]])"
      ]
     },
     "execution_count": 17,
     "metadata": {},
     "output_type": "execute_result"
    }
   ],
   "source": [
    "shap_values_prob"
   ]
  },
  {
   "cell_type": "code",
   "execution_count": 18,
   "id": "51facd6b-ee02-43ac-9c4a-08f8510c596a",
   "metadata": {},
   "outputs": [],
   "source": [
    "shap_values_sum = np.sum(shap_values, axis=1)#.shape\n",
    "shap_values_prob_sum = np.sum(shap_values_prob, axis=1)#.shape"
   ]
  },
  {
   "cell_type": "code",
   "execution_count": 19,
   "id": "cff525eb-7764-4aae-9c7d-f8cc1c12e995",
   "metadata": {},
   "outputs": [],
   "source": [
    "from scipy.special import expit"
   ]
  },
  {
   "cell_type": "code",
   "execution_count": 21,
   "id": "ae5e40cc-70f6-4987-97eb-03197ee7ebc6",
   "metadata": {},
   "outputs": [
    {
     "data": {
      "text/plain": [
       "[<matplotlib.lines.Line2D at 0x7f42b79e85e0>]"
      ]
     },
     "execution_count": 21,
     "metadata": {},
     "output_type": "execute_result"
    },
    {
     "data": {
      "image/png": "[encoded data removed]",
      "text/plain": [
       "<Figure size 640x480 with 1 Axes>"
      ]
     },
     "metadata": {},
     "output_type": "display_data"
    }
   ],
   "source": [
    "y_offset = -np.min(shap_values_prob_sum)\n",
    "x_offset = -0.85  # eyeballed\n",
    "\n",
    "x = np.linspace(np.min(shap_values_sum), np.max(shap_values_sum), 100)\n",
    "y_model = expit(x + x_offset) #- y_offset\n",
    "\n",
    "plt.scatter(shap_values_sum, shap_values_prob_sum + y_offset)\n",
    "plt.plot(x, y_model, color='k')"
   ]
  },
  {
   "cell_type": "code",
   "execution_count": 22,
   "id": "d10f8264-00d1-43b2-889f-8dd81efd4bbf",
   "metadata": {},
   "outputs": [
    {
     "data": {
      "text/plain": [
       "0.3926216513057263"
      ]
     },
     "execution_count": 22,
     "metadata": {},
     "output_type": "execute_result"
    }
   ],
   "source": [
    "y_offset"
   ]
  },
  {
   "cell_type": "code",
   "execution_count": 23,
   "id": "ee2ccdc9-7e63-4770-a24b-d0f181be52f5",
   "metadata": {},
   "outputs": [
    {
     "data": {
      "text/plain": [
       "0.29107763555923205"
      ]
     },
     "execution_count": 23,
     "metadata": {},
     "output_type": "execute_result"
    }
   ],
   "source": [
    "expit(-0.040156 + x_offset)"
   ]
  },
  {
   "cell_type": "code",
   "execution_count": null,
   "id": "b4944942-5151-4de8-a902-1ab7b7cb123c",
   "metadata": {},
   "outputs": [],
   "source": []
  }
 ],
 "metadata": {
  "kernelspec": {
   "display_name": "Python 3 (ipykernel)",
   "language": "python",
   "name": "python3"
  },
  "language_info": {
   "codemirror_mode": {
    "name": "ipython",
    "version": 3
   },
   "file_extension": ".py",
   "mimetype": "text/x-python",
   "name": "python",
   "nbconvert_exporter": "python",
   "pygments_lexer": "ipython3",
   "version": "3.9.17"
  }
 },
 "nbformat": 4,
 "nbformat_minor": 5
}
