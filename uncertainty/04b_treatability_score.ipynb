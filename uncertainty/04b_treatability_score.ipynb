{
 "cells": [
  {
   "cell_type": "markdown",
   "id": "29c1fe44-975f-4672-9959-358104b2c0e4",
   "metadata": {},
   "source": [
    "# Treatability scores\n",
    "\n",
    "## Plain English summary\n",
    "\n",
    "This notebook shows how to create a \"treatability score\" for a patient based on some of their characteristics. \n",
    "\n",
    "The method assumes that any XGBoost prediction or SHAP explainer models cannot be used directly. For example, we might not want to include a specific stroke team as required by those models, or we might be using a framework that makes it difficult or slow to access the models. \n",
    "\n",
    "Instead, we use the SHAP explainer to find average SHAP values for each possible value of each patient feature. When there are a small number of possible values, for example pre-stroke mRS from 0 to 5, a separate average SHAP is found for each. When there are a much larger number of possible values, for example onset-to-arrival time in minutes, the data is first grouped into smaller ranges of values and then the mean SHAP found across each range. This average SHAP value is the same for multiple patients with the same feature value and so this method gives more consistent results than from calculating new SHAP values from the explainer. \n",
    "\n",
    "The treatability scores are calculated by gathering each patient's SHAP value in each category from the average values, and then summing these multiple SHAP values. \n",
    "\n",
    "This notebook also shows an example of using the treatability scores when selecting a subset of patients to be treated. The patients with higher scores are more likely to be selected from the list, but it is still possible to select patients with lower scores.\n",
    "\n",
    "## Sources\n",
    "\n",
    "Data processing is copied from here: https://github.com/stroke-modelling/stroke-utilities/blob/main/docs/01_create_predictor_shap_and_benchmark_rankings.ipynb\n",
    "\n",
    "Box plot creation is copied from here: https://github.com/samuel-book/samuel_shap_paper_1/blob/main/xgb_10_features/03a_xgb_all_data_shap_values_vs_feature_values.ipynb"
   ]
  },
  {
   "cell_type": "markdown",
   "id": "3e0ed785-ed33-44fc-9cc8-6e703e4ad684",
   "metadata": {},
   "source": [
    "## Notebook setup:"
   ]
  },
  {
   "cell_type": "code",
   "execution_count": 21,
   "id": "757ff5ae-447c-4711-a547-70bd4d82dbb3",
   "metadata": {},
   "outputs": [],
   "source": [
    "import pandas as pd\n",
    "import numpy as np\n",
    "from dataclasses import dataclass\n",
    "\n",
    "import matplotlib.pyplot as plt\n",
    "\n",
    "import stroke_utilities.process_data as process_data\n",
    "\n",
    "# Turn warnings off to keep notebook tidy\n",
    "import warnings\n",
    "warnings.filterwarnings(\"ignore\")\n",
    "\n",
    "import shap"
   ]
  },
  {
   "cell_type": "markdown",
   "id": "8d000fd1-52b5-4c1e-8c21-5131eb124f5a",
   "metadata": {},
   "source": [
    "## Set up paths and filenames"
   ]
  },
  {
   "cell_type": "code",
   "execution_count": 22,
   "id": "12b116aa-b2c0-4e3d-8c71-a99d9b830101",
   "metadata": {},
   "outputs": [],
   "source": [
    "@dataclass(frozen=True)\n",
    "class Paths:\n",
    "    '''Singleton object for storing paths to data and database.'''\n",
    "\n",
    "    uncert_read_path: str = './uncertainty/'\n",
    "    data_read_path: str = './stroke_utilities/data/'\n",
    "    output_folder = './stroke_utilities/output/'\n",
    "\n",
    "paths = Paths()"
   ]
  },
  {
   "attachments": {},
   "cell_type": "markdown",
   "id": "3c8bf201-f391-4385-b894-2e33197450d8",
   "metadata": {},
   "source": [
    "## Load data\n",
    "\n",
    "Import the data from file:"
   ]
  },
  {
   "cell_type": "code",
   "execution_count": 23,
   "id": "0352117e-f8b6-489f-99cf-2e9d3c9cccf9",
   "metadata": {},
   "outputs": [],
   "source": [
    "# Load SHAP summary dataframe:\n",
    "df_shap_std = pd.read_csv(paths.uncert_read_path + 'shap_std.csv')"
   ]
  },
  {
   "cell_type": "code",
   "execution_count": 25,
   "id": "74dc980f-81da-4d1e-aa6a-f8c489a77281",
   "metadata": {},
   "outputs": [
    {
     "data": {
      "text/html": [
       "<div>\n",
       "<style scoped>\n",
       "    .dataframe tbody tr th:only-of-type {\n",
       "        vertical-align: middle;\n",
       "    }\n",
       "\n",
       "    .dataframe tbody tr th {\n",
       "        vertical-align: top;\n",
       "    }\n",
       "\n",
       "    .dataframe thead th {\n",
       "        text-align: right;\n",
       "    }\n",
       "</style>\n",
       "<table border=\"1\" class=\"dataframe\">\n",
       "  <thead>\n",
       "    <tr style=\"text-align: right;\">\n",
       "      <th></th>\n",
       "      <th>feature</th>\n",
       "      <th>feature_value</th>\n",
       "      <th>mean_shap</th>\n",
       "      <th>std_shap</th>\n",
       "    </tr>\n",
       "  </thead>\n",
       "  <tbody>\n",
       "    <tr>\n",
       "      <th>0</th>\n",
       "      <td>stroke_severity</td>\n",
       "      <td>0</td>\n",
       "      <td>-2.759728</td>\n",
       "      <td>0.476846</td>\n",
       "    </tr>\n",
       "    <tr>\n",
       "      <th>1</th>\n",
       "      <td>stroke_severity</td>\n",
       "      <td>1</td>\n",
       "      <td>-2.410901</td>\n",
       "      <td>0.420371</td>\n",
       "    </tr>\n",
       "    <tr>\n",
       "      <th>2</th>\n",
       "      <td>stroke_severity</td>\n",
       "      <td>2</td>\n",
       "      <td>-1.625403</td>\n",
       "      <td>0.301874</td>\n",
       "    </tr>\n",
       "    <tr>\n",
       "      <th>3</th>\n",
       "      <td>stroke_severity</td>\n",
       "      <td>3</td>\n",
       "      <td>-0.987334</td>\n",
       "      <td>0.250921</td>\n",
       "    </tr>\n",
       "    <tr>\n",
       "      <th>4</th>\n",
       "      <td>stroke_severity</td>\n",
       "      <td>4</td>\n",
       "      <td>-0.256834</td>\n",
       "      <td>0.170534</td>\n",
       "    </tr>\n",
       "    <tr>\n",
       "      <th>...</th>\n",
       "      <td>...</td>\n",
       "      <td>...</td>\n",
       "      <td>...</td>\n",
       "      <td>...</td>\n",
       "    </tr>\n",
       "    <tr>\n",
       "      <th>316</th>\n",
       "      <td>team_117</td>\n",
       "      <td>1</td>\n",
       "      <td>-0.688748</td>\n",
       "      <td>0.286864</td>\n",
       "    </tr>\n",
       "    <tr>\n",
       "      <th>317</th>\n",
       "      <td>team_118</td>\n",
       "      <td>0</td>\n",
       "      <td>-0.005982</td>\n",
       "      <td>0.002915</td>\n",
       "    </tr>\n",
       "    <tr>\n",
       "      <th>318</th>\n",
       "      <td>team_118</td>\n",
       "      <td>1</td>\n",
       "      <td>0.667060</td>\n",
       "      <td>0.340155</td>\n",
       "    </tr>\n",
       "    <tr>\n",
       "      <th>319</th>\n",
       "      <td>team_119</td>\n",
       "      <td>0</td>\n",
       "      <td>0.000004</td>\n",
       "      <td>0.000719</td>\n",
       "    </tr>\n",
       "    <tr>\n",
       "      <th>320</th>\n",
       "      <td>team_119</td>\n",
       "      <td>1</td>\n",
       "      <td>-0.011096</td>\n",
       "      <td>0.073631</td>\n",
       "    </tr>\n",
       "  </tbody>\n",
       "</table>\n",
       "<p>321 rows × 4 columns</p>\n",
       "</div>"
      ],
      "text/plain": [
       "             feature feature_value  mean_shap  std_shap\n",
       "0    stroke_severity             0  -2.759728  0.476846\n",
       "1    stroke_severity             1  -2.410901  0.420371\n",
       "2    stroke_severity             2  -1.625403  0.301874\n",
       "3    stroke_severity             3  -0.987334  0.250921\n",
       "4    stroke_severity             4  -0.256834  0.170534\n",
       "..               ...           ...        ...       ...\n",
       "316         team_117             1  -0.688748  0.286864\n",
       "317         team_118             0  -0.005982  0.002915\n",
       "318         team_118             1   0.667060  0.340155\n",
       "319         team_119             0   0.000004  0.000719\n",
       "320         team_119             1  -0.011096  0.073631\n",
       "\n",
       "[321 rows x 4 columns]"
      ]
     },
     "execution_count": 25,
     "metadata": {},
     "output_type": "execute_result"
    }
   ],
   "source": [
    "df_shap_std"
   ]
  },
  {
   "cell_type": "markdown",
   "id": "7146924b-e7d9-414f-8ba9-f4ec675539ea",
   "metadata": {},
   "source": [
    "Load test data set and process it as though ready for a SHAP explainer."
   ]
  },
  {
   "cell_type": "code",
   "execution_count": 35,
   "id": "5adaf153",
   "metadata": {},
   "outputs": [],
   "source": [
    "# Load data\n",
    "test = pd.read_csv(paths.data_read_path + 'cohort_10000_test.csv')\n",
    "test['stroke_team_id'] = test['stroke_team_id'].astype('category')\n",
    "\n",
    "# One-hot-encode the teams:\n",
    "X_test, y_test = process_data.split_X_and_y(test, 'thrombolysis')\n",
    "X_test = process_data.one_hot_encode_column(\n",
    "    X_test, 'stroke_team_id', prefix='team')\n",
    "\n",
    "X_test = X_test.drop('year', axis=1)"
   ]
  },
  {
   "cell_type": "markdown",
   "id": "501240c8-7e9a-4cef-8f9e-3b8b124637db",
   "metadata": {},
   "source": [
    "## Extract data from the SHAP summary dataframe"
   ]
  },
  {
   "cell_type": "markdown",
   "id": "361bc12c-5483-451f-ae59-501b355aacf8",
   "metadata": {},
   "source": [
    "The following function picks out the mean and std of the SHAP values for a given feature and its value."
   ]
  },
  {
   "cell_type": "code",
   "execution_count": 33,
   "id": "1e931c89-f4bf-49d5-a214-cb79c1822047",
   "metadata": {},
   "outputs": [],
   "source": [
    "def get_std_from_df(df, col, value):\n",
    "    \"\"\"\n",
    "    \n",
    "    # What are +/- values for each of the features?\n",
    "    \"\"\"\n",
    "    # Filter this feature only:\n",
    "    df_col = df[df['feature'] == col]\n",
    "    try:\n",
    "        df_col['feature_value'] = df_col['feature_value'].astype(float)\n",
    "    except ValueError:\n",
    "        # Can't convert these values to float.\n",
    "        pass\n",
    "    # Find where the feature value matches input:\n",
    "    if value in list(df_col['feature_value'].values):\n",
    "        df_row = df_col[df_col['feature_value'] == value]\n",
    "    else:\n",
    "        # The exact value doesn't exist when the feature\n",
    "        # is age, onset-to-arrival time, or arrival-to-scan time.\n",
    "        # Temporarily? The exact value doesn't exist for\n",
    "        # anticoagulant value missing.\n",
    "        if 'anticoag' in col:\n",
    "            df_row = df_col[\n",
    "                (df_col['feature_value'] != 0) &\n",
    "                (df_col['feature_value'] != 1)\n",
    "                ]\n",
    "        elif 'age' in col:\n",
    "            # Need nearest multiple of 5 plus 2.5,\n",
    "            # so options are 37.5, 42.5, 47.5, ... 92.5.\n",
    "            if value < 37.5:\n",
    "                value = 37.5\n",
    "            elif value > 92.5:\n",
    "                value = 92.5\n",
    "            else:\n",
    "                # Round to the nearest 5 and then subtract 2.5.\n",
    "                # This means that age 40 goes to 37.5\n",
    "                # and age 41 goes to 42.5.\n",
    "                value = np.ceil(value / 5.0) * 5.0 - 2.5\n",
    "            df_row = df_col[df_col['feature_value'] == value]\n",
    "        elif 'time' in col:\n",
    "            # Categories are string \"0-29\", \"120-149\", \"150+\".\n",
    "            categories = np.unique(df_col['feature_value'])\n",
    "            category_bounds = [float(t.replace('+','-').split('-')[0])\n",
    "                               for t in categories]\n",
    "            category_bounds = sorted(category_bounds)\n",
    "            # Find which category the value falls into:\n",
    "            bin = np.digitize(value, category_bounds) - 1\n",
    "            category_here = categories[bin]\n",
    "            df_row = df_col[df_col['feature_value'] == category_here]\n",
    "        else:\n",
    "            print('error: ', col, value)\n",
    "\n",
    "    mean_shap = df_row['mean_shap'].values[0]\n",
    "    std_shap = df_row['std_shap'].values[0]\n",
    "    return mean_shap, std_shap\n"
   ]
  },
  {
   "cell_type": "markdown",
   "id": "0ff7e7b9-7c79-40a0-a8c6-cdccc54fe3a8",
   "metadata": {},
   "source": [
    "The following cell loops over all features and their values. It finds the mean and std of the SHAP values for each feature value. Then it finds which patients this feature value applies to and saves the results in two new arrays to match the patient test data layout."
   ]
  },
  {
   "cell_type": "code",
   "execution_count": 87,
   "id": "49bea416-281b-4a15-9da4-f0ed9b1ff77d",
   "metadata": {},
   "outputs": [],
   "source": [
    "shap_mean_arr = np.zeros((len(X_test), len(X_test.columns)))\n",
    "shap_std_arr = np.zeros((len(X_test), len(X_test.columns)))\n",
    "for f, feature in enumerate(X_test.columns):\n",
    "    feature_vals = sorted(set(X_test[feature]))\n",
    "    for val in feature_vals:\n",
    "        mean_shap, std_shap =  get_std_from_df(df_shap_std, feature, val)\n",
    "\n",
    "        # Where are these patients in the test data?\n",
    "        row_mask = (X_test[feature] == val)\n",
    "        if len(row_mask[row_mask == True]) == 0:\n",
    "            if 'afib' in feature:\n",
    "                # row_mask before didn't properly pick out the NaN values.\n",
    "                row_mask = (X_test[feature] != 0) & (X_test[feature] != 1)\n",
    "            else:\n",
    "                print(f'Error? {feature} {val}')\n",
    "        # Update these patients' values:\n",
    "        shap_mean_arr[row_mask, f] = mean_shap\n",
    "        shap_std_arr[row_mask, f] = std_shap"
   ]
  },
  {
   "cell_type": "markdown",
   "id": "35bb5d0c-60d8-4bef-bee4-53fd7969430f",
   "metadata": {},
   "source": [
    "Convert the array of mean SHAP values to a DataFrame so that column names can be included.\n",
    "\n",
    "Calculate the \"treatability score\" of each patient by summing all of their mean SHAP values."
   ]
  },
  {
   "cell_type": "code",
   "execution_count": 62,
   "id": "3592c7dd-c2b0-484d-baad-8dfa7b6d7b77",
   "metadata": {},
   "outputs": [],
   "source": [
    "df_all_patient_shap_values = pd.DataFrame(\n",
    "    shap_mean_arr,\n",
    "    columns = X_test.columns\n",
    ")\n",
    "\n",
    "# Calculate the treatability score.\n",
    "df_all_patient_shap_values['treatability_score'] = (\n",
    "    df_all_patient_shap_values.sum(axis=1))\n"
   ]
  },
  {
   "cell_type": "code",
   "execution_count": 63,
   "id": "0d2ed09c-9d6f-4a83-8c75-686e7beb92fc",
   "metadata": {},
   "outputs": [
    {
     "data": {
      "text/html": [
       "<div>\n",
       "<style scoped>\n",
       "    .dataframe tbody tr th:only-of-type {\n",
       "        vertical-align: middle;\n",
       "    }\n",
       "\n",
       "    .dataframe tbody tr th {\n",
       "        vertical-align: top;\n",
       "    }\n",
       "\n",
       "    .dataframe thead th {\n",
       "        text-align: right;\n",
       "    }\n",
       "</style>\n",
       "<table border=\"1\" class=\"dataframe\">\n",
       "  <thead>\n",
       "    <tr style=\"text-align: right;\">\n",
       "      <th></th>\n",
       "      <th>stroke_severity</th>\n",
       "      <th>prior_disability</th>\n",
       "      <th>age</th>\n",
       "      <th>infarction</th>\n",
       "      <th>onset_to_arrival_time</th>\n",
       "      <th>precise_onset_known</th>\n",
       "      <th>onset_during_sleep</th>\n",
       "      <th>arrival_to_scan_time</th>\n",
       "      <th>afib_anticoagulant</th>\n",
       "      <th>team_1</th>\n",
       "      <th>...</th>\n",
       "      <th>team_111</th>\n",
       "      <th>team_112</th>\n",
       "      <th>team_113</th>\n",
       "      <th>team_114</th>\n",
       "      <th>team_115</th>\n",
       "      <th>team_116</th>\n",
       "      <th>team_117</th>\n",
       "      <th>team_118</th>\n",
       "      <th>team_119</th>\n",
       "      <th>treatability_score</th>\n",
       "    </tr>\n",
       "  </thead>\n",
       "  <tbody>\n",
       "    <tr>\n",
       "      <th>0</th>\n",
       "      <td>0.475304</td>\n",
       "      <td>0.363717</td>\n",
       "      <td>0.095047</td>\n",
       "      <td>0.341060</td>\n",
       "      <td>-0.205125</td>\n",
       "      <td>0.351339</td>\n",
       "      <td>0.038979</td>\n",
       "      <td>0.265612</td>\n",
       "      <td>-1.648980</td>\n",
       "      <td>0.002158</td>\n",
       "      <td>...</td>\n",
       "      <td>0.00136</td>\n",
       "      <td>0.000734</td>\n",
       "      <td>-0.002367</td>\n",
       "      <td>0.003596</td>\n",
       "      <td>-0.009321</td>\n",
       "      <td>-0.00595</td>\n",
       "      <td>0.002385</td>\n",
       "      <td>-0.005982</td>\n",
       "      <td>0.000004</td>\n",
       "      <td>0.203616</td>\n",
       "    </tr>\n",
       "    <tr>\n",
       "      <th>1</th>\n",
       "      <td>-1.625403</td>\n",
       "      <td>-0.601054</td>\n",
       "      <td>-0.455455</td>\n",
       "      <td>0.341060</td>\n",
       "      <td>-0.409409</td>\n",
       "      <td>0.351339</td>\n",
       "      <td>0.038979</td>\n",
       "      <td>0.265612</td>\n",
       "      <td>0.071971</td>\n",
       "      <td>0.002158</td>\n",
       "      <td>...</td>\n",
       "      <td>0.00136</td>\n",
       "      <td>0.000734</td>\n",
       "      <td>-0.002367</td>\n",
       "      <td>0.003596</td>\n",
       "      <td>-0.009321</td>\n",
       "      <td>-0.00595</td>\n",
       "      <td>0.002385</td>\n",
       "      <td>-0.005982</td>\n",
       "      <td>0.000004</td>\n",
       "      <td>-1.403822</td>\n",
       "    </tr>\n",
       "    <tr>\n",
       "      <th>2</th>\n",
       "      <td>0.844426</td>\n",
       "      <td>0.363717</td>\n",
       "      <td>0.095047</td>\n",
       "      <td>0.341060</td>\n",
       "      <td>-0.205125</td>\n",
       "      <td>0.351339</td>\n",
       "      <td>0.038979</td>\n",
       "      <td>0.265612</td>\n",
       "      <td>0.233429</td>\n",
       "      <td>0.002158</td>\n",
       "      <td>...</td>\n",
       "      <td>0.00136</td>\n",
       "      <td>0.000734</td>\n",
       "      <td>-0.002367</td>\n",
       "      <td>0.003596</td>\n",
       "      <td>-0.009321</td>\n",
       "      <td>-0.00595</td>\n",
       "      <td>-0.688748</td>\n",
       "      <td>-0.005982</td>\n",
       "      <td>0.000004</td>\n",
       "      <td>1.578817</td>\n",
       "    </tr>\n",
       "    <tr>\n",
       "      <th>3</th>\n",
       "      <td>0.736321</td>\n",
       "      <td>-0.026161</td>\n",
       "      <td>-0.455455</td>\n",
       "      <td>0.341060</td>\n",
       "      <td>0.197819</td>\n",
       "      <td>0.351339</td>\n",
       "      <td>0.038979</td>\n",
       "      <td>-2.061086</td>\n",
       "      <td>0.071971</td>\n",
       "      <td>0.002158</td>\n",
       "      <td>...</td>\n",
       "      <td>0.00136</td>\n",
       "      <td>0.000734</td>\n",
       "      <td>-0.002367</td>\n",
       "      <td>0.003596</td>\n",
       "      <td>-0.009321</td>\n",
       "      <td>-0.00595</td>\n",
       "      <td>0.002385</td>\n",
       "      <td>-0.005982</td>\n",
       "      <td>0.000004</td>\n",
       "      <td>-1.382666</td>\n",
       "    </tr>\n",
       "    <tr>\n",
       "      <th>4</th>\n",
       "      <td>0.914569</td>\n",
       "      <td>-0.601054</td>\n",
       "      <td>0.059954</td>\n",
       "      <td>-9.228256</td>\n",
       "      <td>-0.205125</td>\n",
       "      <td>0.351339</td>\n",
       "      <td>0.038979</td>\n",
       "      <td>0.265612</td>\n",
       "      <td>0.233429</td>\n",
       "      <td>0.002158</td>\n",
       "      <td>...</td>\n",
       "      <td>0.00136</td>\n",
       "      <td>0.000734</td>\n",
       "      <td>-0.002367</td>\n",
       "      <td>0.003596</td>\n",
       "      <td>-0.009321</td>\n",
       "      <td>-0.00595</td>\n",
       "      <td>0.002385</td>\n",
       "      <td>-0.005982</td>\n",
       "      <td>0.000004</td>\n",
       "      <td>-8.433247</td>\n",
       "    </tr>\n",
       "  </tbody>\n",
       "</table>\n",
       "<p>5 rows × 129 columns</p>\n",
       "</div>"
      ],
      "text/plain": [
       "   stroke_severity  prior_disability       age  infarction  \\\n",
       "0         0.475304          0.363717  0.095047    0.341060   \n",
       "1        -1.625403         -0.601054 -0.455455    0.341060   \n",
       "2         0.844426          0.363717  0.095047    0.341060   \n",
       "3         0.736321         -0.026161 -0.455455    0.341060   \n",
       "4         0.914569         -0.601054  0.059954   -9.228256   \n",
       "\n",
       "   onset_to_arrival_time  precise_onset_known  onset_during_sleep  \\\n",
       "0              -0.205125             0.351339            0.038979   \n",
       "1              -0.409409             0.351339            0.038979   \n",
       "2              -0.205125             0.351339            0.038979   \n",
       "3               0.197819             0.351339            0.038979   \n",
       "4              -0.205125             0.351339            0.038979   \n",
       "\n",
       "   arrival_to_scan_time  afib_anticoagulant    team_1  ...  team_111  \\\n",
       "0              0.265612           -1.648980  0.002158  ...   0.00136   \n",
       "1              0.265612            0.071971  0.002158  ...   0.00136   \n",
       "2              0.265612            0.233429  0.002158  ...   0.00136   \n",
       "3             -2.061086            0.071971  0.002158  ...   0.00136   \n",
       "4              0.265612            0.233429  0.002158  ...   0.00136   \n",
       "\n",
       "   team_112  team_113  team_114  team_115  team_116  team_117  team_118  \\\n",
       "0  0.000734 -0.002367  0.003596 -0.009321  -0.00595  0.002385 -0.005982   \n",
       "1  0.000734 -0.002367  0.003596 -0.009321  -0.00595  0.002385 -0.005982   \n",
       "2  0.000734 -0.002367  0.003596 -0.009321  -0.00595 -0.688748 -0.005982   \n",
       "3  0.000734 -0.002367  0.003596 -0.009321  -0.00595  0.002385 -0.005982   \n",
       "4  0.000734 -0.002367  0.003596 -0.009321  -0.00595  0.002385 -0.005982   \n",
       "\n",
       "   team_119  treatability_score  \n",
       "0  0.000004            0.203616  \n",
       "1  0.000004           -1.403822  \n",
       "2  0.000004            1.578817  \n",
       "3  0.000004           -1.382666  \n",
       "4  0.000004           -8.433247  \n",
       "\n",
       "[5 rows x 129 columns]"
      ]
     },
     "execution_count": 63,
     "metadata": {},
     "output_type": "execute_result"
    }
   ],
   "source": [
    "df_all_patient_shap_values.head(5)"
   ]
  },
  {
   "cell_type": "markdown",
   "id": "63660651-d8fa-45ed-831b-367b1638bee1",
   "metadata": {},
   "source": [
    "## Compare treatability score with real-life treatment decision\n",
    "\n",
    "The original patient data includes whether the patients received thrombolysis. We can see whether a higher treatability score means a patient is more likely to receive thrombolysis.\n",
    "\n",
    "Create masks of whether or not patients received thrombolysis:"
   ]
  },
  {
   "cell_type": "code",
   "execution_count": 65,
   "id": "1f8c911e-a431-4ee8-a395-7d19dd7f114c",
   "metadata": {},
   "outputs": [],
   "source": [
    "mask_thrombolysed = (y_test == 1)\n",
    "mask_not_thrombolysed = (y_test != 1)"
   ]
  },
  {
   "cell_type": "markdown",
   "id": "fc60eb67-6926-45c8-8e05-29585611dca1",
   "metadata": {},
   "source": [
    "Create bins for the treatability scores:"
   ]
  },
  {
   "cell_type": "code",
   "execution_count": 66,
   "id": "074c0be4-f724-4f62-a97b-764ca953ad1a",
   "metadata": {},
   "outputs": [],
   "source": [
    "# Step between bins:\n",
    "step = 0.5\n",
    "\n",
    "# Bins with this step and a range spanning all scores:\n",
    "hist_bins = step * np.arange(\n",
    "    df_all_patient_shap_values['treatability_score'].min() // step,\n",
    "    2.0 + (df_all_patient_shap_values['treatability_score'].max() // step),\n",
    "    1\n",
    "    ) - (0.5 * step)\n",
    "# The final  - (0.5 * step) is included so that the middle of the bins\n",
    "# are multiples of step."
   ]
  },
  {
   "cell_type": "markdown",
   "id": "acce9c58-937f-45b4-ab43-df27e0d36c91",
   "metadata": {},
   "source": [
    "Bin sanity check:"
   ]
  },
  {
   "cell_type": "code",
   "execution_count": 67,
   "id": "63bbb27c-75e6-4d8a-abbc-5a5d1003912e",
   "metadata": {},
   "outputs": [
    {
     "name": "stdout",
     "output_type": "stream",
     "text": [
      "[-18.75 -18.25 -17.75]\n",
      "-18.75 3.75 46\n",
      "-18.006 3.586\n"
     ]
    }
   ],
   "source": [
    "print(hist_bins[:3])\n",
    "print(min(hist_bins), max(hist_bins), len(hist_bins))\n",
    "print(f'{df_all_patient_shap_values[\"treatability_score\"].min():.3f}', \n",
    "      f'{df_all_patient_shap_values[\"treatability_score\"].max():.3f}')"
   ]
  },
  {
   "cell_type": "markdown",
   "id": "460c53bf-b9e7-45b9-aff4-187cd8dcb1fc",
   "metadata": {},
   "source": [
    "Plot the number of patients in each score bin, split by whether they were treated:"
   ]
  },
  {
   "cell_type": "code",
   "execution_count": 68,
   "id": "582877a2-8ee7-41ca-b26e-f8f87ce2fe42",
   "metadata": {},
   "outputs": [
    {
     "data": {
      "image/png": "[encoded data removed]",
      "text/plain": [
       "<Figure size 640x480 with 1 Axes>"
      ]
     },
     "metadata": {},
     "output_type": "display_data"
    }
   ],
   "source": [
    "fig, ax = plt.subplots()\n",
    "\n",
    "n_thrombolysed, bins, patches = ax.hist(\n",
    "    df_all_patient_shap_values['treatability_score'][mask_thrombolysed], \n",
    "    bins=hist_bins, color='r', histtype='step', label='Thrombolysed')\n",
    "n_not_thrombolysed, bins, patches = ax.hist(\n",
    "    df_all_patient_shap_values['treatability_score'][mask_not_thrombolysed], \n",
    "    bins=hist_bins, color='b', histtype='step', label='Not thrombolysed')\n",
    "\n",
    "ax.set_xlabel('Treatability score')\n",
    "ax.set_ylabel('Number of patients')\n",
    "ax.legend()\n",
    "plt.show()"
   ]
  },
  {
   "cell_type": "markdown",
   "id": "d0b5341f-5dc1-458e-95d6-580c591b37ff",
   "metadata": {},
   "source": [
    "In this graph, the second peak below a treatability score of around minus 7 is due to the large negative SHAP value when infarction is \"yes\". This value is around minus 9:"
   ]
  },
  {
   "cell_type": "code",
   "execution_count": 69,
   "id": "46a021b8-da9c-4747-a03a-ba087ce48d32",
   "metadata": {},
   "outputs": [
    {
     "data": {
      "text/html": [
       "<div>\n",
       "<style scoped>\n",
       "    .dataframe tbody tr th:only-of-type {\n",
       "        vertical-align: middle;\n",
       "    }\n",
       "\n",
       "    .dataframe tbody tr th {\n",
       "        vertical-align: top;\n",
       "    }\n",
       "\n",
       "    .dataframe thead th {\n",
       "        text-align: right;\n",
       "    }\n",
       "</style>\n",
       "<table border=\"1\" class=\"dataframe\">\n",
       "  <thead>\n",
       "    <tr style=\"text-align: right;\">\n",
       "      <th></th>\n",
       "      <th>feature</th>\n",
       "      <th>feature_value</th>\n",
       "      <th>mean_shap</th>\n",
       "      <th>std_shap</th>\n",
       "    </tr>\n",
       "  </thead>\n",
       "  <tbody>\n",
       "    <tr>\n",
       "      <th>61</th>\n",
       "      <td>infarction</td>\n",
       "      <td>0</td>\n",
       "      <td>-9.228256</td>\n",
       "      <td>0.749845</td>\n",
       "    </tr>\n",
       "    <tr>\n",
       "      <th>62</th>\n",
       "      <td>infarction</td>\n",
       "      <td>1</td>\n",
       "      <td>0.341060</td>\n",
       "      <td>0.080366</td>\n",
       "    </tr>\n",
       "  </tbody>\n",
       "</table>\n",
       "</div>"
      ],
      "text/plain": [
       "       feature feature_value  mean_shap  std_shap\n",
       "61  infarction             0  -9.228256  0.749845\n",
       "62  infarction             1   0.341060  0.080366"
      ]
     },
     "execution_count": 69,
     "metadata": {},
     "output_type": "execute_result"
    }
   ],
   "source": [
    "df_shap_std[df_shap_std['feature'] == 'infarction']"
   ]
  },
  {
   "cell_type": "markdown",
   "id": "33f7a493-603f-4a4e-925b-6c4a03b7b794",
   "metadata": {},
   "source": [
    "## Convert to percentage thrombolysed"
   ]
  },
  {
   "cell_type": "markdown",
   "id": "9d9f2182-cf0e-48ef-ad4a-b4484641e022",
   "metadata": {},
   "source": [
    "The above histograms' outputs include the number of patients in each score bin. Use these to calculate the percentage of patients in each bin that were treated:"
   ]
  },
  {
   "cell_type": "code",
   "execution_count": 70,
   "id": "6d0d4474-89fc-46cf-b8fb-f36822a66f30",
   "metadata": {},
   "outputs": [],
   "source": [
    "perc_thrombolysed = 100.0 * n_thrombolysed / (n_thrombolysed + n_not_thrombolysed)"
   ]
  },
  {
   "cell_type": "markdown",
   "id": "62adbaf1-f1e7-4c40-a164-8a6969e63f87",
   "metadata": {},
   "source": [
    "For this plot, use the centre of each bin rather than the edges:"
   ]
  },
  {
   "cell_type": "code",
   "execution_count": 71,
   "id": "d472f21c-bc54-405c-b9fa-005b50883f7d",
   "metadata": {},
   "outputs": [],
   "source": [
    "hist_bins_mean = 0.5 * (hist_bins[:-1] +  hist_bins[1:])"
   ]
  },
  {
   "cell_type": "markdown",
   "id": "6ee9323f-7884-47d7-a633-f6e22a77f503",
   "metadata": {},
   "source": [
    "For comparing the data with a model, create a function that calculates the percentage treated by assuming that this value varies with increasing treatability score in the form of an expit function (a.k.a. a logistic sigmoid, the same as we use for mRS probability distributions varying with time). "
   ]
  },
  {
   "cell_type": "code",
   "execution_count": 72,
   "id": "7664332f-c0d3-4e35-ab35-ceacd7d60ca9",
   "metadata": {},
   "outputs": [],
   "source": [
    "from scipy.special import expit"
   ]
  },
  {
   "cell_type": "code",
   "execution_count": 96,
   "id": "e81b6c79-b1cc-435b-b3de-e6302862d27e",
   "metadata": {},
   "outputs": [],
   "source": [
    "def calculate_model_treatment_probability(x, x_50perc, slope):\n",
    "    # 100 * is for y-scale from range 0 to +1 to 0 to +100.\n",
    "    # Within expit, -x_50perc is for x-offset from centred on x=0 to x=x_50perc.\n",
    "    y_model = 100.0 * expit(slope * (x - x_50perc))\n",
    "    return y_model"
   ]
  },
  {
   "cell_type": "markdown",
   "id": "a8c244ac-34d3-4ae0-8927-7eb3fa1c7c3c",
   "metadata": {},
   "source": [
    "Plot the data with the model:"
   ]
  },
  {
   "cell_type": "code",
   "execution_count": 117,
   "id": "8be41517-a989-4376-88f4-baf15db212eb",
   "metadata": {},
   "outputs": [
    {
     "data": {
      "image/png": "[encoded data removed]",
      "text/plain": [
       "<Figure size 640x480 with 1 Axes>"
      ]
     },
     "metadata": {},
     "output_type": "display_data"
    }
   ],
   "source": [
    "fig, ax = plt.subplots()\n",
    "\n",
    "# Treatability score that gives 50% on the y-axis:\n",
    "x_50perc = 0.2  # eyeballed\n",
    "slope = 0.9  # eyeballed\n",
    "# base_probability = \n",
    "\n",
    "# Define y-coordinates for a model line.\n",
    "y_model = calculate_model_treatment_probability(hist_bins_mean, x_50perc, slope)\n",
    "# Data:\n",
    "ax.scatter(hist_bins_mean, perc_thrombolysed, label='Data')\n",
    "# Model:\n",
    "ax.plot(hist_bins_mean, y_model, label='Expit model')\n",
    "\n",
    "# Graph setup:\n",
    "ax.set_xlim(-5.1, 3.1)\n",
    "ax.set_xticks(np.arange(-5.0, 3.0, 0.25), minor=True)\n",
    "ax.set_yticks(np.arange(0.0, 100.1, 10))\n",
    "ax.grid()\n",
    "\n",
    "ax.set_xlabel('Treatability score')\n",
    "ax.set_ylabel('Percentage of patients\\nwho were treated')\n",
    "ax.legend()\n",
    "\n",
    "plt.show()"
   ]
  },
  {
   "cell_type": "markdown",
   "id": "80311211-ec1a-4f91-abca-c90fcf221511",
   "metadata": {},
   "source": [
    "View data points from the chart:"
   ]
  },
  {
   "cell_type": "code",
   "execution_count": 101,
   "id": "35742472-fa01-47ac-a59d-ae882f7e3b76",
   "metadata": {
    "scrolled": true
   },
   "outputs": [
    {
     "data": {
      "text/html": [
       "<div>\n",
       "<style scoped>\n",
       "    .dataframe tbody tr th:only-of-type {\n",
       "        vertical-align: middle;\n",
       "    }\n",
       "\n",
       "    .dataframe tbody tr th {\n",
       "        vertical-align: top;\n",
       "    }\n",
       "\n",
       "    .dataframe thead th {\n",
       "        text-align: right;\n",
       "    }\n",
       "</style>\n",
       "<table border=\"1\" class=\"dataframe\">\n",
       "  <thead>\n",
       "    <tr style=\"text-align: right;\">\n",
       "      <th></th>\n",
       "      <th>0</th>\n",
       "      <th>1</th>\n",
       "    </tr>\n",
       "  </thead>\n",
       "  <tbody>\n",
       "    <tr>\n",
       "      <th>0</th>\n",
       "      <td>-18.5</td>\n",
       "      <td>NaN</td>\n",
       "    </tr>\n",
       "    <tr>\n",
       "      <th>1</th>\n",
       "      <td>-18.0</td>\n",
       "      <td>0.000000</td>\n",
       "    </tr>\n",
       "    <tr>\n",
       "      <th>2</th>\n",
       "      <td>-17.5</td>\n",
       "      <td>0.000000</td>\n",
       "    </tr>\n",
       "    <tr>\n",
       "      <th>3</th>\n",
       "      <td>-17.0</td>\n",
       "      <td>0.000000</td>\n",
       "    </tr>\n",
       "    <tr>\n",
       "      <th>4</th>\n",
       "      <td>-16.5</td>\n",
       "      <td>NaN</td>\n",
       "    </tr>\n",
       "    <tr>\n",
       "      <th>5</th>\n",
       "      <td>-16.0</td>\n",
       "      <td>0.000000</td>\n",
       "    </tr>\n",
       "    <tr>\n",
       "      <th>6</th>\n",
       "      <td>-15.5</td>\n",
       "      <td>0.000000</td>\n",
       "    </tr>\n",
       "    <tr>\n",
       "      <th>7</th>\n",
       "      <td>-15.0</td>\n",
       "      <td>0.000000</td>\n",
       "    </tr>\n",
       "    <tr>\n",
       "      <th>8</th>\n",
       "      <td>-14.5</td>\n",
       "      <td>0.000000</td>\n",
       "    </tr>\n",
       "    <tr>\n",
       "      <th>9</th>\n",
       "      <td>-14.0</td>\n",
       "      <td>0.000000</td>\n",
       "    </tr>\n",
       "    <tr>\n",
       "      <th>10</th>\n",
       "      <td>-13.5</td>\n",
       "      <td>0.000000</td>\n",
       "    </tr>\n",
       "    <tr>\n",
       "      <th>11</th>\n",
       "      <td>-13.0</td>\n",
       "      <td>0.000000</td>\n",
       "    </tr>\n",
       "    <tr>\n",
       "      <th>12</th>\n",
       "      <td>-12.5</td>\n",
       "      <td>0.000000</td>\n",
       "    </tr>\n",
       "    <tr>\n",
       "      <th>13</th>\n",
       "      <td>-12.0</td>\n",
       "      <td>0.000000</td>\n",
       "    </tr>\n",
       "    <tr>\n",
       "      <th>14</th>\n",
       "      <td>-11.5</td>\n",
       "      <td>0.000000</td>\n",
       "    </tr>\n",
       "    <tr>\n",
       "      <th>15</th>\n",
       "      <td>-11.0</td>\n",
       "      <td>0.000000</td>\n",
       "    </tr>\n",
       "    <tr>\n",
       "      <th>16</th>\n",
       "      <td>-10.5</td>\n",
       "      <td>0.000000</td>\n",
       "    </tr>\n",
       "    <tr>\n",
       "      <th>17</th>\n",
       "      <td>-10.0</td>\n",
       "      <td>0.000000</td>\n",
       "    </tr>\n",
       "    <tr>\n",
       "      <th>18</th>\n",
       "      <td>-9.5</td>\n",
       "      <td>0.000000</td>\n",
       "    </tr>\n",
       "    <tr>\n",
       "      <th>19</th>\n",
       "      <td>-9.0</td>\n",
       "      <td>0.000000</td>\n",
       "    </tr>\n",
       "    <tr>\n",
       "      <th>20</th>\n",
       "      <td>-8.5</td>\n",
       "      <td>0.000000</td>\n",
       "    </tr>\n",
       "    <tr>\n",
       "      <th>21</th>\n",
       "      <td>-8.0</td>\n",
       "      <td>0.000000</td>\n",
       "    </tr>\n",
       "    <tr>\n",
       "      <th>22</th>\n",
       "      <td>-7.5</td>\n",
       "      <td>0.000000</td>\n",
       "    </tr>\n",
       "    <tr>\n",
       "      <th>23</th>\n",
       "      <td>-7.0</td>\n",
       "      <td>0.000000</td>\n",
       "    </tr>\n",
       "    <tr>\n",
       "      <th>24</th>\n",
       "      <td>-6.5</td>\n",
       "      <td>0.000000</td>\n",
       "    </tr>\n",
       "    <tr>\n",
       "      <th>25</th>\n",
       "      <td>-6.0</td>\n",
       "      <td>0.000000</td>\n",
       "    </tr>\n",
       "    <tr>\n",
       "      <th>26</th>\n",
       "      <td>-5.5</td>\n",
       "      <td>0.000000</td>\n",
       "    </tr>\n",
       "    <tr>\n",
       "      <th>27</th>\n",
       "      <td>-5.0</td>\n",
       "      <td>1.869159</td>\n",
       "    </tr>\n",
       "    <tr>\n",
       "      <th>28</th>\n",
       "      <td>-4.5</td>\n",
       "      <td>3.105590</td>\n",
       "    </tr>\n",
       "    <tr>\n",
       "      <th>29</th>\n",
       "      <td>-4.0</td>\n",
       "      <td>1.818182</td>\n",
       "    </tr>\n",
       "    <tr>\n",
       "      <th>30</th>\n",
       "      <td>-3.5</td>\n",
       "      <td>4.984424</td>\n",
       "    </tr>\n",
       "    <tr>\n",
       "      <th>31</th>\n",
       "      <td>-3.0</td>\n",
       "      <td>6.845966</td>\n",
       "    </tr>\n",
       "    <tr>\n",
       "      <th>32</th>\n",
       "      <td>-2.5</td>\n",
       "      <td>11.038961</td>\n",
       "    </tr>\n",
       "    <tr>\n",
       "      <th>33</th>\n",
       "      <td>-2.0</td>\n",
       "      <td>15.328467</td>\n",
       "    </tr>\n",
       "    <tr>\n",
       "      <th>34</th>\n",
       "      <td>-1.5</td>\n",
       "      <td>18.960245</td>\n",
       "    </tr>\n",
       "    <tr>\n",
       "      <th>35</th>\n",
       "      <td>-1.0</td>\n",
       "      <td>27.310924</td>\n",
       "    </tr>\n",
       "    <tr>\n",
       "      <th>36</th>\n",
       "      <td>-0.5</td>\n",
       "      <td>31.853786</td>\n",
       "    </tr>\n",
       "    <tr>\n",
       "      <th>37</th>\n",
       "      <td>0.0</td>\n",
       "      <td>45.130316</td>\n",
       "    </tr>\n",
       "    <tr>\n",
       "      <th>38</th>\n",
       "      <td>0.5</td>\n",
       "      <td>51.543210</td>\n",
       "    </tr>\n",
       "    <tr>\n",
       "      <th>39</th>\n",
       "      <td>1.0</td>\n",
       "      <td>63.439306</td>\n",
       "    </tr>\n",
       "    <tr>\n",
       "      <th>40</th>\n",
       "      <td>1.5</td>\n",
       "      <td>77.183099</td>\n",
       "    </tr>\n",
       "    <tr>\n",
       "      <th>41</th>\n",
       "      <td>2.0</td>\n",
       "      <td>85.714286</td>\n",
       "    </tr>\n",
       "    <tr>\n",
       "      <th>42</th>\n",
       "      <td>2.5</td>\n",
       "      <td>86.898396</td>\n",
       "    </tr>\n",
       "    <tr>\n",
       "      <th>43</th>\n",
       "      <td>3.0</td>\n",
       "      <td>88.513514</td>\n",
       "    </tr>\n",
       "    <tr>\n",
       "      <th>44</th>\n",
       "      <td>3.5</td>\n",
       "      <td>100.000000</td>\n",
       "    </tr>\n",
       "  </tbody>\n",
       "</table>\n",
       "</div>"
      ],
      "text/plain": [
       "       0           1\n",
       "0  -18.5         NaN\n",
       "1  -18.0    0.000000\n",
       "2  -17.5    0.000000\n",
       "3  -17.0    0.000000\n",
       "4  -16.5         NaN\n",
       "5  -16.0    0.000000\n",
       "6  -15.5    0.000000\n",
       "7  -15.0    0.000000\n",
       "8  -14.5    0.000000\n",
       "9  -14.0    0.000000\n",
       "10 -13.5    0.000000\n",
       "11 -13.0    0.000000\n",
       "12 -12.5    0.000000\n",
       "13 -12.0    0.000000\n",
       "14 -11.5    0.000000\n",
       "15 -11.0    0.000000\n",
       "16 -10.5    0.000000\n",
       "17 -10.0    0.000000\n",
       "18  -9.5    0.000000\n",
       "19  -9.0    0.000000\n",
       "20  -8.5    0.000000\n",
       "21  -8.0    0.000000\n",
       "22  -7.5    0.000000\n",
       "23  -7.0    0.000000\n",
       "24  -6.5    0.000000\n",
       "25  -6.0    0.000000\n",
       "26  -5.5    0.000000\n",
       "27  -5.0    1.869159\n",
       "28  -4.5    3.105590\n",
       "29  -4.0    1.818182\n",
       "30  -3.5    4.984424\n",
       "31  -3.0    6.845966\n",
       "32  -2.5   11.038961\n",
       "33  -2.0   15.328467\n",
       "34  -1.5   18.960245\n",
       "35  -1.0   27.310924\n",
       "36  -0.5   31.853786\n",
       "37   0.0   45.130316\n",
       "38   0.5   51.543210\n",
       "39   1.0   63.439306\n",
       "40   1.5   77.183099\n",
       "41   2.0   85.714286\n",
       "42   2.5   86.898396\n",
       "43   3.0   88.513514\n",
       "44   3.5  100.000000"
      ]
     },
     "execution_count": 101,
     "metadata": {},
     "output_type": "execute_result"
    }
   ],
   "source": [
    "pd.DataFrame([hist_bins_mean, perc_thrombolysed]).T"
   ]
  },
  {
   "cell_type": "markdown",
   "id": "5e1e3349-43b6-4888-b5d5-df34145bf075",
   "metadata": {},
   "source": [
    "## Convert scores to chance of being picked by np.choice\n",
    "\n",
    "Use the model to convert each patient's treatability score into a probability of treatment:"
   ]
  },
  {
   "cell_type": "code",
   "execution_count": 102,
   "id": "f7035018-09af-4aaa-a423-1d8cc318bf13",
   "metadata": {},
   "outputs": [],
   "source": [
    "all_model_treatability = calculate_model_treatment_probability(\n",
    "    df_all_patient_shap_values['treatability_score'], x_50perc, slope)"
   ]
  },
  {
   "cell_type": "markdown",
   "id": "51a6f88a-7c58-40c0-afbc-35c1af7c56fc",
   "metadata": {},
   "source": [
    "Place this new data into the existing SHAP value data frame:"
   ]
  },
  {
   "cell_type": "code",
   "execution_count": 103,
   "id": "fe7e9298-0eb1-463c-819c-6c35a94753de",
   "metadata": {},
   "outputs": [],
   "source": [
    "df_all_patient_shap_values['treatability_percentage_(model)'] = all_model_treatability"
   ]
  },
  {
   "cell_type": "code",
   "execution_count": 104,
   "id": "7e9692aa-05b5-4750-9f23-f5d7bf711049",
   "metadata": {},
   "outputs": [
    {
     "data": {
      "text/html": [
       "<div>\n",
       "<style scoped>\n",
       "    .dataframe tbody tr th:only-of-type {\n",
       "        vertical-align: middle;\n",
       "    }\n",
       "\n",
       "    .dataframe tbody tr th {\n",
       "        vertical-align: top;\n",
       "    }\n",
       "\n",
       "    .dataframe thead th {\n",
       "        text-align: right;\n",
       "    }\n",
       "</style>\n",
       "<table border=\"1\" class=\"dataframe\">\n",
       "  <thead>\n",
       "    <tr style=\"text-align: right;\">\n",
       "      <th></th>\n",
       "      <th>0</th>\n",
       "      <th>1</th>\n",
       "      <th>2</th>\n",
       "      <th>3</th>\n",
       "      <th>4</th>\n",
       "    </tr>\n",
       "  </thead>\n",
       "  <tbody>\n",
       "    <tr>\n",
       "      <th>stroke_severity</th>\n",
       "      <td>0.475304</td>\n",
       "      <td>-1.625403</td>\n",
       "      <td>0.844426</td>\n",
       "      <td>0.736321</td>\n",
       "      <td>0.914569</td>\n",
       "    </tr>\n",
       "    <tr>\n",
       "      <th>prior_disability</th>\n",
       "      <td>0.363717</td>\n",
       "      <td>-0.601054</td>\n",
       "      <td>0.363717</td>\n",
       "      <td>-0.026161</td>\n",
       "      <td>-0.601054</td>\n",
       "    </tr>\n",
       "    <tr>\n",
       "      <th>age</th>\n",
       "      <td>0.095047</td>\n",
       "      <td>-0.455455</td>\n",
       "      <td>0.095047</td>\n",
       "      <td>-0.455455</td>\n",
       "      <td>0.059954</td>\n",
       "    </tr>\n",
       "    <tr>\n",
       "      <th>infarction</th>\n",
       "      <td>0.341060</td>\n",
       "      <td>0.341060</td>\n",
       "      <td>0.341060</td>\n",
       "      <td>0.341060</td>\n",
       "      <td>-9.228256</td>\n",
       "    </tr>\n",
       "    <tr>\n",
       "      <th>onset_to_arrival_time</th>\n",
       "      <td>-0.205125</td>\n",
       "      <td>-0.409409</td>\n",
       "      <td>-0.205125</td>\n",
       "      <td>0.197819</td>\n",
       "      <td>-0.205125</td>\n",
       "    </tr>\n",
       "    <tr>\n",
       "      <th>...</th>\n",
       "      <td>...</td>\n",
       "      <td>...</td>\n",
       "      <td>...</td>\n",
       "      <td>...</td>\n",
       "      <td>...</td>\n",
       "    </tr>\n",
       "    <tr>\n",
       "      <th>team_117</th>\n",
       "      <td>0.002385</td>\n",
       "      <td>0.002385</td>\n",
       "      <td>-0.688748</td>\n",
       "      <td>0.002385</td>\n",
       "      <td>0.002385</td>\n",
       "    </tr>\n",
       "    <tr>\n",
       "      <th>team_118</th>\n",
       "      <td>-0.005982</td>\n",
       "      <td>-0.005982</td>\n",
       "      <td>-0.005982</td>\n",
       "      <td>-0.005982</td>\n",
       "      <td>-0.005982</td>\n",
       "    </tr>\n",
       "    <tr>\n",
       "      <th>team_119</th>\n",
       "      <td>0.000004</td>\n",
       "      <td>0.000004</td>\n",
       "      <td>0.000004</td>\n",
       "      <td>0.000004</td>\n",
       "      <td>0.000004</td>\n",
       "    </tr>\n",
       "    <tr>\n",
       "      <th>treatability_score</th>\n",
       "      <td>0.203616</td>\n",
       "      <td>-1.403822</td>\n",
       "      <td>1.578817</td>\n",
       "      <td>-1.382666</td>\n",
       "      <td>-8.433247</td>\n",
       "    </tr>\n",
       "    <tr>\n",
       "      <th>treatability_percentage_(model)</th>\n",
       "      <td>50.081354</td>\n",
       "      <td>19.101320</td>\n",
       "      <td>77.572682</td>\n",
       "      <td>19.397288</td>\n",
       "      <td>0.042207</td>\n",
       "    </tr>\n",
       "  </tbody>\n",
       "</table>\n",
       "<p>130 rows × 5 columns</p>\n",
       "</div>"
      ],
      "text/plain": [
       "                                         0          1          2          3  \\\n",
       "stroke_severity                   0.475304  -1.625403   0.844426   0.736321   \n",
       "prior_disability                  0.363717  -0.601054   0.363717  -0.026161   \n",
       "age                               0.095047  -0.455455   0.095047  -0.455455   \n",
       "infarction                        0.341060   0.341060   0.341060   0.341060   \n",
       "onset_to_arrival_time            -0.205125  -0.409409  -0.205125   0.197819   \n",
       "...                                    ...        ...        ...        ...   \n",
       "team_117                          0.002385   0.002385  -0.688748   0.002385   \n",
       "team_118                         -0.005982  -0.005982  -0.005982  -0.005982   \n",
       "team_119                          0.000004   0.000004   0.000004   0.000004   \n",
       "treatability_score                0.203616  -1.403822   1.578817  -1.382666   \n",
       "treatability_percentage_(model)  50.081354  19.101320  77.572682  19.397288   \n",
       "\n",
       "                                        4  \n",
       "stroke_severity                  0.914569  \n",
       "prior_disability                -0.601054  \n",
       "age                              0.059954  \n",
       "infarction                      -9.228256  \n",
       "onset_to_arrival_time           -0.205125  \n",
       "...                                   ...  \n",
       "team_117                         0.002385  \n",
       "team_118                        -0.005982  \n",
       "team_119                         0.000004  \n",
       "treatability_score              -8.433247  \n",
       "treatability_percentage_(model)  0.042207  \n",
       "\n",
       "[130 rows x 5 columns]"
      ]
     },
     "execution_count": 104,
     "metadata": {},
     "output_type": "execute_result"
    }
   ],
   "source": [
    "df_all_patient_shap_values.head(5).T"
   ]
  },
  {
   "cell_type": "markdown",
   "id": "fe6491d5-a265-4e75-be94-caba8fc3d2c3",
   "metadata": {},
   "source": [
    "Take the first 1000 patients in the list."
   ]
  },
  {
   "cell_type": "code",
   "execution_count": 105,
   "id": "a4dd3a0f-6508-4d38-ae69-4e8560168ea9",
   "metadata": {},
   "outputs": [],
   "source": [
    "n_subset = 1000"
   ]
  },
  {
   "cell_type": "code",
   "execution_count": 106,
   "id": "7f925acc-5366-4d64-a45f-acd00c826db5",
   "metadata": {},
   "outputs": [],
   "source": [
    "df_treatability = pd.DataFrame()\n",
    "df_treatability['treatability_percentage_(model)'] = df_all_patient_shap_values['treatability_percentage_(model)'][:n_subset]"
   ]
  },
  {
   "cell_type": "markdown",
   "id": "49a4d59b-78c7-4965-b9dd-a28606f7d5e4",
   "metadata": {},
   "source": [
    "Normalise and divide by sum to get a series of values that add to one:"
   ]
  },
  {
   "cell_type": "code",
   "execution_count": 107,
   "id": "c31097ea-aba6-4b68-a51d-34627cf86106",
   "metadata": {},
   "outputs": [],
   "source": [
    "# Rename the array for easier reading:\n",
    "modelled_treatability_percs = df_treatability['treatability_percentage_(model)']\n",
    "\n",
    "# Normalise:\n",
    "modelled_treatability_norm = (\n",
    "    (modelled_treatability_percs - modelled_treatability_percs.min()) / \n",
    "    (modelled_treatability_percs.max() - modelled_treatability_percs.min())\n",
    "    )\n",
    "\n",
    "# Divide by sum:\n",
    "modelled_treatability_relative_chance = (\n",
    "    modelled_treatability_norm / modelled_treatability_norm.sum())\n",
    "\n",
    "# Store in dataframe:\n",
    "df_treatability['relative_chance'] = modelled_treatability_relative_chance"
   ]
  },
  {
   "cell_type": "markdown",
   "id": "bd0c16a3-5e61-4f62-9801-27bf18e9ddbd",
   "metadata": {},
   "source": [
    "Also rank the patients in order of likeliness of being treated:"
   ]
  },
  {
   "cell_type": "code",
   "execution_count": 108,
   "id": "e23c1a00-e28d-43b3-835c-7f6baa7052e7",
   "metadata": {},
   "outputs": [],
   "source": [
    "df_treatability = df_treatability.sort_values('treatability_percentage_(model)', ascending=False)\n",
    "\n",
    "df_treatability['rank'] = np.arange(len(df_treatability))"
   ]
  },
  {
   "cell_type": "markdown",
   "id": "401469b1-6b92-4913-b528-baec4bd7f90e",
   "metadata": {},
   "source": [
    "View the dataframe:"
   ]
  },
  {
   "cell_type": "code",
   "execution_count": 109,
   "id": "564f18dd-ecd5-4d2b-97d1-8b5d44682680",
   "metadata": {},
   "outputs": [
    {
     "data": {
      "text/html": [
       "<div>\n",
       "<style scoped>\n",
       "    .dataframe tbody tr th:only-of-type {\n",
       "        vertical-align: middle;\n",
       "    }\n",
       "\n",
       "    .dataframe tbody tr th {\n",
       "        vertical-align: top;\n",
       "    }\n",
       "\n",
       "    .dataframe thead th {\n",
       "        text-align: right;\n",
       "    }\n",
       "</style>\n",
       "<table border=\"1\" class=\"dataframe\">\n",
       "  <thead>\n",
       "    <tr style=\"text-align: right;\">\n",
       "      <th></th>\n",
       "      <th>treatability_percentage_(model)</th>\n",
       "      <th>relative_chance</th>\n",
       "      <th>rank</th>\n",
       "    </tr>\n",
       "  </thead>\n",
       "  <tbody>\n",
       "    <tr>\n",
       "      <th>448</th>\n",
       "      <td>93.604423</td>\n",
       "      <td>2.683058e-03</td>\n",
       "      <td>0</td>\n",
       "    </tr>\n",
       "    <tr>\n",
       "      <th>192</th>\n",
       "      <td>93.496389</td>\n",
       "      <td>2.679962e-03</td>\n",
       "      <td>1</td>\n",
       "    </tr>\n",
       "    <tr>\n",
       "      <th>147</th>\n",
       "      <td>93.474447</td>\n",
       "      <td>2.679333e-03</td>\n",
       "      <td>2</td>\n",
       "    </tr>\n",
       "    <tr>\n",
       "      <th>528</th>\n",
       "      <td>93.416662</td>\n",
       "      <td>2.677676e-03</td>\n",
       "      <td>3</td>\n",
       "    </tr>\n",
       "    <tr>\n",
       "      <th>700</th>\n",
       "      <td>93.174031</td>\n",
       "      <td>2.670721e-03</td>\n",
       "      <td>4</td>\n",
       "    </tr>\n",
       "    <tr>\n",
       "      <th>...</th>\n",
       "      <td>...</td>\n",
       "      <td>...</td>\n",
       "      <td>...</td>\n",
       "    </tr>\n",
       "    <tr>\n",
       "      <th>537</th>\n",
       "      <td>0.000277</td>\n",
       "      <td>5.864130e-09</td>\n",
       "      <td>995</td>\n",
       "    </tr>\n",
       "    <tr>\n",
       "      <th>53</th>\n",
       "      <td>0.000228</td>\n",
       "      <td>4.466191e-09</td>\n",
       "      <td>996</td>\n",
       "    </tr>\n",
       "    <tr>\n",
       "      <th>729</th>\n",
       "      <td>0.000168</td>\n",
       "      <td>2.744756e-09</td>\n",
       "      <td>997</td>\n",
       "    </tr>\n",
       "    <tr>\n",
       "      <th>921</th>\n",
       "      <td>0.000131</td>\n",
       "      <td>1.685272e-09</td>\n",
       "      <td>998</td>\n",
       "    </tr>\n",
       "    <tr>\n",
       "      <th>616</th>\n",
       "      <td>0.000072</td>\n",
       "      <td>0.000000e+00</td>\n",
       "      <td>999</td>\n",
       "    </tr>\n",
       "  </tbody>\n",
       "</table>\n",
       "<p>1000 rows × 3 columns</p>\n",
       "</div>"
      ],
      "text/plain": [
       "     treatability_percentage_(model)  relative_chance  rank\n",
       "448                        93.604423     2.683058e-03     0\n",
       "192                        93.496389     2.679962e-03     1\n",
       "147                        93.474447     2.679333e-03     2\n",
       "528                        93.416662     2.677676e-03     3\n",
       "700                        93.174031     2.670721e-03     4\n",
       "..                               ...              ...   ...\n",
       "537                         0.000277     5.864130e-09   995\n",
       "53                          0.000228     4.466191e-09   996\n",
       "729                         0.000168     2.744756e-09   997\n",
       "921                         0.000131     1.685272e-09   998\n",
       "616                         0.000072     0.000000e+00   999\n",
       "\n",
       "[1000 rows x 3 columns]"
      ]
     },
     "execution_count": 109,
     "metadata": {},
     "output_type": "execute_result"
    }
   ],
   "source": [
    "df_treatability"
   ]
  },
  {
   "cell_type": "markdown",
   "id": "1e4c1824-2d57-409e-8d0b-c9aa84da647b",
   "metadata": {},
   "source": [
    "A minor limitation of this method is that the final patient in the list has a 0% chance of being picked."
   ]
  },
  {
   "cell_type": "markdown",
   "id": "8b6849f0-cd9d-4d24-8ec6-40641ba39385",
   "metadata": {},
   "source": [
    "## Run trials of selecting patients for treatment\n",
    "\n",
    "Run several trials of picking out 100 patients (10%) and see how this compares with their treatability score."
   ]
  },
  {
   "cell_type": "code",
   "execution_count": 110,
   "id": "10754a31-e99f-482a-bbef-f5722ee99ac5",
   "metadata": {},
   "outputs": [],
   "source": [
    "n_picked = 100\n",
    "n_trials = 10"
   ]
  },
  {
   "cell_type": "markdown",
   "id": "18144d3e-f83e-4e90-b9d9-5f0c861beb0d",
   "metadata": {},
   "source": [
    "We'll select patients using their index values from the dataframe:"
   ]
  },
  {
   "cell_type": "code",
   "execution_count": 111,
   "id": "8a728259-8127-421f-8a8b-7035361a0be5",
   "metadata": {},
   "outputs": [],
   "source": [
    "inds = modelled_treatability_relative_chance.index.values"
   ]
  },
  {
   "cell_type": "markdown",
   "id": "e9b6ce01-a97e-44da-a2bb-d8651fa48183",
   "metadata": {},
   "source": [
    "The following cell runs the trials. The method is:\n",
    "\n",
    "1. Use `np.choice` to select patients. The values selected are the index values of the DataFrame. The probability of being selected is not the same for all patients, but instead we weight the likeliness of being selected using the `relative_chance` calculated earlier.\n",
    "2. Create boolean array to keep track of whether patients were picked.\n",
    "3. Plot histograms of the picked patients' treatability percentages and their ranks in the ordered list of likeliness of being picked."
   ]
  },
  {
   "cell_type": "code",
   "execution_count": 112,
   "id": "e08eff20-b8a7-4760-a921-0276db6f1539",
   "metadata": {},
   "outputs": [
    {
     "data": {
      "image/png": "[encoded data removed]",
      "text/plain": [
       "<Figure size 800x400 with 2 Axes>"
      ]
     },
     "metadata": {},
     "output_type": "display_data"
    },
    {
     "data": {
      "image/png": "[encoded data removed]",
      "text/plain": [
       "<Figure size 800x400 with 2 Axes>"
      ]
     },
     "metadata": {},
     "output_type": "display_data"
    },
    {
     "data": {
      "image/png": "[encoded data removed]",
      "text/plain": [
       "<Figure size 800x400 with 2 Axes>"
      ]
     },
     "metadata": {},
     "output_type": "display_data"
    },
    {
     "data": {
      "image/png": "[encoded data removed]",
      "text/plain": [
       "<Figure size 800x400 with 2 Axes>"
      ]
     },
     "metadata": {},
     "output_type": "display_data"
    },
    {
     "data": {
      "image/png": "[encoded data removed]",
      "text/plain": [
       "<Figure size 800x400 with 2 Axes>"
      ]
     },
     "metadata": {},
     "output_type": "display_data"
    },
    {
     "data": {
      "image/png": "[encoded data removed]",
      "text/plain": [
       "<Figure size 800x400 with 2 Axes>"
      ]
     },
     "metadata": {},
     "output_type": "display_data"
    },
    {
     "data": {
      "image/png": "[encoded data removed]",
      "text/plain": [
       "<Figure size 800x400 with 2 Axes>"
      ]
     },
     "metadata": {},
     "output_type": "display_data"
    },
    {
     "data": {
      "image/png": "[encoded data removed]",
      "text/plain": [
       "<Figure size 800x400 with 2 Axes>"
      ]
     },
     "metadata": {},
     "output_type": "display_data"
    },
    {
     "data": {
      "image/png": "[encoded data removed]",
      "text/plain": [
       "<Figure size 800x400 with 2 Axes>"
      ]
     },
     "metadata": {},
     "output_type": "display_data"
    },
    {
     "data": {
      "image/png": "[encoded data removed]",
      "text/plain": [
       "<Figure size 800x400 with 2 Axes>"
      ]
     },
     "metadata": {},
     "output_type": "display_data"
    }
   ],
   "source": [
    "np.random.seed(42)\n",
    "\n",
    "for t in range(n_trials):\n",
    "    # Find indices of the selected patients.\n",
    "    picked_patients = np.random.choice(\n",
    "        inds, size=n_picked, replace=False, p=df_treatability['relative_chance'])\n",
    "\n",
    "    # Create boolean array to track whether patients were picked.\n",
    "    picked_bool = np.full(inds.shape, 0)\n",
    "    picked_bool[picked_patients] = 1\n",
    "\n",
    "    # Create bins to place the picked patients' values into\n",
    "    # so that the histgorams are consistent across trials.\n",
    "    treatability_hist_bins = np.arange(0.0, 100.1, 10)\n",
    "    rank_hist_bins = np.arange(0, n_subset, 0.1*n_subset)\n",
    "\n",
    "    # Plot the results.\n",
    "    fig, axs = plt.subplots(1, 2, figsize=(8, 4))\n",
    "\n",
    "    axs[0].hist(\n",
    "        df_treatability['treatability_percentage_(model)'][picked_bool == 1],\n",
    "        bins=treatability_hist_bins\n",
    "        )\n",
    "    axs[1].hist(df_treatability['rank'][picked_bool == 1], \n",
    "                bins=rank_hist_bins)\n",
    "\n",
    "    axs[0].set_xlabel('Treatability score (%)')\n",
    "    axs[0].set_ylabel('Number picked')\n",
    "    axs[1].set_xlabel('Rank')\n",
    "    axs[1].set_ylabel('Number picked')\n",
    "\n",
    "    axs[0].set_xlim(0, 100)\n",
    "    axs[1].set_xlim(0, 1000)\n",
    "    plt.show()\n",
    "    plt.close()"
   ]
  },
  {
   "cell_type": "markdown",
   "id": "3b7ef600-2899-4c18-9a79-58d28dbce73d",
   "metadata": {},
   "source": [
    "Most of the patients picked have higher treatability scores and so lower ranks in the list. However, the spread of patients is greater than only picking the top 100 most treatable would have been."
   ]
  }
 ],
 "metadata": {
  "kernelspec": {
   "display_name": "Python 3 (ipykernel)",
   "language": "python",
   "name": "python3"
  },
  "language_info": {
   "codemirror_mode": {
    "name": "ipython",
    "version": 3
   },
   "file_extension": ".py",
   "mimetype": "text/x-python",
   "name": "python",
   "nbconvert_exporter": "python",
   "pygments_lexer": "ipython3",
   "version": "3.9.17"
  }
 },
 "nbformat": 4,
 "nbformat_minor": 5
}
