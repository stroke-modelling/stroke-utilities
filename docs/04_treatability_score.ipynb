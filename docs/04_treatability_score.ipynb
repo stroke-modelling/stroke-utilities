{
 "cells": [
  {
   "cell_type": "markdown",
   "id": "29c1fe44-975f-4672-9959-358104b2c0e4",
   "metadata": {},
   "source": [
    "# Treatability scores\n",
    "\n",
    "__WORK IN PROGRESS__ - reinventing the wheel?\n",
    "\n",
    "Get SHAP values, combine them to get a score for each patient. Measures how easily treatable they are."
   ]
  },
  {
   "cell_type": "markdown",
   "id": "3e0ed785-ed33-44fc-9cc8-6e703e4ad684",
   "metadata": {},
   "source": [
    "## Notebook setup:"
   ]
  },
  {
   "cell_type": "code",
   "execution_count": 11,
   "id": "251ef9bb-574d-415e-9d6e-426588d0f914",
   "metadata": {},
   "outputs": [],
   "source": [
    "import pandas as pd\n",
    "import numpy as np\n",
    "import pickle\n",
    "from dataclasses import dataclass\n",
    "import yaml\n",
    "\n",
    "import matplotlib.pyplot as plt\n",
    "\n",
    "import stroke_utilities.process_data as process_data"
   ]
  },
  {
   "cell_type": "code",
   "execution_count": 18,
   "id": "538eb84b-ee6c-4609-a1d9-8254e635945d",
   "metadata": {},
   "outputs": [],
   "source": [
    "\n",
    "\n",
    "# Turn warnings off to keep notebook tidy\n",
    "import warnings\n",
    "warnings.filterwarnings(\"ignore\")\n",
    "\n",
    "import numpy as np\n",
    "import pandas as pd\n",
    "import matplotlib.pyplot as plt\n",
    "\n",
    "# Import machine learning methods\n",
    "from xgboost import XGBClassifier\n",
    "\n",
    "from os.path import exists\n",
    "\n",
    "import shap\n",
    "\n",
    "from scipy import stats\n",
    "\n",
    "import os\n",
    "import pickle\n",
    "import json\n",
    "\n",
    "# .floor and .ceil\n",
    "import math\n",
    "\n",
    "# So can take deep copy\n",
    "import copy\n",
    "\n"
   ]
  },
  {
   "cell_type": "markdown",
   "id": "8d000fd1-52b5-4c1e-8c21-5131eb124f5a",
   "metadata": {},
   "source": [
    "## Set up paths and filenames"
   ]
  },
  {
   "cell_type": "code",
   "execution_count": 5,
   "id": "12b116aa-b2c0-4e3d-8c71-a99d9b830101",
   "metadata": {},
   "outputs": [],
   "source": [
    "@dataclass(frozen=True)\n",
    "class Paths:\n",
    "    '''Singleton object for storing paths to data and database.'''\n",
    "\n",
    "    data_read_path: str = './stroke_utilities/data/'\n",
    "    output_folder = './stroke_utilities/output/'\n",
    "    model_folder = './stroke_utilities/models'\n",
    "\n",
    "paths = Paths()"
   ]
  },
  {
   "cell_type": "code",
   "execution_count": 27,
   "id": "25dee20e-81e3-4fa3-bbbe-8c1d15b07cea",
   "metadata": {},
   "outputs": [],
   "source": [
    "# Set up strings (describing the model) to use in filenames\n",
    "number_of_features_to_use = 10\n",
    "model_text = f'xgb_{number_of_features_to_use}_features'\n",
    "notebook = '04'"
   ]
  },
  {
   "cell_type": "markdown",
   "id": "1c6f11ed-e898-4f42-a351-d2eaf9c2819c",
   "metadata": {},
   "source": [
    "## Import SHAP explainer"
   ]
  },
  {
   "cell_type": "code",
   "execution_count": 6,
   "id": "c57ed975-d811-4ed4-871d-9d06f1da1b38",
   "metadata": {},
   "outputs": [],
   "source": [
    "with open(f'{paths.model_folder}/shap_explainer.p', 'rb') as fp:\n",
    "    explainer = pickle.load(fp)"
   ]
  },
  {
   "attachments": {},
   "cell_type": "markdown",
   "id": "3c8bf201-f391-4385-b894-2e33197450d8",
   "metadata": {},
   "source": [
    "## Load data\n",
    "\n",
    "Import the data from file:"
   ]
  },
  {
   "cell_type": "code",
   "execution_count": 7,
   "id": "0352117e-f8b6-489f-99cf-2e9d3c9cccf9",
   "metadata": {},
   "outputs": [],
   "source": [
    "# Load data\n",
    "test = pd.read_csv(paths.data_read_path + 'cohort_10000_test.csv')\n",
    "test['stroke_team_id'] = test['stroke_team_id'].astype('category')"
   ]
  },
  {
   "cell_type": "markdown",
   "id": "add4d45e-ee01-4f5c-b32f-b5d03cec9b7a",
   "metadata": {},
   "source": [
    "## Process data\n",
    "\n",
    "Restrict the data to the following ten features, plus the \"thrombolysis\" feature."
   ]
  },
  {
   "cell_type": "code",
   "execution_count": 8,
   "id": "f67235f5-e031-4e2c-84bc-9e32204180f0",
   "metadata": {
    "tags": []
   },
   "outputs": [],
   "source": [
    "# Put data into the format for model\n",
    "features_to_model = [\n",
    "    'stroke_team_id',\n",
    "    'stroke_severity',\n",
    "    'prior_disability',\n",
    "    'age',\n",
    "    'infarction',\n",
    "    'onset_to_arrival_time',\n",
    "    'precise_onset_known',\n",
    "    'onset_during_sleep',\n",
    "    'arrival_to_scan_time',\n",
    "    'afib_anticoagulant',\n",
    "    # 'year',    \n",
    "    'thrombolysis'\n",
    "]"
   ]
  },
  {
   "cell_type": "code",
   "execution_count": 9,
   "id": "33d5e160-09e4-4b69-83b5-6d77fa6bb157",
   "metadata": {
    "tags": []
   },
   "outputs": [],
   "source": [
    "test = test[features_to_model]"
   ]
  },
  {
   "cell_type": "markdown",
   "id": "270709d1-8f3e-475b-9be3-b3ad2a182e95",
   "metadata": {},
   "source": [
    "If the year of admission to stroke team is still in the data, restrict it to the following range.\n",
    "\n",
    "Currently this process does nothing because we have already removed \"year\" from the data."
   ]
  },
  {
   "cell_type": "code",
   "execution_count": 12,
   "id": "a11054dd-a866-4768-a7e2-549f1dad9355",
   "metadata": {},
   "outputs": [],
   "source": [
    "test = process_data.restrict_data_to_range(test, 2016, 2018, 'year')"
   ]
  },
  {
   "cell_type": "markdown",
   "id": "ae8796ab-f1a8-47c9-aced-a3a41173ed88",
   "metadata": {},
   "source": [
    "Split the data. X contains the features for the model to use to predict use of thrombolysis, and y contains whether thrombolysis was used in the real data."
   ]
  },
  {
   "cell_type": "code",
   "execution_count": 13,
   "id": "05c4a46a-90c0-4962-a93f-c8e3a4ea1fef",
   "metadata": {},
   "outputs": [],
   "source": [
    "X_test, y_test = process_data.split_X_and_y(test, 'thrombolysis')"
   ]
  },
  {
   "cell_type": "markdown",
   "id": "1610f388-bbe2-4411-91c0-efaf6131bc73",
   "metadata": {},
   "source": [
    "Check the list of features currently included in the X data:"
   ]
  },
  {
   "cell_type": "code",
   "execution_count": 14,
   "id": "a32dff47-23b2-4061-98b8-267a86d4d0ec",
   "metadata": {},
   "outputs": [
    {
     "data": {
      "text/plain": [
       "['stroke_team_id',\n",
       " 'stroke_severity',\n",
       " 'prior_disability',\n",
       " 'age',\n",
       " 'infarction',\n",
       " 'onset_to_arrival_time',\n",
       " 'precise_onset_known',\n",
       " 'onset_during_sleep',\n",
       " 'arrival_to_scan_time',\n",
       " 'afib_anticoagulant']"
      ]
     },
     "execution_count": 14,
     "metadata": {},
     "output_type": "execute_result"
    }
   ],
   "source": [
    "features = list(X_test)\n",
    "\n",
    "features"
   ]
  },
  {
   "cell_type": "markdown",
   "id": "1c519ff1-a251-4a18-9c16-490490762e33",
   "metadata": {},
   "source": [
    "For the XGBoost model, we need to change the single \"stroke team ID\" column to many individual team columns. For 119 separate teams, we will create 119 new columns. Each column may contain either 1 (meaning \"yes\") where a patient attended that stroke team, or 0 (meaning \"no\") where the patient did not attend that stroke team."
   ]
  },
  {
   "cell_type": "code",
   "execution_count": 15,
   "id": "9d54c3b1-4df1-4d58-b291-eb07883572ed",
   "metadata": {},
   "outputs": [],
   "source": [
    "X_test = process_data.one_hot_encode_column(\n",
    "    X_test, 'stroke_team_id', prefix='team')"
   ]
  },
  {
   "cell_type": "markdown",
   "id": "4255c9dc-f37d-4881-b00f-0052380db80f",
   "metadata": {},
   "source": [
    "Check that the \"stroke_team_id\" column has gone and that there are now many \"team_\" columns."
   ]
  },
  {
   "cell_type": "code",
   "execution_count": 21,
   "id": "4fb67730-bca4-4e12-8271-7c36c1db6fb3",
   "metadata": {},
   "outputs": [
    {
     "name": "stdout",
     "output_type": "stream",
     "text": [
      "['stroke_severity', 'prior_disability', 'age', 'infarction', 'onset_to_arrival_time', 'precise_onset_known', 'onset_during_sleep', 'arrival_to_scan_time', 'afib_anticoagulant', 'team_1', 'team_2', 'team_3', 'team_4', 'team_5', 'team_6']\n",
      "['team_117', 'team_118', 'team_119']\n"
     ]
    }
   ],
   "source": [
    "# Get features\n",
    "feature_names_ohe = list(X_test)\n",
    "\n",
    "# Print the first several...\n",
    "print(feature_names_ohe[:15])\n",
    "# ... and last few feature names:\n",
    "print(feature_names_ohe[-3:])\n",
    "# The remaining features are all \"team_X\" for increasing X."
   ]
  },
  {
   "cell_type": "markdown",
   "id": "3886997d-49b3-462b-83ac-583c98dadcec",
   "metadata": {},
   "source": [
    "## Create SHAP values for the test data: log-odds units\n",
    "\n",
    "Pass the X_test data to the explainer object:"
   ]
  },
  {
   "cell_type": "code",
   "execution_count": 17,
   "id": "30e89116-7dcf-42c8-abe9-b8e16fe4e97d",
   "metadata": {},
   "outputs": [
    {
     "name": "stderr",
     "output_type": "stream",
     "text": [
      "ntree_limit is deprecated, use `iteration_range` or model slicing instead.\n"
     ]
    }
   ],
   "source": [
    "shap_values_extended = explainer(X_test)\n",
    "shap_values = explainer.shap_values(X_test)"
   ]
  },
  {
   "cell_type": "markdown",
   "id": "5916bb89-8b48-4cb2-a0f7-33d170225373",
   "metadata": {},
   "source": [
    "## Setup for box plots\n",
    "\n",
    "The code is copied from https://github.com/samuel-book/samuel_shap_paper_1/blob/main/xgb_10_features/03a_xgb_all_data_shap_values_vs_feature_values.ipynb"
   ]
  },
  {
   "cell_type": "code",
   "execution_count": 22,
   "id": "cd117be2-e261-4c37-99e4-71b39d6ccdc5",
   "metadata": {},
   "outputs": [
    {
     "data": {
      "text/html": [
       "<div>\n",
       "<style scoped>\n",
       "    .dataframe tbody tr th:only-of-type {\n",
       "        vertical-align: middle;\n",
       "    }\n",
       "\n",
       "    .dataframe tbody tr th {\n",
       "        vertical-align: top;\n",
       "    }\n",
       "\n",
       "    .dataframe thead th {\n",
       "        text-align: right;\n",
       "    }\n",
       "</style>\n",
       "<table border=\"1\" class=\"dataframe\">\n",
       "  <thead>\n",
       "    <tr style=\"text-align: right;\">\n",
       "      <th></th>\n",
       "      <th>mean_shap</th>\n",
       "      <th>abs_mean_shap</th>\n",
       "      <th>mean_abs_shap</th>\n",
       "      <th>rank</th>\n",
       "    </tr>\n",
       "  </thead>\n",
       "  <tbody>\n",
       "    <tr>\n",
       "      <th>infarction</th>\n",
       "      <td>-1.103923</td>\n",
       "      <td>1.103923</td>\n",
       "      <td>1.711107</td>\n",
       "      <td>1.0</td>\n",
       "    </tr>\n",
       "    <tr>\n",
       "      <th>stroke_severity</th>\n",
       "      <td>-0.102933</td>\n",
       "      <td>0.102933</td>\n",
       "      <td>0.927903</td>\n",
       "      <td>2.0</td>\n",
       "    </tr>\n",
       "    <tr>\n",
       "      <th>precise_onset_known</th>\n",
       "      <td>-0.035485</td>\n",
       "      <td>0.035485</td>\n",
       "      <td>0.502079</td>\n",
       "      <td>3.0</td>\n",
       "    </tr>\n",
       "    <tr>\n",
       "      <th>arrival_to_scan_time</th>\n",
       "      <td>-0.078830</td>\n",
       "      <td>0.078830</td>\n",
       "      <td>0.432781</td>\n",
       "      <td>4.0</td>\n",
       "    </tr>\n",
       "    <tr>\n",
       "      <th>prior_disability</th>\n",
       "      <td>0.000895</td>\n",
       "      <td>0.000895</td>\n",
       "      <td>0.395190</td>\n",
       "      <td>5.0</td>\n",
       "    </tr>\n",
       "    <tr>\n",
       "      <th>afib_anticoagulant</th>\n",
       "      <td>-0.049736</td>\n",
       "      <td>0.049736</td>\n",
       "      <td>0.393511</td>\n",
       "      <td>6.0</td>\n",
       "    </tr>\n",
       "    <tr>\n",
       "      <th>onset_to_arrival_time</th>\n",
       "      <td>-0.005894</td>\n",
       "      <td>0.005894</td>\n",
       "      <td>0.196703</td>\n",
       "      <td>7.0</td>\n",
       "    </tr>\n",
       "    <tr>\n",
       "      <th>age</th>\n",
       "      <td>-0.007623</td>\n",
       "      <td>0.007623</td>\n",
       "      <td>0.166250</td>\n",
       "      <td>8.0</td>\n",
       "    </tr>\n",
       "    <tr>\n",
       "      <th>onset_during_sleep</th>\n",
       "      <td>-0.009321</td>\n",
       "      <td>0.009321</td>\n",
       "      <td>0.092064</td>\n",
       "      <td>9.0</td>\n",
       "    </tr>\n",
       "    <tr>\n",
       "      <th>team_14</th>\n",
       "      <td>-0.002652</td>\n",
       "      <td>0.002652</td>\n",
       "      <td>0.030783</td>\n",
       "      <td>10.0</td>\n",
       "    </tr>\n",
       "  </tbody>\n",
       "</table>\n",
       "</div>"
      ],
      "text/plain": [
       "                       mean_shap  abs_mean_shap  mean_abs_shap  rank\n",
       "infarction             -1.103923       1.103923       1.711107   1.0\n",
       "stroke_severity        -0.102933       0.102933       0.927903   2.0\n",
       "precise_onset_known    -0.035485       0.035485       0.502079   3.0\n",
       "arrival_to_scan_time   -0.078830       0.078830       0.432781   4.0\n",
       "prior_disability        0.000895       0.000895       0.395190   5.0\n",
       "afib_anticoagulant     -0.049736       0.049736       0.393511   6.0\n",
       "onset_to_arrival_time  -0.005894       0.005894       0.196703   7.0\n",
       "age                    -0.007623       0.007623       0.166250   8.0\n",
       "onset_during_sleep     -0.009321       0.009321       0.092064   9.0\n",
       "team_14                -0.002652       0.002652       0.030783  10.0"
      ]
     },
     "execution_count": 22,
     "metadata": {},
     "output_type": "execute_result"
    }
   ],
   "source": [
    "# Get SHAP values\n",
    "shap_values = shap_values_extended.values\n",
    "\n",
    "# Calculate mean SHAP value for each feature (across all instances)\n",
    "df_shap_values_mean = pd.DataFrame(index=feature_names_ohe)\n",
    "\n",
    "features_shap_ranked = list(df_shap_values_mean.head(9).index)\n",
    "\n",
    "\n",
    "df_shap_values_mean['mean_shap'] = np.mean(shap_values, axis=0)\n",
    "df_shap_values_mean['abs_mean_shap'] = np.abs(df_shap_values_mean['mean_shap'])\n",
    "df_shap_values_mean['mean_abs_shap'] = np.mean(np.abs(shap_values), axis=0)\n",
    "df_shap_values_mean['rank'] = df_shap_values_mean['mean_abs_shap'].rank(\n",
    "    ascending=False).values\n",
    "df_shap_values_mean.sort_values('rank', inplace=True, ascending=True)\n",
    "df_shap_values_mean.head(10)\n"
   ]
  },
  {
   "cell_type": "code",
   "execution_count": 23,
   "id": "47854fd5-0107-44bd-aef1-28176cc9ca28",
   "metadata": {},
   "outputs": [],
   "source": [
    "features_shap_ranked = list(df_shap_values_mean.head(9).index)"
   ]
  },
  {
   "cell_type": "markdown",
   "id": "198b3ec8-0c89-4af3-9c2c-abd4c58ade7b",
   "metadata": {},
   "source": [
    "## Create box plots\n",
    "\n",
    "The code is copied from https://github.com/samuel-book/samuel_shap_paper_1/blob/main/xgb_10_features/03a_xgb_all_data_shap_values_vs_feature_values.ipynb with minor changes to collect the box plot values."
   ]
  },
  {
   "cell_type": "code",
   "execution_count": 25,
   "id": "e9b2e8fa-d8c2-430a-bc16-341391ec590b",
   "metadata": {},
   "outputs": [],
   "source": [
    "def set_ax(ax, category_list, feat, rotation=0):\n",
    "    '''\n",
    "    ax [matplotlib axis object] = matplotlib axis object\n",
    "    category_list [list] = used for the xtick labels (the grouping of the data)\n",
    "    feat [string] = used in the axis label, the feature that is being plotted\n",
    "    rotation [integer] = xtick label rotation\n",
    "\n",
    "    reeturn [matplotlib axis object]\n",
    "    \n",
    "    resource: \n",
    "    https://matplotlib.org/3.1.0/gallery/statistics/customized_violin.html\n",
    "    '''\n",
    "    # Set the axes ranges and axes labels\n",
    "    ax.get_xaxis().set_tick_params(direction='out')\n",
    "    ax.xaxis.set_ticks_position('bottom')\n",
    "    ax.set_xticks(np.arange(1, len(category_list) + 1))\n",
    "    ax.set_xticklabels(category_list, rotation=rotation, fontsize=10)\n",
    "    ax.set_xlim(0.25, len(category_list) + 0.75)\n",
    "    ax.set_ylabel(f'SHAP values for {feat}', fontsize=12)\n",
    "    ax.set_xlabel(f'Feature values for {feat}', fontsize=12)\n",
    "    return(ax)\n"
   ]
  },
  {
   "cell_type": "code",
   "execution_count": 53,
   "id": "ce7ea46e-45ac-4fdf-b4d8-edfab0605f57",
   "metadata": {},
   "outputs": [
    {
     "data": {
      "image/png": "[encoded data removed]",
      "text/plain": [
       "<Figure size 1200x1400 with 9 Axes>"
      ]
     },
     "metadata": {},
     "output_type": "display_data"
    }
   ],
   "source": [
    "# Feature Age needs special consideration. It needs the x ticks to be created,\n",
    "# as the other features with over 50 unique values, but age is already grouped \n",
    "# for the model (into 5yr groups) and so is treated as the other type.\n",
    "\n",
    "# Create figure\n",
    "fig = plt.figure(figsize=(12,14), constrained_layout=True)\n",
    "# A subplot showing violin plot for each feature.\n",
    "# First prepare the fature data for the violin plot: if feature has more than \n",
    "# 50 unique values then assume it needs to be binned (a violin for each bin)\n",
    "\n",
    "# Determine number of rows of subplots by rounding up\n",
    "nrows = math.ceil(len(features_shap_ranked)/4)\n",
    "\n",
    "# Through each feature\n",
    "boxplot_dicts = {}\n",
    "bin_dicts = {}\n",
    "category_dicts = {}\n",
    "for n, feat in enumerate(features_shap_ranked):    \n",
    "    \n",
    "    # Get data adn SHAP values\n",
    "    feature_data = shap_values_extended[:, feat].data\n",
    "    feature_shap = shap_values_extended[:, feat].values\n",
    "\n",
    "    # If feature has more that 50 unique values, then assume it needs to be \n",
    "    # binned (otherwise assume they are unique categories)\n",
    "    if np.unique(feature_data).shape[0] > 50:\n",
    "        # bin the data, create a violin per bin\n",
    "        \n",
    "        # settings for the plot\n",
    "        rotation = 45\n",
    "        step = 30\n",
    "        n_bins = min(11, np.int((feature_data.max())/step))\n",
    "        \n",
    "        # create list of bin values\n",
    "        bin_list = [(i*step) for i in range(n_bins)]\n",
    "        bin_list.append(feature_data.max())\n",
    "\n",
    "        # create list of bins (the unique categories)\n",
    "        category_list = [f'{i*step}-{((i+1)*step-1)}' for i in range(n_bins-1)]\n",
    "        category_list.append(f'{(n_bins-1)*step}+')\n",
    "\n",
    "        # bin the feature data\n",
    "        feature_data = pd.cut(feature_data, bin_list, labels=category_list, \n",
    "                              right=False)\n",
    "\n",
    "    else:\n",
    "        # create a violin per unique value\n",
    "        \n",
    "        # settings for the plot\n",
    "        rotation = 90\n",
    "        \n",
    "        # create list of unique categories in the feature data\n",
    "        # Age needs to keep its decimal value (midpoint between 5 yrs)\n",
    "        category_list = np.unique(feature_data)\n",
    "        if feat != \"age\":\n",
    "            category_list = [int(i) for i in category_list]\n",
    "\n",
    "        # Add this for return:\n",
    "        bin_list = category_list\n",
    "\n",
    "    # create a list, each entry contains the corresponsing SHAP value for that \n",
    "    # category (or bin). A violin will represent each list.    \n",
    "    shap_per_category = []\n",
    "    for category in category_list:\n",
    "        mask = feature_data == category\n",
    "        shap_per_category.append(feature_shap[mask])\n",
    "\n",
    "    # # Output descriptive text to use in the paper to describe the differences a \n",
    "    # # feature value had on the likelihood of receiving thromboylsis.\n",
    "    # if feat == \"infarction\":\n",
    "    #     range_shap_log_odds = np.mean(shap_per_category[1]) - np.mean(shap_per_category[0])\n",
    "    #     odds = math.exp(range_shap_log_odds)\n",
    "    #     print(f\"Stroke type: The SHAP values for stroke type show that the \\n\"\n",
    "    #           f\"model effectively eliminated any probability of receiving \\n\"\n",
    "    #           f\"thrombolysis for non-ischaemic (haemorrhagic) stroke. The \\n\"\n",
    "    #           f\"odds of receiving thrombolysis fell about {round(odds,2)} \\n\"\n",
    "    #           f\"fold.\\n\")    \n",
    "    # if feat == \"arrival_to_scan_time\":\n",
    "    #     range_shap_log_odds = np.mean(shap_per_category[0]) - np.mean(shap_per_category[3])\n",
    "    #     odds = math.exp(range_shap_log_odds)\n",
    "    #     print(f\"Arrival-to-scan time: The odds of receiving thrombolysis reduced by \\n\"\n",
    "    #     f\"about {round(odds,2)} (20) fold over the first 120 minutes of arrival to scan time.\\n\")    \n",
    "    # if feat == \"stroke_severity\":\n",
    "    #     range_shap_log_odds = np.mean(shap_per_category[19]) - np.mean(shap_per_category[0])\n",
    "    #     odds = math.exp(range_shap_log_odds)\n",
    "    #     print(f\"Stroke severity (NIHSS): The odds of receiving thrombolysis were lowest\\n\"\n",
    "    #       f\" at NIHSS 0, increased and peaked at NIHSS 15-25, and then fell again \\n\"\n",
    "    #       f\"with higher stroke severity (NIHSS above 25). The difference between \\n\"\n",
    "    #       f\"minimum odds (at NIHSS 0) and maximum odds (at 15-25) of receiving \\n\"\n",
    "    #       f\"thrombolysis was {round(odds,2)} (30-35) fold.\\n\")\n",
    "    # if feat == \"precise_onset_known\":\n",
    "    #     range_shap_log_odds = np.mean(shap_per_category[1]) - np.mean(shap_per_category[0])\n",
    "    #     odds = math.exp(range_shap_log_odds)\n",
    "    #     print(f\"Stroke onset time type (precise vs. estimated): The odds of receiving \\n\"\n",
    "    #       f\"thrombolysis were about {round(odds,2)} (3) fold greater for precise onset time than \\n\"\n",
    "    #       f\"estimated onset time.\\n\")\n",
    "    # if feat == \"prior_disability\":\n",
    "    #     range_shap_log_odds = np.mean(shap_per_category[0]) - np.mean(shap_per_category[5])\n",
    "    #     odds = math.exp(range_shap_log_odds)\n",
    "    #     print(f\"Disability level (mRS) before stroke: The odds of receiving \\n\"\n",
    "    #     f\"thrombolysis fell about {round(odds,2)} (5) fold between mRS 0 and 5.\\n\")\n",
    "    # if feat == \"afib_anticoagulant\":\n",
    "    #     range_shap_log_odds = np.mean(shap_per_category[0]) - np.mean(shap_per_category[1])\n",
    "    #     odds = math.exp(range_shap_log_odds)\n",
    "    #     print(f\"Use of AF anticoagulants: The odds of receiving thrombolysis were about\\n\"\n",
    "    #     f\" {round(odds,2)} fold greater for no use.\\n\")\n",
    "    # if feat == \"onset_to_arrival_time\":\n",
    "    #     range_shap_log_odds = np.mean(shap_per_category[4]) - np.mean(shap_per_category[7])\n",
    "    #     odds = math.exp(range_shap_log_odds)\n",
    "    #     print(f\"Onset-to-arrival time: The odds of receiving thrombolysis were similar \\n\"\n",
    "    #     f\"below 120 minutes, then fell about {round(odds,2)} fold between 120 and above.\\n\")\n",
    "    # if feat == \"age\":\n",
    "    #     range_shap_log_odds = np.mean(shap_per_category[13]) - np.mean(shap_per_category[17])\n",
    "    #     odds = math.exp(range_shap_log_odds)\n",
    "    #     print(f\"Age: The odds of receiving thrombolysis were similar below 80 years \\n\"\n",
    "    #     f\"old, then fell about {round(odds,2)} fold between 80 and 120 years old.\\n\")\n",
    "    # if feat == \"onset_during_sleep\":\n",
    "    #     range_shap_log_odds = np.mean(shap_per_category[0]) - np.mean(shap_per_category[1])\n",
    "    #     odds = math.exp(range_shap_log_odds)\n",
    "    #     print(f\"Onset during sleep: The odds of receiving thrombolysis were about \\n\"\n",
    "    #     f\"{round(odds,2)} fold lower for onset during sleep.\\n\")\n",
    "\n",
    "    if feat == \"age\":\n",
    "        # create text of x ticks\n",
    "        category_list = [f'{int(i-2.5)}-{int(i+2.5)}' for i in category_list]\n",
    "\n",
    "        # SSNAP dataset had oldest age category as 100-120 (not a 5 yr band as \n",
    "        #   the other ages). To accommodate this, if last age category is \"110\"\n",
    "        #   then overwrite the label with the correct band (100-120), and not\n",
    "        #   107-112 as the above code would create.\n",
    "        if category_list[-1] == '107-112':\n",
    "            category_list[-1] = '100-120'\n",
    "            \n",
    "    # create violin plot\n",
    "    ax = fig.add_subplot(nrows,3,n+1)\n",
    "    \n",
    "    boxplot_dict = ax.boxplot(shap_per_category, whis=99999, widths=0.7)\n",
    "    \n",
    "    # Add line at Shap = 0\n",
    "    feature_values = shap_values_extended[:, feat].data\n",
    "    ax.plot([0, len(feature_values)], [0,0],c='0.5')   \n",
    "\n",
    "    # customise the axes\n",
    "    ax = set_ax(ax, category_list, feat, rotation=rotation)\n",
    "    plt.subplots_adjust(bottom=0.15, wspace=0.05)\n",
    "    \n",
    "    # Adjust stroke severity tickmarks\n",
    "    if feat == \"stroke_severity\":\n",
    "        ax.set_xticks(np.arange(1, len(category_list)+1, 2))\n",
    "        ax.set_xticklabels(category_list[0::2])   \n",
    "    \n",
    "    # Add title\n",
    "    ax.set_title(feat)\n",
    "\n",
    "    boxplot_dicts[feat] = boxplot_dict\n",
    "    bin_dicts[feat] = bin_list\n",
    "    category_dicts[feat] = category_list\n",
    "    \n",
    "plt.tight_layout(pad=2)\n",
    "    \n",
    "fig.savefig(f'stroke_utilities/output/{notebook}_{model_text}_thrombolysis_shap_boxplot_all_'\n",
    "            f'features.jpg', \n",
    "            dpi=300, bbox_inches='tight', pad_inches=0.2)\n",
    "\n",
    "plt.show()\n",
    "\n"
   ]
  },
  {
   "cell_type": "markdown",
   "id": "68591fb2-4e8f-4ff8-8767-2da1867c3c25",
   "metadata": {},
   "source": [
    "## Extract all of the median values from these box plots:"
   ]
  },
  {
   "cell_type": "code",
   "execution_count": 51,
   "id": "866c7a01-8295-4fc7-a7d4-88bec5af27f1",
   "metadata": {},
   "outputs": [],
   "source": [
    "median_dicts = {}\n",
    "for key in boxplot_dicts.keys():\n",
    "    median_lines = boxplot_dicts[key]['medians']\n",
    "    meds = []\n",
    "    for i, line in enumerate(median_lines):\n",
    "        med = line.get_ydata()[0]\n",
    "        meds.append(med)\n",
    "    median_dicts[key] = meds"
   ]
  },
  {
   "cell_type": "code",
   "execution_count": 52,
   "id": "20eabf34-40f8-481d-ae04-4e6a7dd5cd93",
   "metadata": {},
   "outputs": [
    {
     "data": {
      "text/plain": [
       "{'infarction': [-9.035469055175781, 0.35362885892391205],\n",
       " 'stroke_severity': [-2.710878849029541,\n",
       "  -2.4213027954101562,\n",
       "  -1.6219841241836548,\n",
       "  -0.9727904796600342,\n",
       "  -0.22076712548732758,\n",
       "  0.19476014375686646,\n",
       "  0.5125318467617035,\n",
       "  0.6200642287731171,\n",
       "  0.7366729378700256,\n",
       "  0.7530897259712219,\n",
       "  0.8245656788349152,\n",
       "  0.8824138343334198,\n",
       "  0.8456839323043823,\n",
       "  0.8628749847412109,\n",
       "  0.8745764791965485,\n",
       "  0.8700721263885498,\n",
       "  0.9156414270401001,\n",
       "  0.9633056819438934,\n",
       "  0.9231318235397339,\n",
       "  0.9478186964988708,\n",
       "  0.897286593914032,\n",
       "  0.9000478088855743,\n",
       "  0.869219183921814,\n",
       "  0.7769266963005066,\n",
       "  0.7603655159473419,\n",
       "  0.8172838091850281,\n",
       "  0.44165046513080597,\n",
       "  0.4691150188446045,\n",
       "  0.30322712659835815,\n",
       "  0.2681480050086975,\n",
       "  0.19185565412044525,\n",
       "  0.1486940234899521,\n",
       "  0.14427077770233154,\n",
       "  -0.34309151768684387,\n",
       "  -0.4762231409549713,\n",
       "  -0.2130834311246872,\n",
       "  -0.4737842381000519,\n",
       "  -0.16558630019426346,\n",
       "  -0.313505619764328,\n",
       "  -0.6127659678459167,\n",
       "  -0.28023120015859604,\n",
       "  -0.5067417025566101,\n",
       "  -0.8293287456035614],\n",
       " 'precise_onset_known': [-0.7943243980407715, 0.3624438941478729],\n",
       " 'arrival_to_scan_time': [0.2747008949518204,\n",
       "  -0.30020925402641296,\n",
       "  -0.8712767362594604,\n",
       "  -1.5114084482192993,\n",
       "  -1.976026177406311,\n",
       "  -2.019239902496338,\n",
       "  -2.682876706123352],\n",
       " 'prior_disability': [0.35745179653167725,\n",
       "  -0.005010956898331642,\n",
       "  -0.2896905094385147,\n",
       "  -0.5903084874153137,\n",
       "  -1.0941468477249146,\n",
       "  -1.5762529373168945],\n",
       " 'afib_anticoagulant': [0.20513569563627243, -1.715489387512207],\n",
       " 'onset_to_arrival_time': [0.2639727294445038,\n",
       "  0.2153589427471161,\n",
       "  0.12946869432926178,\n",
       "  0.026406641118228436,\n",
       "  -0.04337991401553154,\n",
       "  -0.1683281883597374,\n",
       "  -0.35536453127861023,\n",
       "  -0.8812189698219299],\n",
       " 'age': [0.23761071264743805,\n",
       "  0.23530663549900055,\n",
       "  0.23013673722743988,\n",
       "  0.21378150582313538,\n",
       "  0.18570733070373535,\n",
       "  0.15755563229322433,\n",
       "  0.10694361478090286,\n",
       "  0.07378490269184113,\n",
       "  0.06419363617897034,\n",
       "  -0.04516165889799595,\n",
       "  -0.16409189999103546,\n",
       "  -0.4629218429327011],\n",
       " 'onset_during_sleep': [0.03607087954878807, -1.3039418458938599]}"
      ]
     },
     "execution_count": 52,
     "metadata": {},
     "output_type": "execute_result"
    }
   ],
   "source": [
    "median_dicts"
   ]
  },
  {
   "cell_type": "markdown",
   "id": "0aa798d9-66e7-4ff4-9c3d-1f4f5838b859",
   "metadata": {},
   "source": [
    "## Find which bins each patient's data falls into"
   ]
  },
  {
   "cell_type": "code",
   "execution_count": 54,
   "id": "34ec2f2b-a6df-4457-9b83-c4bd099de566",
   "metadata": {},
   "outputs": [
    {
     "data": {
      "text/plain": [
       "{'infarction': [0, 1],\n",
       " 'stroke_severity': [0,\n",
       "  1,\n",
       "  2,\n",
       "  3,\n",
       "  4,\n",
       "  5,\n",
       "  6,\n",
       "  7,\n",
       "  8,\n",
       "  9,\n",
       "  10,\n",
       "  11,\n",
       "  12,\n",
       "  13,\n",
       "  14,\n",
       "  15,\n",
       "  16,\n",
       "  17,\n",
       "  18,\n",
       "  19,\n",
       "  20,\n",
       "  21,\n",
       "  22,\n",
       "  23,\n",
       "  24,\n",
       "  25,\n",
       "  26,\n",
       "  27,\n",
       "  28,\n",
       "  29,\n",
       "  30,\n",
       "  31,\n",
       "  32,\n",
       "  33,\n",
       "  34,\n",
       "  35,\n",
       "  36,\n",
       "  37,\n",
       "  38,\n",
       "  39,\n",
       "  40,\n",
       "  41,\n",
       "  42],\n",
       " 'precise_onset_known': [0, 1],\n",
       " 'arrival_to_scan_time': [0, 30, 60, 90, 120, 150, 180, 239.0],\n",
       " 'prior_disability': [0, 1, 2, 3, 4, 5],\n",
       " 'afib_anticoagulant': [0, 1],\n",
       " 'onset_to_arrival_time': [0, 30, 60, 90, 120, 150, 180, 210, 254.0],\n",
       " 'age': array([37.5, 42.5, 47.5, 52.5, 57.5, 62.5, 67.5, 72.5, 77.5, 82.5, 87.5,\n",
       "        92.5]),\n",
       " 'onset_during_sleep': [0, 1]}"
      ]
     },
     "execution_count": 54,
     "metadata": {},
     "output_type": "execute_result"
    }
   ],
   "source": [
    "bin_dicts"
   ]
  },
  {
   "cell_type": "code",
   "execution_count": 55,
   "id": "989edc82-fac1-4f50-93fa-2a52e4118607",
   "metadata": {},
   "outputs": [
    {
     "data": {
      "text/plain": [
       "{'infarction': [0, 1],\n",
       " 'stroke_severity': [0,\n",
       "  1,\n",
       "  2,\n",
       "  3,\n",
       "  4,\n",
       "  5,\n",
       "  6,\n",
       "  7,\n",
       "  8,\n",
       "  9,\n",
       "  10,\n",
       "  11,\n",
       "  12,\n",
       "  13,\n",
       "  14,\n",
       "  15,\n",
       "  16,\n",
       "  17,\n",
       "  18,\n",
       "  19,\n",
       "  20,\n",
       "  21,\n",
       "  22,\n",
       "  23,\n",
       "  24,\n",
       "  25,\n",
       "  26,\n",
       "  27,\n",
       "  28,\n",
       "  29,\n",
       "  30,\n",
       "  31,\n",
       "  32,\n",
       "  33,\n",
       "  34,\n",
       "  35,\n",
       "  36,\n",
       "  37,\n",
       "  38,\n",
       "  39,\n",
       "  40,\n",
       "  41,\n",
       "  42],\n",
       " 'precise_onset_known': [0, 1],\n",
       " 'arrival_to_scan_time': ['0-29',\n",
       "  '30-59',\n",
       "  '60-89',\n",
       "  '90-119',\n",
       "  '120-149',\n",
       "  '150-179',\n",
       "  '180+'],\n",
       " 'prior_disability': [0, 1, 2, 3, 4, 5],\n",
       " 'afib_anticoagulant': [0, 1],\n",
       " 'onset_to_arrival_time': ['0-29',\n",
       "  '30-59',\n",
       "  '60-89',\n",
       "  '90-119',\n",
       "  '120-149',\n",
       "  '150-179',\n",
       "  '180-209',\n",
       "  '210+'],\n",
       " 'age': ['35-40',\n",
       "  '40-45',\n",
       "  '45-50',\n",
       "  '50-55',\n",
       "  '55-60',\n",
       "  '60-65',\n",
       "  '65-70',\n",
       "  '70-75',\n",
       "  '75-80',\n",
       "  '80-85',\n",
       "  '85-90',\n",
       "  '90-95'],\n",
       " 'onset_during_sleep': [0, 1]}"
      ]
     },
     "execution_count": 55,
     "metadata": {},
     "output_type": "execute_result"
    }
   ],
   "source": [
    "category_dicts"
   ]
  },
  {
   "cell_type": "code",
   "execution_count": 58,
   "id": "f15a03c7-a70e-428b-b473-49be61946ba0",
   "metadata": {},
   "outputs": [
    {
     "data": {
      "text/plain": [
       "stroke_severity          10.0\n",
       "prior_disability          2.0\n",
       "age                      52.5\n",
       "infarction                1.0\n",
       "onset_to_arrival_time    70.0\n",
       "                         ... \n",
       "team_115                  0.0\n",
       "team_116                  0.0\n",
       "team_117                  0.0\n",
       "team_118                  0.0\n",
       "team_119                  0.0\n",
       "Name: 0, Length: 128, dtype: float64"
      ]
     },
     "execution_count": 58,
     "metadata": {},
     "output_type": "execute_result"
    }
   ],
   "source": [
    "X_test.loc[0]"
   ]
  },
  {
   "cell_type": "code",
   "execution_count": 61,
   "id": "f0814599-1ff5-42bb-b904-84df762f3f7f",
   "metadata": {},
   "outputs": [],
   "source": [
    "val = X_test.loc[0]['stroke_severity']"
   ]
  },
  {
   "cell_type": "code",
   "execution_count": 62,
   "id": "677b4624-2923-4c3a-9a84-65a59ee5a6de",
   "metadata": {},
   "outputs": [],
   "source": [
    "bins = bin_dicts['stroke_severity']"
   ]
  },
  {
   "cell_type": "code",
   "execution_count": 63,
   "id": "12cf3b29-2106-45c8-ab23-fcde6069f360",
   "metadata": {},
   "outputs": [],
   "source": [
    "x = np.digitize(val, bins)"
   ]
  },
  {
   "cell_type": "code",
   "execution_count": 64,
   "id": "efbc00e1-2a60-42d7-8b50-8b6fd84c776d",
   "metadata": {},
   "outputs": [
    {
     "data": {
      "text/plain": [
       "11"
      ]
     },
     "execution_count": 64,
     "metadata": {},
     "output_type": "execute_result"
    }
   ],
   "source": [
    "x"
   ]
  },
  {
   "cell_type": "code",
   "execution_count": 68,
   "id": "e9aa7d6b-a2a0-4296-8d76-922987ed1112",
   "metadata": {},
   "outputs": [
    {
     "name": "stdout",
     "output_type": "stream",
     "text": [
      "0 0\n",
      "1 1\n",
      "2 2\n",
      "3 3\n",
      "4 4\n",
      "5 5\n",
      "6 6\n",
      "7 7\n",
      "8 8\n",
      "9 9\n"
     ]
    }
   ],
   "source": [
    "for i in range(10):\n",
    "    print(np.digitize(i, bins) - 1, bins[np.digitize(i, bins) - 1])"
   ]
  },
  {
   "cell_type": "code",
   "execution_count": 135,
   "id": "a0e2d1d4-652a-42b0-87b3-4abacdd70768",
   "metadata": {},
   "outputs": [],
   "source": [
    "def collect_mean_shaps_for_patient(patient_data, bin_dicts, shap_dicts):\n",
    "    shap_values_for_patient = {}\n",
    "    for key in bin_dicts.keys():\n",
    "        # Bins for this category:\n",
    "        bins = bin_dicts[key]\n",
    "        shaps = shap_dicts[key]\n",
    "        # Value of this category for this patient:\n",
    "        val = patient_data[key]\n",
    "        # Bin this falls into:\n",
    "        bin = np.digitize(val, bins) - 1\n",
    "        # Sort out values outside the bin ranges:\n",
    "        bin = 0 if bin < 0 else bin\n",
    "        # For the time categories, the length of bins is one more\n",
    "        # than the length of shaps. So make sure the value can\n",
    "        # be accessed by using the last shaps bin, not the last \n",
    "        # bins bin.\n",
    "        bin = -1 if bin == len(shaps) else bin\n",
    "        # SHAP value for this bin:\n",
    "        shap = shaps[bin]\n",
    "        # Store in list:\n",
    "        shap_values_for_patient[key] = shap\n",
    "    return shap_values_for_patient"
   ]
  },
  {
   "cell_type": "code",
   "execution_count": 136,
   "id": "6dcd8ce6-96cf-4584-8880-342226689223",
   "metadata": {
    "scrolled": true
   },
   "outputs": [],
   "source": [
    "# Look up median shap values for all patients.\n",
    "all_patient_shap_values = []\n",
    "for p in range(len(X_test)):\n",
    "    this_patient_data = X_test.loc[p]\n",
    "    shap_values_for_patient = collect_mean_shaps_for_patient(this_patient_data, bin_dicts, median_dicts)\n",
    "    # Convert dict to series:\n",
    "    shap_values_for_patient = pd.Series(shap_values_for_patient.values(), shap_values_for_patient.keys())\n",
    "    all_patient_shap_values.append(shap_values_for_patient)"
   ]
  },
  {
   "cell_type": "code",
   "execution_count": 137,
   "id": "302767dd-1bf9-400e-be03-461a3362915b",
   "metadata": {},
   "outputs": [
    {
     "data": {
      "text/plain": [
       "10000"
      ]
     },
     "execution_count": 137,
     "metadata": {},
     "output_type": "execute_result"
    }
   ],
   "source": [
    "len(all_patient_shap_values)"
   ]
  },
  {
   "cell_type": "code",
   "execution_count": 141,
   "id": "4002caf3-ed6c-469d-a9ec-bbd6fad1d5cf",
   "metadata": {},
   "outputs": [],
   "source": [
    "# Convert all of those dictionaries to a single dataframe:\n",
    "df_all_patient_shap_values = pd.DataFrame(all_patient_shap_values)"
   ]
  },
  {
   "cell_type": "code",
   "execution_count": 142,
   "id": "0d2ed09c-9d6f-4a83-8c75-686e7beb92fc",
   "metadata": {},
   "outputs": [
    {
     "data": {
      "text/html": [
       "<div>\n",
       "<style scoped>\n",
       "    .dataframe tbody tr th:only-of-type {\n",
       "        vertical-align: middle;\n",
       "    }\n",
       "\n",
       "    .dataframe tbody tr th {\n",
       "        vertical-align: top;\n",
       "    }\n",
       "\n",
       "    .dataframe thead th {\n",
       "        text-align: right;\n",
       "    }\n",
       "</style>\n",
       "<table border=\"1\" class=\"dataframe\">\n",
       "  <thead>\n",
       "    <tr style=\"text-align: right;\">\n",
       "      <th></th>\n",
       "      <th>0</th>\n",
       "      <th>1</th>\n",
       "      <th>2</th>\n",
       "      <th>3</th>\n",
       "      <th>4</th>\n",
       "    </tr>\n",
       "  </thead>\n",
       "  <tbody>\n",
       "    <tr>\n",
       "      <th>infarction</th>\n",
       "      <td>0.353629</td>\n",
       "      <td>0.353629</td>\n",
       "      <td>0.353629</td>\n",
       "      <td>0.353629</td>\n",
       "      <td>-9.035469</td>\n",
       "    </tr>\n",
       "    <tr>\n",
       "      <th>stroke_severity</th>\n",
       "      <td>0.824566</td>\n",
       "      <td>0.870072</td>\n",
       "      <td>0.870072</td>\n",
       "      <td>-1.621984</td>\n",
       "      <td>-0.972790</td>\n",
       "    </tr>\n",
       "    <tr>\n",
       "      <th>precise_onset_known</th>\n",
       "      <td>0.362444</td>\n",
       "      <td>0.362444</td>\n",
       "      <td>0.362444</td>\n",
       "      <td>-0.794324</td>\n",
       "      <td>0.362444</td>\n",
       "    </tr>\n",
       "    <tr>\n",
       "      <th>arrival_to_scan_time</th>\n",
       "      <td>0.274701</td>\n",
       "      <td>0.274701</td>\n",
       "      <td>0.274701</td>\n",
       "      <td>-0.871277</td>\n",
       "      <td>0.274701</td>\n",
       "    </tr>\n",
       "    <tr>\n",
       "      <th>prior_disability</th>\n",
       "      <td>-0.289691</td>\n",
       "      <td>-0.005011</td>\n",
       "      <td>-1.094147</td>\n",
       "      <td>-0.005011</td>\n",
       "      <td>0.357452</td>\n",
       "    </tr>\n",
       "    <tr>\n",
       "      <th>afib_anticoagulant</th>\n",
       "      <td>0.205136</td>\n",
       "      <td>0.205136</td>\n",
       "      <td>0.205136</td>\n",
       "      <td>0.205136</td>\n",
       "      <td>-1.715489</td>\n",
       "    </tr>\n",
       "    <tr>\n",
       "      <th>onset_to_arrival_time</th>\n",
       "      <td>0.129469</td>\n",
       "      <td>0.215359</td>\n",
       "      <td>0.026407</td>\n",
       "      <td>0.129469</td>\n",
       "      <td>0.026407</td>\n",
       "    </tr>\n",
       "    <tr>\n",
       "      <th>age</th>\n",
       "      <td>0.213782</td>\n",
       "      <td>0.064194</td>\n",
       "      <td>-0.045162</td>\n",
       "      <td>0.073785</td>\n",
       "      <td>-0.164092</td>\n",
       "    </tr>\n",
       "    <tr>\n",
       "      <th>onset_during_sleep</th>\n",
       "      <td>0.036071</td>\n",
       "      <td>0.036071</td>\n",
       "      <td>0.036071</td>\n",
       "      <td>-1.303942</td>\n",
       "      <td>0.036071</td>\n",
       "    </tr>\n",
       "  </tbody>\n",
       "</table>\n",
       "</div>"
      ],
      "text/plain": [
       "                              0         1         2         3         4\n",
       "infarction             0.353629  0.353629  0.353629  0.353629 -9.035469\n",
       "stroke_severity        0.824566  0.870072  0.870072 -1.621984 -0.972790\n",
       "precise_onset_known    0.362444  0.362444  0.362444 -0.794324  0.362444\n",
       "arrival_to_scan_time   0.274701  0.274701  0.274701 -0.871277  0.274701\n",
       "prior_disability      -0.289691 -0.005011 -1.094147 -0.005011  0.357452\n",
       "afib_anticoagulant     0.205136  0.205136  0.205136  0.205136 -1.715489\n",
       "onset_to_arrival_time  0.129469  0.215359  0.026407  0.129469  0.026407\n",
       "age                    0.213782  0.064194 -0.045162  0.073785 -0.164092\n",
       "onset_during_sleep     0.036071  0.036071  0.036071 -1.303942  0.036071"
      ]
     },
     "execution_count": 142,
     "metadata": {},
     "output_type": "execute_result"
    }
   ],
   "source": [
    "# Show the first five patients' values:\n",
    "df_all_patient_shap_values.head(5).T"
   ]
  },
  {
   "cell_type": "code",
   "execution_count": 149,
   "id": "1f73ddbb-2492-4f6e-8d24-c23c2d87ecf4",
   "metadata": {},
   "outputs": [],
   "source": [
    "# Sum the SHAP values for all patients\n",
    "df_all_patient_shap_values['sum'] = df_all_patient_shap_values.sum(axis=1)"
   ]
  },
  {
   "cell_type": "code",
   "execution_count": 150,
   "id": "55e2c93c-a92d-475c-ad40-dbf59b1d5fd2",
   "metadata": {},
   "outputs": [
    {
     "data": {
      "text/html": [
       "<div>\n",
       "<style scoped>\n",
       "    .dataframe tbody tr th:only-of-type {\n",
       "        vertical-align: middle;\n",
       "    }\n",
       "\n",
       "    .dataframe tbody tr th {\n",
       "        vertical-align: top;\n",
       "    }\n",
       "\n",
       "    .dataframe thead th {\n",
       "        text-align: right;\n",
       "    }\n",
       "</style>\n",
       "<table border=\"1\" class=\"dataframe\">\n",
       "  <thead>\n",
       "    <tr style=\"text-align: right;\">\n",
       "      <th></th>\n",
       "      <th>0</th>\n",
       "      <th>1</th>\n",
       "      <th>2</th>\n",
       "      <th>3</th>\n",
       "      <th>4</th>\n",
       "      <th>5</th>\n",
       "      <th>6</th>\n",
       "      <th>7</th>\n",
       "      <th>8</th>\n",
       "      <th>9</th>\n",
       "      <th>...</th>\n",
       "      <th>9990</th>\n",
       "      <th>9991</th>\n",
       "      <th>9992</th>\n",
       "      <th>9993</th>\n",
       "      <th>9994</th>\n",
       "      <th>9995</th>\n",
       "      <th>9996</th>\n",
       "      <th>9997</th>\n",
       "      <th>9998</th>\n",
       "      <th>9999</th>\n",
       "    </tr>\n",
       "  </thead>\n",
       "  <tbody>\n",
       "    <tr>\n",
       "      <th>infarction</th>\n",
       "      <td>0.353629</td>\n",
       "      <td>0.353629</td>\n",
       "      <td>0.353629</td>\n",
       "      <td>0.353629</td>\n",
       "      <td>-9.035469</td>\n",
       "      <td>0.353629</td>\n",
       "      <td>0.353629</td>\n",
       "      <td>0.353629</td>\n",
       "      <td>-9.035469</td>\n",
       "      <td>0.353629</td>\n",
       "      <td>...</td>\n",
       "      <td>0.353629</td>\n",
       "      <td>0.353629</td>\n",
       "      <td>0.353629</td>\n",
       "      <td>0.353629</td>\n",
       "      <td>0.353629</td>\n",
       "      <td>0.353629</td>\n",
       "      <td>0.353629</td>\n",
       "      <td>0.353629</td>\n",
       "      <td>0.353629</td>\n",
       "      <td>0.353629</td>\n",
       "    </tr>\n",
       "    <tr>\n",
       "      <th>stroke_severity</th>\n",
       "      <td>0.824566</td>\n",
       "      <td>0.870072</td>\n",
       "      <td>0.870072</td>\n",
       "      <td>-1.621984</td>\n",
       "      <td>-0.972790</td>\n",
       "      <td>-2.710879</td>\n",
       "      <td>-2.421303</td>\n",
       "      <td>0.947819</td>\n",
       "      <td>0.963306</td>\n",
       "      <td>-0.972790</td>\n",
       "      <td>...</td>\n",
       "      <td>-0.972790</td>\n",
       "      <td>-2.710879</td>\n",
       "      <td>0.194760</td>\n",
       "      <td>0.194760</td>\n",
       "      <td>0.736673</td>\n",
       "      <td>0.882414</td>\n",
       "      <td>0.303227</td>\n",
       "      <td>0.882414</td>\n",
       "      <td>0.303227</td>\n",
       "      <td>-0.972790</td>\n",
       "    </tr>\n",
       "    <tr>\n",
       "      <th>precise_onset_known</th>\n",
       "      <td>0.362444</td>\n",
       "      <td>0.362444</td>\n",
       "      <td>0.362444</td>\n",
       "      <td>-0.794324</td>\n",
       "      <td>0.362444</td>\n",
       "      <td>-0.794324</td>\n",
       "      <td>-0.794324</td>\n",
       "      <td>0.362444</td>\n",
       "      <td>0.362444</td>\n",
       "      <td>0.362444</td>\n",
       "      <td>...</td>\n",
       "      <td>-0.794324</td>\n",
       "      <td>0.362444</td>\n",
       "      <td>0.362444</td>\n",
       "      <td>0.362444</td>\n",
       "      <td>0.362444</td>\n",
       "      <td>0.362444</td>\n",
       "      <td>0.362444</td>\n",
       "      <td>0.362444</td>\n",
       "      <td>0.362444</td>\n",
       "      <td>0.362444</td>\n",
       "    </tr>\n",
       "    <tr>\n",
       "      <th>arrival_to_scan_time</th>\n",
       "      <td>0.274701</td>\n",
       "      <td>0.274701</td>\n",
       "      <td>0.274701</td>\n",
       "      <td>-0.871277</td>\n",
       "      <td>0.274701</td>\n",
       "      <td>-0.300209</td>\n",
       "      <td>-0.871277</td>\n",
       "      <td>0.274701</td>\n",
       "      <td>-0.300209</td>\n",
       "      <td>0.274701</td>\n",
       "      <td>...</td>\n",
       "      <td>0.274701</td>\n",
       "      <td>-0.300209</td>\n",
       "      <td>-0.300209</td>\n",
       "      <td>0.274701</td>\n",
       "      <td>0.274701</td>\n",
       "      <td>0.274701</td>\n",
       "      <td>0.274701</td>\n",
       "      <td>-0.300209</td>\n",
       "      <td>0.274701</td>\n",
       "      <td>0.274701</td>\n",
       "    </tr>\n",
       "    <tr>\n",
       "      <th>prior_disability</th>\n",
       "      <td>-0.289691</td>\n",
       "      <td>-0.005011</td>\n",
       "      <td>-1.094147</td>\n",
       "      <td>-0.005011</td>\n",
       "      <td>0.357452</td>\n",
       "      <td>0.357452</td>\n",
       "      <td>-0.005011</td>\n",
       "      <td>0.357452</td>\n",
       "      <td>-1.094147</td>\n",
       "      <td>0.357452</td>\n",
       "      <td>...</td>\n",
       "      <td>0.357452</td>\n",
       "      <td>-0.590308</td>\n",
       "      <td>0.357452</td>\n",
       "      <td>0.357452</td>\n",
       "      <td>0.357452</td>\n",
       "      <td>-0.590308</td>\n",
       "      <td>-0.289691</td>\n",
       "      <td>-0.590308</td>\n",
       "      <td>-0.590308</td>\n",
       "      <td>0.357452</td>\n",
       "    </tr>\n",
       "    <tr>\n",
       "      <th>afib_anticoagulant</th>\n",
       "      <td>0.205136</td>\n",
       "      <td>0.205136</td>\n",
       "      <td>0.205136</td>\n",
       "      <td>0.205136</td>\n",
       "      <td>-1.715489</td>\n",
       "      <td>0.205136</td>\n",
       "      <td>0.205136</td>\n",
       "      <td>0.205136</td>\n",
       "      <td>0.205136</td>\n",
       "      <td>0.205136</td>\n",
       "      <td>...</td>\n",
       "      <td>0.205136</td>\n",
       "      <td>-1.715489</td>\n",
       "      <td>0.205136</td>\n",
       "      <td>0.205136</td>\n",
       "      <td>0.205136</td>\n",
       "      <td>0.205136</td>\n",
       "      <td>0.205136</td>\n",
       "      <td>0.205136</td>\n",
       "      <td>-1.715489</td>\n",
       "      <td>0.205136</td>\n",
       "    </tr>\n",
       "    <tr>\n",
       "      <th>onset_to_arrival_time</th>\n",
       "      <td>0.129469</td>\n",
       "      <td>0.215359</td>\n",
       "      <td>0.026407</td>\n",
       "      <td>0.129469</td>\n",
       "      <td>0.026407</td>\n",
       "      <td>-0.355365</td>\n",
       "      <td>0.215359</td>\n",
       "      <td>-0.168328</td>\n",
       "      <td>0.026407</td>\n",
       "      <td>0.215359</td>\n",
       "      <td>...</td>\n",
       "      <td>0.129469</td>\n",
       "      <td>-0.168328</td>\n",
       "      <td>0.215359</td>\n",
       "      <td>-0.043380</td>\n",
       "      <td>0.129469</td>\n",
       "      <td>0.129469</td>\n",
       "      <td>0.263973</td>\n",
       "      <td>0.129469</td>\n",
       "      <td>0.129469</td>\n",
       "      <td>0.129469</td>\n",
       "    </tr>\n",
       "    <tr>\n",
       "      <th>age</th>\n",
       "      <td>0.213782</td>\n",
       "      <td>0.064194</td>\n",
       "      <td>-0.045162</td>\n",
       "      <td>0.073785</td>\n",
       "      <td>-0.164092</td>\n",
       "      <td>0.157556</td>\n",
       "      <td>0.106944</td>\n",
       "      <td>-0.045162</td>\n",
       "      <td>0.073785</td>\n",
       "      <td>0.157556</td>\n",
       "      <td>...</td>\n",
       "      <td>0.073785</td>\n",
       "      <td>-0.164092</td>\n",
       "      <td>0.185707</td>\n",
       "      <td>0.073785</td>\n",
       "      <td>0.237611</td>\n",
       "      <td>0.157556</td>\n",
       "      <td>-0.462922</td>\n",
       "      <td>-0.164092</td>\n",
       "      <td>-0.164092</td>\n",
       "      <td>0.073785</td>\n",
       "    </tr>\n",
       "    <tr>\n",
       "      <th>onset_during_sleep</th>\n",
       "      <td>0.036071</td>\n",
       "      <td>0.036071</td>\n",
       "      <td>0.036071</td>\n",
       "      <td>-1.303942</td>\n",
       "      <td>0.036071</td>\n",
       "      <td>0.036071</td>\n",
       "      <td>0.036071</td>\n",
       "      <td>0.036071</td>\n",
       "      <td>0.036071</td>\n",
       "      <td>0.036071</td>\n",
       "      <td>...</td>\n",
       "      <td>0.036071</td>\n",
       "      <td>0.036071</td>\n",
       "      <td>0.036071</td>\n",
       "      <td>0.036071</td>\n",
       "      <td>0.036071</td>\n",
       "      <td>0.036071</td>\n",
       "      <td>0.036071</td>\n",
       "      <td>0.036071</td>\n",
       "      <td>0.036071</td>\n",
       "      <td>0.036071</td>\n",
       "    </tr>\n",
       "    <tr>\n",
       "      <th>sum</th>\n",
       "      <td>2.110106</td>\n",
       "      <td>2.376594</td>\n",
       "      <td>0.989150</td>\n",
       "      <td>-3.834520</td>\n",
       "      <td>-10.830767</td>\n",
       "      <td>-3.050934</td>\n",
       "      <td>-3.174777</td>\n",
       "      <td>2.323761</td>\n",
       "      <td>-8.762677</td>\n",
       "      <td>0.989556</td>\n",
       "      <td>...</td>\n",
       "      <td>-0.336873</td>\n",
       "      <td>-4.897162</td>\n",
       "      <td>1.610348</td>\n",
       "      <td>1.814597</td>\n",
       "      <td>2.693184</td>\n",
       "      <td>1.811110</td>\n",
       "      <td>1.046568</td>\n",
       "      <td>0.914552</td>\n",
       "      <td>-1.010349</td>\n",
       "      <td>0.819895</td>\n",
       "    </tr>\n",
       "  </tbody>\n",
       "</table>\n",
       "<p>10 rows × 10000 columns</p>\n",
       "</div>"
      ],
      "text/plain": [
       "                           0         1         2         3          4     \\\n",
       "infarction             0.353629  0.353629  0.353629  0.353629  -9.035469   \n",
       "stroke_severity        0.824566  0.870072  0.870072 -1.621984  -0.972790   \n",
       "precise_onset_known    0.362444  0.362444  0.362444 -0.794324   0.362444   \n",
       "arrival_to_scan_time   0.274701  0.274701  0.274701 -0.871277   0.274701   \n",
       "prior_disability      -0.289691 -0.005011 -1.094147 -0.005011   0.357452   \n",
       "afib_anticoagulant     0.205136  0.205136  0.205136  0.205136  -1.715489   \n",
       "onset_to_arrival_time  0.129469  0.215359  0.026407  0.129469   0.026407   \n",
       "age                    0.213782  0.064194 -0.045162  0.073785  -0.164092   \n",
       "onset_during_sleep     0.036071  0.036071  0.036071 -1.303942   0.036071   \n",
       "sum                    2.110106  2.376594  0.989150 -3.834520 -10.830767   \n",
       "\n",
       "                           5         6         7         8         9     ...  \\\n",
       "infarction             0.353629  0.353629  0.353629 -9.035469  0.353629  ...   \n",
       "stroke_severity       -2.710879 -2.421303  0.947819  0.963306 -0.972790  ...   \n",
       "precise_onset_known   -0.794324 -0.794324  0.362444  0.362444  0.362444  ...   \n",
       "arrival_to_scan_time  -0.300209 -0.871277  0.274701 -0.300209  0.274701  ...   \n",
       "prior_disability       0.357452 -0.005011  0.357452 -1.094147  0.357452  ...   \n",
       "afib_anticoagulant     0.205136  0.205136  0.205136  0.205136  0.205136  ...   \n",
       "onset_to_arrival_time -0.355365  0.215359 -0.168328  0.026407  0.215359  ...   \n",
       "age                    0.157556  0.106944 -0.045162  0.073785  0.157556  ...   \n",
       "onset_during_sleep     0.036071  0.036071  0.036071  0.036071  0.036071  ...   \n",
       "sum                   -3.050934 -3.174777  2.323761 -8.762677  0.989556  ...   \n",
       "\n",
       "                           9990      9991      9992      9993      9994  \\\n",
       "infarction             0.353629  0.353629  0.353629  0.353629  0.353629   \n",
       "stroke_severity       -0.972790 -2.710879  0.194760  0.194760  0.736673   \n",
       "precise_onset_known   -0.794324  0.362444  0.362444  0.362444  0.362444   \n",
       "arrival_to_scan_time   0.274701 -0.300209 -0.300209  0.274701  0.274701   \n",
       "prior_disability       0.357452 -0.590308  0.357452  0.357452  0.357452   \n",
       "afib_anticoagulant     0.205136 -1.715489  0.205136  0.205136  0.205136   \n",
       "onset_to_arrival_time  0.129469 -0.168328  0.215359 -0.043380  0.129469   \n",
       "age                    0.073785 -0.164092  0.185707  0.073785  0.237611   \n",
       "onset_during_sleep     0.036071  0.036071  0.036071  0.036071  0.036071   \n",
       "sum                   -0.336873 -4.897162  1.610348  1.814597  2.693184   \n",
       "\n",
       "                           9995      9996      9997      9998      9999  \n",
       "infarction             0.353629  0.353629  0.353629  0.353629  0.353629  \n",
       "stroke_severity        0.882414  0.303227  0.882414  0.303227 -0.972790  \n",
       "precise_onset_known    0.362444  0.362444  0.362444  0.362444  0.362444  \n",
       "arrival_to_scan_time   0.274701  0.274701 -0.300209  0.274701  0.274701  \n",
       "prior_disability      -0.590308 -0.289691 -0.590308 -0.590308  0.357452  \n",
       "afib_anticoagulant     0.205136  0.205136  0.205136 -1.715489  0.205136  \n",
       "onset_to_arrival_time  0.129469  0.263973  0.129469  0.129469  0.129469  \n",
       "age                    0.157556 -0.462922 -0.164092 -0.164092  0.073785  \n",
       "onset_during_sleep     0.036071  0.036071  0.036071  0.036071  0.036071  \n",
       "sum                    1.811110  1.046568  0.914552 -1.010349  0.819895  \n",
       "\n",
       "[10 rows x 10000 columns]"
      ]
     },
     "execution_count": 150,
     "metadata": {},
     "output_type": "execute_result"
    }
   ],
   "source": [
    "df_all_patient_shap_values.T"
   ]
  },
  {
   "cell_type": "code",
   "execution_count": 153,
   "id": "1f8c911e-a431-4ee8-a395-7d19dd7f114c",
   "metadata": {},
   "outputs": [],
   "source": [
    "mask_thrombolysed = y_test == 1\n",
    "mask_not_thrombolysed = y_test != 1"
   ]
  },
  {
   "cell_type": "code",
   "execution_count": 156,
   "id": "9186ee61-4a3a-45c0-97f1-b09fda02dcc3",
   "metadata": {},
   "outputs": [
    {
     "data": {
      "text/plain": [
       "-16.323199653066695"
      ]
     },
     "execution_count": 156,
     "metadata": {},
     "output_type": "execute_result"
    }
   ],
   "source": [
    "df_all_patient_shap_values['sum'].min()"
   ]
  },
  {
   "cell_type": "code",
   "execution_count": 192,
   "id": "7f292cc6-b75b-4096-bc91-bef1a80d2f3e",
   "metadata": {},
   "outputs": [
    {
     "data": {
      "text/plain": [
       "3.003403279930353"
      ]
     },
     "execution_count": 192,
     "metadata": {},
     "output_type": "execute_result"
    }
   ],
   "source": [
    "df_all_patient_shap_values['sum'].max()"
   ]
  },
  {
   "cell_type": "code",
   "execution_count": 255,
   "id": "074c0be4-f724-4f62-a97b-764ca953ad1a",
   "metadata": {},
   "outputs": [
    {
     "name": "stdout",
     "output_type": "stream",
     "text": [
      "[-16.75 -16.25 -15.75]\n",
      "-16.75 3.25 41\n"
     ]
    }
   ],
   "source": [
    "step = 0.5\n",
    "\n",
    "hist_bins = step * np.arange(\n",
    "    df_all_patient_shap_values['sum'].min() // step,\n",
    "    2.0 + (df_all_patient_shap_values['sum'].max() // step),\n",
    "    1\n",
    "    ) - (0.5 * step)\n",
    "\n",
    "print(hist_bins[:3])\n",
    "print(min(hist_bins), max(hist_bins), len(hist_bins))"
   ]
  },
  {
   "cell_type": "code",
   "execution_count": 263,
   "id": "582877a2-8ee7-41ca-b26e-f8f87ce2fe42",
   "metadata": {},
   "outputs": [
    {
     "data": {
      "image/png": "[encoded data removed]",
      "text/plain": [
       "<Figure size 640x480 with 1 Axes>"
      ]
     },
     "metadata": {},
     "output_type": "display_data"
    }
   ],
   "source": [
    "fig, ax = plt.subplots()\n",
    "\n",
    "n_thrombolysed, bins, patches = ax.hist(\n",
    "    df_all_patient_shap_values['sum'][mask_thrombolysed], \n",
    "    bins=hist_bins, color='r', histtype='step')\n",
    "n_not_thrombolysed, bins, patches = ax.hist(\n",
    "    df_all_patient_shap_values['sum'][mask_not_thrombolysed], \n",
    "    bins=hist_bins, color='b', histtype='step')\n",
    "\n",
    "ax.set_xlabel('Treatability score')\n",
    "ax.set_ylabel('Number of patients')\n",
    "plt.show()"
   ]
  },
  {
   "cell_type": "code",
   "execution_count": 257,
   "id": "6d0d4474-89fc-46cf-b8fb-f36822a66f30",
   "metadata": {},
   "outputs": [],
   "source": [
    "perc_thrombolysed = 100.0 * n_thrombolysed / (n_thrombolysed + n_not_thrombolysed)"
   ]
  },
  {
   "cell_type": "code",
   "execution_count": 258,
   "id": "d472f21c-bc54-405c-b9fa-005b50883f7d",
   "metadata": {},
   "outputs": [],
   "source": [
    "hist_bins_mean = 0.5 * (hist_bins[:-1] +  hist_bins[1:])"
   ]
  },
  {
   "cell_type": "code",
   "execution_count": 265,
   "id": "c328f2ce-2614-491f-9f73-8c13135d3946",
   "metadata": {},
   "outputs": [],
   "source": [
    "def calculate_model_treatability(x, x_50perc):\n",
    "    # Initial 50 + is for y-offset from centred on y=0 to y=50.\n",
    "    # 50 * is for y-scale from range -1 to +1 to -50 to +50.\n",
    "    # Within tanh, 0.5* is for making the slope less steep.\n",
    "    # Within tanh, -x_50perc is for x-offset from centred on x=0 to x=x_50perc.\n",
    "    y_model = 50.0 + 50.0 * np.tanh(0.5 * (x - x_50perc))\n",
    "    return y_model"
   ]
  },
  {
   "cell_type": "code",
   "execution_count": 266,
   "id": "8be41517-a989-4376-88f4-baf15db212eb",
   "metadata": {},
   "outputs": [
    {
     "data": {
      "image/png": "[encoded data removed]",
      "text/plain": [
       "<Figure size 640x480 with 1 Axes>"
      ]
     },
     "metadata": {},
     "output_type": "display_data"
    }
   ],
   "source": [
    "fig, ax = plt.subplots()\n",
    "\n",
    "# Treatability score that gives 50% on the y-axis:\n",
    "x_50perc = 0.9\n",
    "# Define y-coordinates for a model line.\n",
    "y_model = calculate_model_treatability(hist_bins_mean, x_50perc)\n",
    "# Data:\n",
    "ax.scatter(hist_bins_mean, perc_thrombolysed)\n",
    "# Model:\n",
    "ax.plot(hist_bins_mean, y_model)\n",
    "\n",
    "# Graph setup:\n",
    "ax.set_xlim(-5.0, 3.0)\n",
    "ax.set_xticks(np.arange(-5.0, 3.0, 0.25), minor=True)\n",
    "ax.set_yticks(np.arange(0.0, 100.1, 10))\n",
    "ax.grid()\n",
    "\n",
    "ax.set_xlabel('Treatability score')\n",
    "ax.set_ylabel('Percentage of patients\\nwho were treated')\n",
    "\n",
    "plt.show()"
   ]
  },
  {
   "cell_type": "code",
   "execution_count": null,
   "id": "e4024635-6246-4dfb-a1e4-44968aae403e",
   "metadata": {},
   "outputs": [],
   "source": []
  },
  {
   "cell_type": "code",
   "execution_count": 261,
   "id": "35742472-fa01-47ac-a59d-ae882f7e3b76",
   "metadata": {
    "scrolled": true
   },
   "outputs": [
    {
     "data": {
      "text/html": [
       "<div>\n",
       "<style scoped>\n",
       "    .dataframe tbody tr th:only-of-type {\n",
       "        vertical-align: middle;\n",
       "    }\n",
       "\n",
       "    .dataframe tbody tr th {\n",
       "        vertical-align: top;\n",
       "    }\n",
       "\n",
       "    .dataframe thead th {\n",
       "        text-align: right;\n",
       "    }\n",
       "</style>\n",
       "<table border=\"1\" class=\"dataframe\">\n",
       "  <thead>\n",
       "    <tr style=\"text-align: right;\">\n",
       "      <th></th>\n",
       "      <th>0</th>\n",
       "      <th>1</th>\n",
       "    </tr>\n",
       "  </thead>\n",
       "  <tbody>\n",
       "    <tr>\n",
       "      <th>0</th>\n",
       "      <td>-16.5</td>\n",
       "      <td>0.000000</td>\n",
       "    </tr>\n",
       "    <tr>\n",
       "      <th>1</th>\n",
       "      <td>-16.0</td>\n",
       "      <td>NaN</td>\n",
       "    </tr>\n",
       "    <tr>\n",
       "      <th>2</th>\n",
       "      <td>-15.5</td>\n",
       "      <td>0.000000</td>\n",
       "    </tr>\n",
       "    <tr>\n",
       "      <th>3</th>\n",
       "      <td>-15.0</td>\n",
       "      <td>0.000000</td>\n",
       "    </tr>\n",
       "    <tr>\n",
       "      <th>4</th>\n",
       "      <td>-14.5</td>\n",
       "      <td>0.000000</td>\n",
       "    </tr>\n",
       "    <tr>\n",
       "      <th>5</th>\n",
       "      <td>-14.0</td>\n",
       "      <td>0.000000</td>\n",
       "    </tr>\n",
       "    <tr>\n",
       "      <th>6</th>\n",
       "      <td>-13.5</td>\n",
       "      <td>0.000000</td>\n",
       "    </tr>\n",
       "    <tr>\n",
       "      <th>7</th>\n",
       "      <td>-13.0</td>\n",
       "      <td>0.000000</td>\n",
       "    </tr>\n",
       "    <tr>\n",
       "      <th>8</th>\n",
       "      <td>-12.5</td>\n",
       "      <td>0.000000</td>\n",
       "    </tr>\n",
       "    <tr>\n",
       "      <th>9</th>\n",
       "      <td>-12.0</td>\n",
       "      <td>0.000000</td>\n",
       "    </tr>\n",
       "    <tr>\n",
       "      <th>10</th>\n",
       "      <td>-11.5</td>\n",
       "      <td>0.000000</td>\n",
       "    </tr>\n",
       "    <tr>\n",
       "      <th>11</th>\n",
       "      <td>-11.0</td>\n",
       "      <td>0.000000</td>\n",
       "    </tr>\n",
       "    <tr>\n",
       "      <th>12</th>\n",
       "      <td>-10.5</td>\n",
       "      <td>0.000000</td>\n",
       "    </tr>\n",
       "    <tr>\n",
       "      <th>13</th>\n",
       "      <td>-10.0</td>\n",
       "      <td>0.000000</td>\n",
       "    </tr>\n",
       "    <tr>\n",
       "      <th>14</th>\n",
       "      <td>-9.5</td>\n",
       "      <td>0.000000</td>\n",
       "    </tr>\n",
       "    <tr>\n",
       "      <th>15</th>\n",
       "      <td>-9.0</td>\n",
       "      <td>0.000000</td>\n",
       "    </tr>\n",
       "    <tr>\n",
       "      <th>16</th>\n",
       "      <td>-8.5</td>\n",
       "      <td>0.000000</td>\n",
       "    </tr>\n",
       "    <tr>\n",
       "      <th>17</th>\n",
       "      <td>-8.0</td>\n",
       "      <td>0.000000</td>\n",
       "    </tr>\n",
       "    <tr>\n",
       "      <th>18</th>\n",
       "      <td>-7.5</td>\n",
       "      <td>0.000000</td>\n",
       "    </tr>\n",
       "    <tr>\n",
       "      <th>19</th>\n",
       "      <td>-7.0</td>\n",
       "      <td>0.000000</td>\n",
       "    </tr>\n",
       "    <tr>\n",
       "      <th>20</th>\n",
       "      <td>-6.5</td>\n",
       "      <td>0.000000</td>\n",
       "    </tr>\n",
       "    <tr>\n",
       "      <th>21</th>\n",
       "      <td>-6.0</td>\n",
       "      <td>0.000000</td>\n",
       "    </tr>\n",
       "    <tr>\n",
       "      <th>22</th>\n",
       "      <td>-5.5</td>\n",
       "      <td>0.000000</td>\n",
       "    </tr>\n",
       "    <tr>\n",
       "      <th>23</th>\n",
       "      <td>-5.0</td>\n",
       "      <td>0.000000</td>\n",
       "    </tr>\n",
       "    <tr>\n",
       "      <th>24</th>\n",
       "      <td>-4.5</td>\n",
       "      <td>0.000000</td>\n",
       "    </tr>\n",
       "    <tr>\n",
       "      <th>25</th>\n",
       "      <td>-4.0</td>\n",
       "      <td>1.010101</td>\n",
       "    </tr>\n",
       "    <tr>\n",
       "      <th>26</th>\n",
       "      <td>-3.5</td>\n",
       "      <td>1.973684</td>\n",
       "    </tr>\n",
       "    <tr>\n",
       "      <th>27</th>\n",
       "      <td>-3.0</td>\n",
       "      <td>2.016129</td>\n",
       "    </tr>\n",
       "    <tr>\n",
       "      <th>28</th>\n",
       "      <td>-2.5</td>\n",
       "      <td>2.647059</td>\n",
       "    </tr>\n",
       "    <tr>\n",
       "      <th>29</th>\n",
       "      <td>-2.0</td>\n",
       "      <td>4.157044</td>\n",
       "    </tr>\n",
       "    <tr>\n",
       "      <th>30</th>\n",
       "      <td>-1.5</td>\n",
       "      <td>8.885017</td>\n",
       "    </tr>\n",
       "    <tr>\n",
       "      <th>31</th>\n",
       "      <td>-1.0</td>\n",
       "      <td>12.781955</td>\n",
       "    </tr>\n",
       "    <tr>\n",
       "      <th>32</th>\n",
       "      <td>-0.5</td>\n",
       "      <td>18.598383</td>\n",
       "    </tr>\n",
       "    <tr>\n",
       "      <th>33</th>\n",
       "      <td>0.0</td>\n",
       "      <td>30.472103</td>\n",
       "    </tr>\n",
       "    <tr>\n",
       "      <th>34</th>\n",
       "      <td>0.5</td>\n",
       "      <td>40.636042</td>\n",
       "    </tr>\n",
       "    <tr>\n",
       "      <th>35</th>\n",
       "      <td>1.0</td>\n",
       "      <td>53.365385</td>\n",
       "    </tr>\n",
       "    <tr>\n",
       "      <th>36</th>\n",
       "      <td>1.5</td>\n",
       "      <td>72.235294</td>\n",
       "    </tr>\n",
       "    <tr>\n",
       "      <th>37</th>\n",
       "      <td>2.0</td>\n",
       "      <td>77.111383</td>\n",
       "    </tr>\n",
       "    <tr>\n",
       "      <th>38</th>\n",
       "      <td>2.5</td>\n",
       "      <td>83.231334</td>\n",
       "    </tr>\n",
       "    <tr>\n",
       "      <th>39</th>\n",
       "      <td>3.0</td>\n",
       "      <td>85.430464</td>\n",
       "    </tr>\n",
       "  </tbody>\n",
       "</table>\n",
       "</div>"
      ],
      "text/plain": [
       "       0          1\n",
       "0  -16.5   0.000000\n",
       "1  -16.0        NaN\n",
       "2  -15.5   0.000000\n",
       "3  -15.0   0.000000\n",
       "4  -14.5   0.000000\n",
       "5  -14.0   0.000000\n",
       "6  -13.5   0.000000\n",
       "7  -13.0   0.000000\n",
       "8  -12.5   0.000000\n",
       "9  -12.0   0.000000\n",
       "10 -11.5   0.000000\n",
       "11 -11.0   0.000000\n",
       "12 -10.5   0.000000\n",
       "13 -10.0   0.000000\n",
       "14  -9.5   0.000000\n",
       "15  -9.0   0.000000\n",
       "16  -8.5   0.000000\n",
       "17  -8.0   0.000000\n",
       "18  -7.5   0.000000\n",
       "19  -7.0   0.000000\n",
       "20  -6.5   0.000000\n",
       "21  -6.0   0.000000\n",
       "22  -5.5   0.000000\n",
       "23  -5.0   0.000000\n",
       "24  -4.5   0.000000\n",
       "25  -4.0   1.010101\n",
       "26  -3.5   1.973684\n",
       "27  -3.0   2.016129\n",
       "28  -2.5   2.647059\n",
       "29  -2.0   4.157044\n",
       "30  -1.5   8.885017\n",
       "31  -1.0  12.781955\n",
       "32  -0.5  18.598383\n",
       "33   0.0  30.472103\n",
       "34   0.5  40.636042\n",
       "35   1.0  53.365385\n",
       "36   1.5  72.235294\n",
       "37   2.0  77.111383\n",
       "38   2.5  83.231334\n",
       "39   3.0  85.430464"
      ]
     },
     "execution_count": 261,
     "metadata": {},
     "output_type": "execute_result"
    }
   ],
   "source": [
    "# View data points from the chart:\n",
    "pd.DataFrame([hist_bins_mean, perc_thrombolysed]).T"
   ]
  },
  {
   "cell_type": "markdown",
   "id": "5e1e3349-43b6-4888-b5d5-df34145bf075",
   "metadata": {},
   "source": [
    "## Convert scores to chance of being picked by np.choice"
   ]
  },
  {
   "cell_type": "code",
   "execution_count": 267,
   "id": "f7035018-09af-4aaa-a423-1d8cc318bf13",
   "metadata": {},
   "outputs": [],
   "source": [
    "all_model_treatability = calculate_model_treatability(df_all_patient_shap_values['sum'], x_50perc)"
   ]
  },
  {
   "cell_type": "code",
   "execution_count": 271,
   "id": "fe7e9298-0eb1-463c-819c-6c35a94753de",
   "metadata": {},
   "outputs": [],
   "source": [
    "df_all_patient_shap_values['modelled_treatability_%'] = all_model_treatability"
   ]
  },
  {
   "cell_type": "code",
   "execution_count": 272,
   "id": "7e9692aa-05b5-4750-9f23-f5d7bf711049",
   "metadata": {},
   "outputs": [
    {
     "data": {
      "text/html": [
       "<div>\n",
       "<style scoped>\n",
       "    .dataframe tbody tr th:only-of-type {\n",
       "        vertical-align: middle;\n",
       "    }\n",
       "\n",
       "    .dataframe tbody tr th {\n",
       "        vertical-align: top;\n",
       "    }\n",
       "\n",
       "    .dataframe thead th {\n",
       "        text-align: right;\n",
       "    }\n",
       "</style>\n",
       "<table border=\"1\" class=\"dataframe\">\n",
       "  <thead>\n",
       "    <tr style=\"text-align: right;\">\n",
       "      <th></th>\n",
       "      <th>0</th>\n",
       "      <th>1</th>\n",
       "      <th>2</th>\n",
       "      <th>3</th>\n",
       "      <th>4</th>\n",
       "    </tr>\n",
       "  </thead>\n",
       "  <tbody>\n",
       "    <tr>\n",
       "      <th>infarction</th>\n",
       "      <td>0.353629</td>\n",
       "      <td>0.353629</td>\n",
       "      <td>0.353629</td>\n",
       "      <td>0.353629</td>\n",
       "      <td>-9.035469</td>\n",
       "    </tr>\n",
       "    <tr>\n",
       "      <th>stroke_severity</th>\n",
       "      <td>0.824566</td>\n",
       "      <td>0.870072</td>\n",
       "      <td>0.870072</td>\n",
       "      <td>-1.621984</td>\n",
       "      <td>-0.972790</td>\n",
       "    </tr>\n",
       "    <tr>\n",
       "      <th>precise_onset_known</th>\n",
       "      <td>0.362444</td>\n",
       "      <td>0.362444</td>\n",
       "      <td>0.362444</td>\n",
       "      <td>-0.794324</td>\n",
       "      <td>0.362444</td>\n",
       "    </tr>\n",
       "    <tr>\n",
       "      <th>arrival_to_scan_time</th>\n",
       "      <td>0.274701</td>\n",
       "      <td>0.274701</td>\n",
       "      <td>0.274701</td>\n",
       "      <td>-0.871277</td>\n",
       "      <td>0.274701</td>\n",
       "    </tr>\n",
       "    <tr>\n",
       "      <th>prior_disability</th>\n",
       "      <td>-0.289691</td>\n",
       "      <td>-0.005011</td>\n",
       "      <td>-1.094147</td>\n",
       "      <td>-0.005011</td>\n",
       "      <td>0.357452</td>\n",
       "    </tr>\n",
       "    <tr>\n",
       "      <th>afib_anticoagulant</th>\n",
       "      <td>0.205136</td>\n",
       "      <td>0.205136</td>\n",
       "      <td>0.205136</td>\n",
       "      <td>0.205136</td>\n",
       "      <td>-1.715489</td>\n",
       "    </tr>\n",
       "    <tr>\n",
       "      <th>onset_to_arrival_time</th>\n",
       "      <td>0.129469</td>\n",
       "      <td>0.215359</td>\n",
       "      <td>0.026407</td>\n",
       "      <td>0.129469</td>\n",
       "      <td>0.026407</td>\n",
       "    </tr>\n",
       "    <tr>\n",
       "      <th>age</th>\n",
       "      <td>0.213782</td>\n",
       "      <td>0.064194</td>\n",
       "      <td>-0.045162</td>\n",
       "      <td>0.073785</td>\n",
       "      <td>-0.164092</td>\n",
       "    </tr>\n",
       "    <tr>\n",
       "      <th>onset_during_sleep</th>\n",
       "      <td>0.036071</td>\n",
       "      <td>0.036071</td>\n",
       "      <td>0.036071</td>\n",
       "      <td>-1.303942</td>\n",
       "      <td>0.036071</td>\n",
       "    </tr>\n",
       "    <tr>\n",
       "      <th>sum</th>\n",
       "      <td>2.110106</td>\n",
       "      <td>2.376594</td>\n",
       "      <td>0.989150</td>\n",
       "      <td>-3.834520</td>\n",
       "      <td>-10.830767</td>\n",
       "    </tr>\n",
       "    <tr>\n",
       "      <th>modelled_treatability</th>\n",
       "      <td>77.031763</td>\n",
       "      <td>81.405757</td>\n",
       "      <td>52.227287</td>\n",
       "      <td>0.871013</td>\n",
       "      <td>0.000804</td>\n",
       "    </tr>\n",
       "    <tr>\n",
       "      <th>modelled_treatability_%</th>\n",
       "      <td>77.031763</td>\n",
       "      <td>81.405757</td>\n",
       "      <td>52.227287</td>\n",
       "      <td>0.871013</td>\n",
       "      <td>0.000804</td>\n",
       "    </tr>\n",
       "  </tbody>\n",
       "</table>\n",
       "</div>"
      ],
      "text/plain": [
       "                                 0          1          2         3          4\n",
       "infarction                0.353629   0.353629   0.353629  0.353629  -9.035469\n",
       "stroke_severity           0.824566   0.870072   0.870072 -1.621984  -0.972790\n",
       "precise_onset_known       0.362444   0.362444   0.362444 -0.794324   0.362444\n",
       "arrival_to_scan_time      0.274701   0.274701   0.274701 -0.871277   0.274701\n",
       "prior_disability         -0.289691  -0.005011  -1.094147 -0.005011   0.357452\n",
       "afib_anticoagulant        0.205136   0.205136   0.205136  0.205136  -1.715489\n",
       "onset_to_arrival_time     0.129469   0.215359   0.026407  0.129469   0.026407\n",
       "age                       0.213782   0.064194  -0.045162  0.073785  -0.164092\n",
       "onset_during_sleep        0.036071   0.036071   0.036071 -1.303942   0.036071\n",
       "sum                       2.110106   2.376594   0.989150 -3.834520 -10.830767\n",
       "modelled_treatability    77.031763  81.405757  52.227287  0.871013   0.000804\n",
       "modelled_treatability_%  77.031763  81.405757  52.227287  0.871013   0.000804"
      ]
     },
     "execution_count": 272,
     "metadata": {},
     "output_type": "execute_result"
    }
   ],
   "source": [
    "df_all_patient_shap_values.head(5).T"
   ]
  },
  {
   "cell_type": "markdown",
   "id": "fe6491d5-a265-4e75-be94-caba8fc3d2c3",
   "metadata": {},
   "source": [
    "Take the first 1000 patients in the list."
   ]
  },
  {
   "cell_type": "code",
   "execution_count": 336,
   "id": "a4dd3a0f-6508-4d38-ae69-4e8560168ea9",
   "metadata": {},
   "outputs": [],
   "source": [
    "n_subset = 1000"
   ]
  },
  {
   "cell_type": "code",
   "execution_count": 337,
   "id": "7f925acc-5366-4d64-a45f-acd00c826db5",
   "metadata": {},
   "outputs": [],
   "source": [
    "df_treatability = pd.DataFrame()\n",
    "df_treatability['modelled_treatability_%'] = df_all_patient_shap_values['modelled_treatability_%'][:n_subset]"
   ]
  },
  {
   "cell_type": "code",
   "execution_count": 300,
   "id": "f121ce63-026c-44a9-b832-11a226f9c108",
   "metadata": {},
   "outputs": [],
   "source": [
    "modelled_treatability_percs = df_all_patient_shap_values['modelled_treatability_%'][:n_subset]"
   ]
  },
  {
   "cell_type": "markdown",
   "id": "49a4d59b-78c7-4965-b9dd-a28606f7d5e4",
   "metadata": {},
   "source": [
    "Normalise and divide by sum to get a series of values that add to one:"
   ]
  },
  {
   "cell_type": "code",
   "execution_count": 301,
   "id": "219ace02-f413-43d1-befb-f35faa2365ed",
   "metadata": {},
   "outputs": [
    {
     "data": {
      "text/plain": [
       "1.2712962622174473e-05"
      ]
     },
     "execution_count": 301,
     "metadata": {},
     "output_type": "execute_result"
    }
   ],
   "source": [
    "modelled_treatability_percs.min()"
   ]
  },
  {
   "cell_type": "code",
   "execution_count": 302,
   "id": "c31097ea-aba6-4b68-a51d-34627cf86106",
   "metadata": {},
   "outputs": [],
   "source": [
    "modelled_treatability_norm = (\n",
    "    (modelled_treatability_percs - modelled_treatability_percs.min()) / \n",
    "    (modelled_treatability_percs.max() - modelled_treatability_percs.min())\n",
    "    )"
   ]
  },
  {
   "cell_type": "code",
   "execution_count": 303,
   "id": "9f3b0355-8790-4f28-9309-fc752bdb8f7c",
   "metadata": {},
   "outputs": [],
   "source": [
    "modelled_treatability_relative_chance = modelled_treatability_norm / modelled_treatability_norm.sum()"
   ]
  },
  {
   "cell_type": "code",
   "execution_count": 304,
   "id": "2451afea-a134-4d57-8684-090e287e32e6",
   "metadata": {},
   "outputs": [
    {
     "data": {
      "text/plain": [
       "0      2.287307e-03\n",
       "1      2.417184e-03\n",
       "2      1.550786e-03\n",
       "3      2.586265e-05\n",
       "4      2.350304e-08\n",
       "           ...     \n",
       "995    1.041716e-05\n",
       "996    1.375497e-03\n",
       "997    1.397541e-03\n",
       "998    1.943999e-03\n",
       "999    5.722380e-06\n",
       "Name: modelled_treatability_%, Length: 1000, dtype: float64"
      ]
     },
     "execution_count": 304,
     "metadata": {},
     "output_type": "execute_result"
    }
   ],
   "source": [
    "modelled_treatability_relative_chance"
   ]
  },
  {
   "cell_type": "code",
   "execution_count": 338,
   "id": "564f18dd-ecd5-4d2b-97d1-8b5d44682680",
   "metadata": {},
   "outputs": [],
   "source": [
    "df_treatability['relative_chance'] = modelled_treatability_relative_chance"
   ]
  },
  {
   "cell_type": "markdown",
   "id": "8b6849f0-cd9d-4d24-8ec6-40641ba39385",
   "metadata": {},
   "source": [
    "Run several trials of picking out 100 patients (10%) and see how this compares with their treatability score."
   ]
  },
  {
   "cell_type": "code",
   "execution_count": 348,
   "id": "e23c1a00-e28d-43b3-835c-7f6baa7052e7",
   "metadata": {},
   "outputs": [],
   "source": [
    "df_treatability = df_treatability.sort_values('modelled_treatability_%', ascending=False)"
   ]
  },
  {
   "cell_type": "code",
   "execution_count": 350,
   "id": "be4f42db-bb23-444b-b5aa-1304532e8cb7",
   "metadata": {},
   "outputs": [],
   "source": [
    "df_treatability['rank'] = np.arange(len(df_treatability))"
   ]
  },
  {
   "cell_type": "code",
   "execution_count": 351,
   "id": "5e51cd43-cfc0-451e-9761-1cb9d152e8fd",
   "metadata": {},
   "outputs": [
    {
     "data": {
      "text/html": [
       "<div>\n",
       "<style scoped>\n",
       "    .dataframe tbody tr th:only-of-type {\n",
       "        vertical-align: middle;\n",
       "    }\n",
       "\n",
       "    .dataframe tbody tr th {\n",
       "        vertical-align: top;\n",
       "    }\n",
       "\n",
       "    .dataframe thead th {\n",
       "        text-align: right;\n",
       "    }\n",
       "</style>\n",
       "<table border=\"1\" class=\"dataframe\">\n",
       "  <thead>\n",
       "    <tr style=\"text-align: right;\">\n",
       "      <th></th>\n",
       "      <th>modelled_treatability_%</th>\n",
       "      <th>relative_chance</th>\n",
       "      <th>rank</th>\n",
       "    </tr>\n",
       "  </thead>\n",
       "  <tbody>\n",
       "    <tr>\n",
       "      <th>862</th>\n",
       "      <td>88.186024</td>\n",
       "      <td>2.618511e-03</td>\n",
       "      <td>0</td>\n",
       "    </tr>\n",
       "    <tr>\n",
       "      <th>260</th>\n",
       "      <td>88.037519</td>\n",
       "      <td>2.614101e-03</td>\n",
       "      <td>1</td>\n",
       "    </tr>\n",
       "    <tr>\n",
       "      <th>319</th>\n",
       "      <td>87.679185</td>\n",
       "      <td>2.603461e-03</td>\n",
       "      <td>2</td>\n",
       "    </tr>\n",
       "    <tr>\n",
       "      <th>972</th>\n",
       "      <td>87.568758</td>\n",
       "      <td>2.600182e-03</td>\n",
       "      <td>3</td>\n",
       "    </tr>\n",
       "    <tr>\n",
       "      <th>318</th>\n",
       "      <td>87.350270</td>\n",
       "      <td>2.593695e-03</td>\n",
       "      <td>4</td>\n",
       "    </tr>\n",
       "    <tr>\n",
       "      <th>...</th>\n",
       "      <td>...</td>\n",
       "      <td>...</td>\n",
       "      <td>...</td>\n",
       "    </tr>\n",
       "    <tr>\n",
       "      <th>554</th>\n",
       "      <td>0.000091</td>\n",
       "      <td>2.337060e-09</td>\n",
       "      <td>995</td>\n",
       "    </tr>\n",
       "    <tr>\n",
       "      <th>498</th>\n",
       "      <td>0.000039</td>\n",
       "      <td>7.929249e-10</td>\n",
       "      <td>996</td>\n",
       "    </tr>\n",
       "    <tr>\n",
       "      <th>613</th>\n",
       "      <td>0.000027</td>\n",
       "      <td>4.215234e-10</td>\n",
       "      <td>997</td>\n",
       "    </tr>\n",
       "    <tr>\n",
       "      <th>74</th>\n",
       "      <td>0.000019</td>\n",
       "      <td>1.975676e-10</td>\n",
       "      <td>998</td>\n",
       "    </tr>\n",
       "    <tr>\n",
       "      <th>48</th>\n",
       "      <td>0.000013</td>\n",
       "      <td>0.000000e+00</td>\n",
       "      <td>999</td>\n",
       "    </tr>\n",
       "  </tbody>\n",
       "</table>\n",
       "<p>1000 rows × 3 columns</p>\n",
       "</div>"
      ],
      "text/plain": [
       "     modelled_treatability_%  relative_chance  rank\n",
       "862                88.186024     2.618511e-03     0\n",
       "260                88.037519     2.614101e-03     1\n",
       "319                87.679185     2.603461e-03     2\n",
       "972                87.568758     2.600182e-03     3\n",
       "318                87.350270     2.593695e-03     4\n",
       "..                       ...              ...   ...\n",
       "554                 0.000091     2.337060e-09   995\n",
       "498                 0.000039     7.929249e-10   996\n",
       "613                 0.000027     4.215234e-10   997\n",
       "74                  0.000019     1.975676e-10   998\n",
       "48                  0.000013     0.000000e+00   999\n",
       "\n",
       "[1000 rows x 3 columns]"
      ]
     },
     "execution_count": 351,
     "metadata": {},
     "output_type": "execute_result"
    }
   ],
   "source": [
    "df_treatability"
   ]
  },
  {
   "cell_type": "code",
   "execution_count": 354,
   "id": "10754a31-e99f-482a-bbef-f5722ee99ac5",
   "metadata": {},
   "outputs": [],
   "source": [
    "n_picked = 100\n",
    "n_trials = 10"
   ]
  },
  {
   "cell_type": "code",
   "execution_count": 355,
   "id": "8a728259-8127-421f-8a8b-7035361a0be5",
   "metadata": {},
   "outputs": [],
   "source": [
    "inds = modelled_treatability_relative_chance.index.values"
   ]
  },
  {
   "cell_type": "code",
   "execution_count": 357,
   "id": "e08eff20-b8a7-4760-a921-0276db6f1539",
   "metadata": {},
   "outputs": [
    {
     "data": {
      "image/png": "[encoded data removed]",
      "text/plain": [
       "<Figure size 800x400 with 2 Axes>"
      ]
     },
     "metadata": {},
     "output_type": "display_data"
    },
    {
     "data": {
      "image/png": "[encoded data removed]",
      "text/plain": [
       "<Figure size 800x400 with 2 Axes>"
      ]
     },
     "metadata": {},
     "output_type": "display_data"
    },
    {
     "data": {
      "image/png": "[encoded data removed]",
      "text/plain": [
       "<Figure size 800x400 with 2 Axes>"
      ]
     },
     "metadata": {},
     "output_type": "display_data"
    },
    {
     "data": {
      "image/png": "[encoded data removed]",
      "text/plain": [
       "<Figure size 800x400 with 2 Axes>"
      ]
     },
     "metadata": {},
     "output_type": "display_data"
    },
    {
     "data": {
      "image/png": "[encoded data removed]",
      "text/plain": [
       "<Figure size 800x400 with 2 Axes>"
      ]
     },
     "metadata": {},
     "output_type": "display_data"
    },
    {
     "data": {
      "image/png": "[encoded data removed]",
      "text/plain": [
       "<Figure size 800x400 with 2 Axes>"
      ]
     },
     "metadata": {},
     "output_type": "display_data"
    },
    {
     "data": {
      "image/png": "[encoded data removed]",
      "text/plain": [
       "<Figure size 800x400 with 2 Axes>"
      ]
     },
     "metadata": {},
     "output_type": "display_data"
    },
    {
     "data": {
      "image/png": "[encoded data removed]",
      "text/plain": [
       "<Figure size 800x400 with 2 Axes>"
      ]
     },
     "metadata": {},
     "output_type": "display_data"
    },
    {
     "data": {
      "image/png": "[encoded data removed]",
      "text/plain": [
       "<Figure size 800x400 with 2 Axes>"
      ]
     },
     "metadata": {},
     "output_type": "display_data"
    },
    {
     "data": {
      "image/png": "[encoded data removed]",
      "text/plain": [
       "<Figure size 800x400 with 2 Axes>"
      ]
     },
     "metadata": {},
     "output_type": "display_data"
    }
   ],
   "source": [
    "np.random.seed(42)\n",
    "\n",
    "for t in range(n_trials):\n",
    "    picked_patients = np.random.choice(\n",
    "        inds, size=n_picked, replace=False, p=df_treatability['relative_chance'])\n",
    "\n",
    "    picked_bool = np.full(inds.shape, 0)\n",
    "    picked_bool[picked_patients] = 1\n",
    "\n",
    "    treatability_hist_bins = np.arange(0.0, 100.1, 10)\n",
    "    rank_hist_bins = np.arange(0, n_subset, 0.1*n_subset)\n",
    "\n",
    "    fig, axs = plt.subplots(1, 2, figsize=(8, 4))\n",
    "    # axs[0].scatter(modelled_treatability_percs, picked_bool, alpha=0.1)\n",
    "    # axs[1].scatter(ranked_modelled_treatability_relative_chance, picked_bool, alpha=0.1)\n",
    "\n",
    "    axs[0].hist(df_treatability['modelled_treatability_%'][picked_bool == 1], bins=treatability_hist_bins)\n",
    "    axs[1].hist(df_treatability['rank'][picked_bool == 1], bins=rank_hist_bins)\n",
    "\n",
    "    axs[0].set_xlabel('Treatability score')\n",
    "    axs[0].set_ylabel('Picked')\n",
    "    axs[1].set_xlabel('Rank')\n",
    "    axs[1].set_ylabel('Picked')\n",
    "    plt.show()\n",
    "    plt.close()"
   ]
  },
  {
   "cell_type": "code",
   "execution_count": null,
   "id": "3824666d-15cc-413d-bddb-36ae5dbd3cd2",
   "metadata": {},
   "outputs": [],
   "source": []
  }
 ],
 "metadata": {
  "kernelspec": {
   "display_name": "Python 3 (ipykernel)",
   "language": "python",
   "name": "python3"
  },
  "language_info": {
   "codemirror_mode": {
    "name": "ipython",
    "version": 3
   },
   "file_extension": ".py",
   "mimetype": "text/x-python",
   "name": "python",
   "nbconvert_exporter": "python",
   "pygments_lexer": "ipython3",
   "version": "3.10.12"
  }
 },
 "nbformat": 4,
 "nbformat_minor": 5
}
