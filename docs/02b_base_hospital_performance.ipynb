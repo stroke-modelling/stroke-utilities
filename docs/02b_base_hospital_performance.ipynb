{
 "cells": [
  {
   "cell_type": "markdown",
   "id": "293598f6-09ae-4dd8-a0d4-dfbea73ae89d",
   "metadata": {},
   "source": [
    "# 3: Calculate the data needed for scenario trials\n",
    "\n",
    "## Plain English summary\n",
    "This notebook calculates the base pathway statistics for each stroke team. The patients that attended each stroke team are first split into groups for each stroke type. Then a series of tests are performed. The proportion of patients passing each test is recorded, and for certain subgroups of patients passing particular tests, the distribution of times taken at that point in the hospital pathway are measured.\n",
    "\n",
    "The tests are:\n",
    "1. Is onset time known?\n",
    "2. Is onset to arrival within the time limit?\n",
    "3. Is arrival to scan wtihin the time limit?\n",
    "4. Is onset to scan within the time limit?\n",
    "5. Is there enough time left for thrombolysis?\n",
    "6. Did the patient receive thrombolysis?\n",
    "\n",
    "And the time distributions measured are:\n",
    "1. Onset to arrival time for those passing Test 2.\n",
    "2. Arrival to scan time for those passing Test 3.\n",
    "3. Scan to treatment time for those passing Test 6.\n",
    "\n",
    "The values measured are saved for future use."
   ]
  },
  {
   "cell_type": "markdown",
   "id": "40df2aff-4105-4ec5-9913-fcf5e1f48f73",
   "metadata": {},
   "source": [
    "## Notebook setup:"
   ]
  },
  {
   "cell_type": "code",
   "execution_count": 1,
   "id": "2583c0ba-384c-49f0-94db-7d4e9078661b",
   "metadata": {},
   "outputs": [],
   "source": [
    "import pandas as pd\n",
    "import numpy as np\n",
    "import pickle\n",
    "from dataclasses import dataclass\n",
    "\n",
    "import matplotlib.pyplot as plt\n",
    "\n",
    "import stroke_utilities.scenario as scenario"
   ]
  },
  {
   "cell_type": "markdown",
   "id": "f57360b0-191f-4650-b188-0ab0d7828a32",
   "metadata": {},
   "source": [
    "## Set up paths and filenames"
   ]
  },
  {
   "cell_type": "code",
   "execution_count": 2,
   "id": "65fabfe3-5619-473d-a585-ea474c35ea93",
   "metadata": {},
   "outputs": [],
   "source": [
    "@dataclass(frozen=True)\n",
    "class Paths:\n",
    "    '''Singleton object for storing paths to data and database.'''\n",
    "\n",
    "    data_read_path: str = './stroke_utilities/data/'\n",
    "    data_save_path: str = './stroke_utilities/data/'\n",
    "    output_folder = './stroke_utilities/output/'\n",
    "    model_folder = './stroke_utilities/models'\n",
    "    model_text = 'lgbm_decision_'\n",
    "    notebook: str = '03_'\n",
    "\n",
    "paths = Paths()"
   ]
  },
  {
   "cell_type": "markdown",
   "id": "00028052-3427-42e7-9a17-3300931b188a",
   "metadata": {},
   "source": [
    "## Import patient data\n",
    "\n",
    "All patient data:"
   ]
  },
  {
   "cell_type": "code",
   "execution_count": 3,
   "id": "ed6d54fa-d0f7-45be-b119-6bb317dbfb5d",
   "metadata": {
    "tags": []
   },
   "outputs": [],
   "source": [
    "filename = paths.data_read_path + 'reformatted_data_thrombolysis_decision.csv'\n",
    "data_loaded = pd.read_csv(filename)"
   ]
  },
  {
   "cell_type": "code",
   "execution_count": 4,
   "id": "0c4698dc-645d-4043-9561-4c8a58d701d4",
   "metadata": {},
   "outputs": [
    {
     "data": {
      "text/plain": [
       "Index(['id', 'stroke_team', 'age', 'male', 'infarction',\n",
       "       'onset_to_arrival_time', 'precise_onset_known', 'onset_during_sleep',\n",
       "       'arrive_by_ambulance', 'month', 'year', 'weekday',\n",
       "       'arrival_time_3_hour_period', 'arrival_to_scan_time', 'thrombolysis',\n",
       "       'scan_to_thrombolysis_time', 'thrombectomy',\n",
       "       'arrival_to_thrombectomy_time', 'congestive_heart_failure',\n",
       "       'hypertension', 'atrial_fibrillation', 'diabetes', 'prior_stroke_tia',\n",
       "       'afib_antiplatelet', 'afib_anticoagulant', 'prior_disability',\n",
       "       'stroke_severity', 'nihss_complete', 'nihss_arrival_loc',\n",
       "       'nihss_arrival_loc_questions', 'nihss_arrival_loc_commands',\n",
       "       'nihss_arrival_best_gaze', 'nihss_arrival_visual',\n",
       "       'nihss_arrival_facial_palsy', 'nihss_arrival_motor_arm_left',\n",
       "       'nihss_arrival_motor_arm_right', 'nihss_arrival_motor_leg_left',\n",
       "       'nihss_arrival_motor_leg_right', 'nihss_arrival_limb_ataxia',\n",
       "       'nihss_arrival_sensory', 'nihss_arrival_best_language',\n",
       "       'nihss_arrival_dysarthria', 'nihss_arrival_extinction_inattention',\n",
       "       'discharge_disability', 'thrombolysis_no_but_haemorrhagic',\n",
       "       'thrombolysis_no_but_time_window', 'thrombolysis_no_but_comorbidity',\n",
       "       'thrombolysis_no_but_medication', 'thrombolysis_no_but_refusal',\n",
       "       'thrombolysis_no_but_age', 'thrombolysis_no_but_improving',\n",
       "       'thrombolysis_no_but_too_mild_severe',\n",
       "       'thrombolysis_no_but_time_unknown_wake_up',\n",
       "       'thrombolysis_no_but_other_medical', 'stroke_team_id'],\n",
       "      dtype='object')"
      ]
     },
     "execution_count": 4,
     "metadata": {},
     "output_type": "execute_result"
    }
   ],
   "source": [
    "data_loaded.columns"
   ]
  },
  {
   "cell_type": "markdown",
   "id": "e605b508-66e0-45d0-b083-c9ba86619227",
   "metadata": {},
   "source": [
    "## Process the data\n",
    "\n",
    "Need to store these constant parameters somewhere central."
   ]
  },
  {
   "cell_type": "code",
   "execution_count": 5,
   "id": "22a10d56-82cc-4ca8-b2d5-4fc87ee28a60",
   "metadata": {},
   "outputs": [],
   "source": [
    "# Set up allowed time and over-run for thrombolysis...\n",
    "allowed_onset_to_needle_time_mins = 270  # 4h 30m\n",
    "allowed_overrun_for_slow_scan_to_needle_mins = 15\n",
    "# ... and for thrombectomy\n",
    "allowed_onset_to_puncture_time_mins = 8*60  # --------------------------------- need to check for a reaonsable number here\n",
    "allowed_overrun_for_slow_scan_to_puncture_mins = 15\n",
    "minutes_left = 15.0\n",
    "\n",
    "# Limit for comparing conditions (e.g. is onset to arrival within\n",
    "# 4hrs?). Separate limits for IVT and MT:\n",
    "limit_ivt_mins = 4*60\n",
    "limit_mt_mins = 6*60  # ################################################# look up sensible value"
   ]
  },
  {
   "cell_type": "markdown",
   "id": "94c078e3-f1c8-4238-aef0-ea31579ac60f",
   "metadata": {},
   "source": [
    "Combine existing time data to create some new measures:"
   ]
  },
  {
   "cell_type": "code",
   "execution_count": 6,
   "id": "eede8271-7bbb-4767-a07e-7bf2dfed2347",
   "metadata": {},
   "outputs": [],
   "source": [
    "data_loaded['arrival_to_thrombolysis_time'] = np.sum((\n",
    "    data_loaded['arrival_to_scan_time'].values,\n",
    "    data_loaded['scan_to_thrombolysis_time'].values\n",
    "    ), axis=0)\n",
    "\n",
    "data_loaded['scan_to_thrombectomy_time'] = np.sum((\n",
    "    data_loaded['arrival_to_thrombectomy_time'].values,\n",
    "    -data_loaded['arrival_to_scan_time'].values\n",
    "    ), axis=0)\n",
    "\n",
    "# Time left after scan for thrombolysis...\n",
    "data_loaded['time_left_for_ivt_after_scan_mins'] = np.maximum((\n",
    "    allowed_onset_to_needle_time_mins -\n",
    "    (data_loaded['onset_to_arrival_time'] + \n",
    "      data_loaded['arrival_to_scan_time'])\n",
    "    ), -0.0)\n",
    "# ... and thrombectomy:\n",
    "data_loaded['time_left_for_mt_after_scan_mins'] = np.maximum((\n",
    "    allowed_onset_to_puncture_time_mins -\n",
    "    (data_loaded['onset_to_arrival_time'] + \n",
    "      data_loaded['arrival_to_scan_time'])\n",
    "    ), -0.0)"
   ]
  },
  {
   "cell_type": "markdown",
   "id": "41e8008e-3255-4aff-b5ff-95c449c2f6a4",
   "metadata": {},
   "source": [
    "Measure how many years this data spans. This is used later to calculate the number of admissions per year."
   ]
  },
  {
   "cell_type": "code",
   "execution_count": 7,
   "id": "dd173a63-6386-45fe-87d0-f91c748f2a6b",
   "metadata": {},
   "outputs": [
    {
     "data": {
      "text/plain": [
       "5"
      ]
     },
     "execution_count": 7,
     "metadata": {},
     "output_type": "execute_result"
    }
   ],
   "source": [
    "data_years = (data_loaded['year'].max() - data_loaded['year'].min())\n",
    "\n",
    "data_years"
   ]
  },
  {
   "cell_type": "markdown",
   "id": "2f352081-faf2-4be2-aacb-e13d068e61a9",
   "metadata": {},
   "source": [
    "## Calculate proportions\n",
    "\n",
    "The following cell loops over all stroke teams. It finds which patients have each stroke type. Then the subset with each stroke type is passed through the masks and the performance parameters are stored in a pandas Series."
   ]
  },
  {
   "cell_type": "code",
   "execution_count": 8,
   "id": "7dff47b6-e571-4d92-9616-a81951ede660",
   "metadata": {},
   "outputs": [],
   "source": [
    "# Copy data\n",
    "data = data_loaded.copy()\n",
    "# Split data by stroke team\n",
    "groups = data.groupby('stroke_team_id') # creates a new object of groups of data\n",
    "\n",
    "# Store each stroke team's results in this list:\n",
    "list_of_series = []\n",
    "for stroke_team, group_df in groups: # each group has an index + dataframe of data\n",
    "    stroke_type_mask_dict = {\n",
    "        'lvo': ((group_df['infarction']==1) & \n",
    "                (group_df['stroke_severity']>=11)),\n",
    "        'nlvo': ((group_df['infarction']==1) & \n",
    "                 (group_df['stroke_severity']<11)),\n",
    "        'other': (group_df['infarction']!=1),  # excludes no type given\n",
    "        'mixed': [True] * len(group_df)\n",
    "    }\n",
    "    \n",
    "    # Split by stroke type:\n",
    "    for stroke_type in list(stroke_type_mask_dict.keys()):\n",
    "        group_df_here = group_df[stroke_type_mask_dict[stroke_type]].copy()\n",
    "        stroke_team_here = stroke_team #+ ': ' + stroke_type\n",
    "        stroke_type_here = stroke_type\n",
    "        \n",
    "        # Main results function:\n",
    "        group_df_here, group_dict, masks_dict_ivt, masks_dict_mt = (\n",
    "            scenario.extract_hospital_performance(\n",
    "                stroke_team_here,\n",
    "                stroke_type_here,\n",
    "                group_df_here,\n",
    "                limit_ivt_mins,\n",
    "                limit_mt_mins,\n",
    "                minutes_left\n",
    "            ))\n",
    "        # Update admissions, average over the full number of years:\n",
    "        group_dict['admissions'] = group_dict['admissions'] / data_years\n",
    "        # Convert output dict into a pandas Series:\n",
    "        group_series = pd.Series(data=group_dict.values(),\n",
    "                                 index=group_dict.keys())\n",
    "        list_of_series.append(group_series)\n",
    "\n",
    "# Combine all results into one dataframe:\n",
    "df_all = pd.concat(list_of_series, axis=1)"
   ]
  },
  {
   "cell_type": "markdown",
   "id": "1b9c936c-232a-4824-9767-62f7259e388b",
   "metadata": {},
   "source": [
    "## Results"
   ]
  },
  {
   "cell_type": "code",
   "execution_count": 1,
   "id": "7e2eef0a-8b67-4b71-9a3e-9d3af18b26bc",
   "metadata": {},
   "outputs": [
    {
     "ename": "NameError",
     "evalue": "name 'df_all' is not defined",
     "output_type": "error",
     "traceback": [
      "\u001b[0;31m---------------------------------------------------------------------------\u001b[0m",
      "\u001b[0;31mNameError\u001b[0m                                 Traceback (most recent call last)",
      "Cell \u001b[0;32mIn[1], line 1\u001b[0m\n\u001b[0;32m----> 1\u001b[0m df \u001b[38;5;241m=\u001b[39m \u001b[43mdf_all\u001b[49m\u001b[38;5;241m.\u001b[39mT\n\u001b[1;32m      3\u001b[0m \u001b[38;5;66;03m# Round the values to fewer decimal places:\u001b[39;00m\n\u001b[1;32m      4\u001b[0m \u001b[38;5;28;01mfor\u001b[39;00m column \u001b[38;5;129;01min\u001b[39;00m df\u001b[38;5;241m.\u001b[39mcolumns:\n",
      "\u001b[0;31mNameError\u001b[0m: name 'df_all' is not defined"
     ]
    }
   ],
   "source": [
    "df = df_all.T\n",
    "\n",
    "# Round the values to fewer decimal places:\n",
    "for column in df.columns:\n",
    "    if column not in ['stroke_team', 'stroke_type', 'stroke_team_id']:\n",
    "        df[column] = df[column].astype(float).round(6)\n",
    "\n",
    "# Save\n",
    "df.to_csv(f'{paths.output_folder}/hospital_performance.csv', index=False)#, float_format='%.7f')\n",
    "\n",
    "# Show data for first hospital\n",
    "df.head(4).T"
   ]
  },
  {
   "cell_type": "code",
   "execution_count": null,
   "id": "2977a428-78b2-48b4-bd8b-34644bf0c61f",
   "metadata": {},
   "outputs": [],
   "source": []
  }
 ],
 "metadata": {
  "kernelspec": {
   "display_name": "Python 3 (ipykernel)",
   "language": "python",
   "name": "python3"
  },
  "language_info": {
   "codemirror_mode": {
    "name": "ipython",
    "version": 3
   },
   "file_extension": ".py",
   "mimetype": "text/x-python",
   "name": "python",
   "nbconvert_exporter": "python",
   "pygments_lexer": "ipython3",
   "version": "3.10.12"
  }
 },
 "nbformat": 4,
 "nbformat_minor": 5
}
