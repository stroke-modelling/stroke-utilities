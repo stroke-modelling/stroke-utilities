{
 "cells": [
  {
   "cell_type": "markdown",
   "metadata": {},
   "source": [
    "# SAMueL Create k-fold Data Sets\n",
    "\n",
    "## Plain English summary\n",
    "Create and save the data in 5 kfold splits."
   ]
  },
  {
   "cell_type": "markdown",
   "metadata": {},
   "source": [
    "## Load imports"
   ]
  },
  {
   "cell_type": "code",
   "execution_count": 1,
   "metadata": {},
   "outputs": [],
   "source": [
    "import pandas as pd\n",
    "import numpy as np\n",
    "\n",
    "from dataclasses import dataclass\n",
    "from sklearn.model_selection import train_test_split\n",
    "\n",
    "# Turn warnings off to keep notebook tidy\n",
    "import warnings\n",
    "warnings.filterwarnings(\"ignore\")"
   ]
  },
  {
   "cell_type": "markdown",
   "metadata": {},
   "source": [
    "## Set up paths and filenames"
   ]
  },
  {
   "cell_type": "code",
   "execution_count": 2,
   "metadata": {},
   "outputs": [],
   "source": [
    "@dataclass(frozen=True)\n",
    "class Paths:\n",
    "    '''Singleton object for storing paths to data and database.'''\n",
    "\n",
    "    data_read_path: str = './stroke_utilities/data/'\n",
    "    data_read_filename: str = 'reformatted_data_thrombolysis_decision.csv'\n",
    "    data_save_path: str = './stroke_utilities/data'\n",
    "    notebook: str = ''\n",
    "\n",
    "paths = Paths()"
   ]
  },
  {
   "cell_type": "markdown",
   "metadata": {},
   "source": [
    "# Load data\n",
    "\n"
   ]
  },
  {
   "cell_type": "code",
   "execution_count": 3,
   "metadata": {},
   "outputs": [],
   "source": [
    "filename = paths.data_read_path + paths.data_read_filename\n",
    "data = pd.read_csv(filename)"
   ]
  },
  {
   "cell_type": "markdown",
   "metadata": {},
   "source": [
    "\n",
    "Ensure all values are float and shuffle"
   ]
  },
  {
   "cell_type": "code",
   "execution_count": 4,
   "metadata": {},
   "outputs": [],
   "source": [
    "data = data.sample(frac=1.0, random_state=42)"
   ]
  },
  {
   "cell_type": "markdown",
   "metadata": {},
   "source": [
    "## Limit to arrivals within 4 hours and scan with enough time for thrombolysis"
   ]
  },
  {
   "cell_type": "code",
   "execution_count": 5,
   "metadata": {},
   "outputs": [],
   "source": [
    "from stroke_utilities.scenario import create_masks"
   ]
  },
  {
   "cell_type": "code",
   "execution_count": 6,
   "metadata": {},
   "outputs": [],
   "source": [
    "\n",
    "# Set up allowed time and over-run for thrombolysis...\n",
    "allowed_onset_to_needle_time_mins = 270  # 4h 30m\n",
    "allowed_overrun_for_slow_scan_to_needle_mins = 15\n",
    "# ... and for thrombectomy\n",
    "allowed_onset_to_puncture_time_mins = 8*60  # --------------------------------- need to check for a reaonsable number here\n",
    "allowed_overrun_for_slow_scan_to_puncture_mins = 15\n",
    "minutes_left = 15.0\n",
    "\n",
    "# Limit for comparing conditions (e.g. is onset to arrival within\n",
    "# 4hrs?). Separate limits for IVT and MT:\n",
    "limit_ivt_mins = 4*60\n",
    "limit_mt_mins = 6*60  # ################################################# look up sensible value\n"
   ]
  },
  {
   "cell_type": "code",
   "execution_count": 7,
   "metadata": {},
   "outputs": [],
   "source": [
    "def restrict_to_enough_time_for_thrombolysis(big_data): \n",
    "    big_data['arrival_to_thrombolysis_time'] = (\n",
    "        big_data['arrival_to_scan_time'] + \n",
    "        big_data['scan_to_thrombolysis_time']\n",
    "        )\n",
    "    \n",
    "    # Time left after scan for thrombolysis...\n",
    "    big_data['time_left_for_ivt_after_scan_mins'] = np.maximum((\n",
    "        allowed_onset_to_needle_time_mins -\n",
    "        (big_data['onset_to_arrival_time'] + \n",
    "          big_data['arrival_to_scan_time'])\n",
    "        ), -0.0)\n",
    "    # ... and thrombectomy:\n",
    "    big_data['time_left_for_mt_after_scan_mins'] = np.maximum((\n",
    "        allowed_onset_to_puncture_time_mins -\n",
    "        (big_data['onset_to_arrival_time'] + \n",
    "          big_data['arrival_to_scan_time'])\n",
    "        ), -0.0)\n",
    "\n",
    "    # # Mask to only get eligible patients:\n",
    "    # masks_dict_ivt = create_masks(\n",
    "    #         big_data,\n",
    "    #         big_data['time_left_for_ivt_after_scan_mins'],\n",
    "    #         big_data['arrival_to_thrombolysis_time'],\n",
    "    #         limit_ivt_mins,\n",
    "    #         minutes_left\n",
    "    #         )\n",
    "\n",
    "    # Don't use the create_masks function because its first step is\n",
    "    # to exclude patients with unknown onset time.\n",
    "    mask_to_include = big_data['time_left_for_ivt_after_scan_mins'] >= minutes_left\n",
    "    \n",
    "    big_data = big_data[\n",
    "        # masks_dict_ivt['mask5_mask4_and_enough_time_to_treat'] == True\n",
    "        mask_to_include\n",
    "    ]\n",
    "    return big_data"
   ]
  },
  {
   "cell_type": "code",
   "execution_count": 8,
   "metadata": {},
   "outputs": [],
   "source": [
    "data = restrict_to_enough_time_for_thrombolysis(data)"
   ]
  },
  {
   "cell_type": "code",
   "execution_count": 9,
   "metadata": {},
   "outputs": [],
   "source": [
    "# mask = data['onset_to_arrival_time'] <= 240\n",
    "# data = data[mask]"
   ]
  },
  {
   "cell_type": "markdown",
   "metadata": {},
   "source": [
    "## Limit to 10 features and thrombolysis label"
   ]
  },
  {
   "cell_type": "code",
   "execution_count": 10,
   "metadata": {},
   "outputs": [],
   "source": [
    "features_to_use = [\n",
    "    'stroke_team_id',\n",
    "    'stroke_severity',\n",
    "    'prior_disability',\n",
    "    'age',\n",
    "    'infarction',\n",
    "    'onset_to_arrival_time',\n",
    "    'precise_onset_known',\n",
    "    'onset_during_sleep',\n",
    "    'arrival_to_scan_time',\n",
    "    'afib_anticoagulant',\n",
    "    'year',    \n",
    "    'thrombolysis'\n",
    "]\n",
    "\n",
    "data = data[features_to_use]"
   ]
  },
  {
   "cell_type": "markdown",
   "metadata": {},
   "source": [
    "## Create stratification based on hospital and thrombolysis use"
   ]
  },
  {
   "cell_type": "code",
   "execution_count": 11,
   "metadata": {},
   "outputs": [],
   "source": [
    "strat = data['stroke_team_id'].map(str) + '-' + data['thrombolysis'].map(str)"
   ]
  },
  {
   "cell_type": "markdown",
   "metadata": {},
   "source": [
    "## Create and save 10k test and train sets"
   ]
  },
  {
   "cell_type": "code",
   "execution_count": 12,
   "metadata": {},
   "outputs": [],
   "source": [
    "# Split X and y\n",
    "X = data.drop('thrombolysis', axis=1)\n",
    "y = data['thrombolysis']\n",
    "\n",
    "# Create train and test sets\n",
    "X_train, X_test, y_train, y_test = train_test_split(\n",
    "    X, y, test_size=10000, stratify=strat, random_state=42)\n",
    "train = pd.concat([X_train, y_train], axis=1)\n",
    "test = pd.concat([X_test, y_test], axis=1)\n",
    "\n",
    "# Save\n",
    "train.to_csv(f'{paths.data_save_path}/cohort_10000_train.csv', index=False)\n",
    "test.to_csv(f'{paths.data_save_path}/cohort_10000_test.csv', index=False)"
   ]
  },
  {
   "cell_type": "code",
   "execution_count": null,
   "metadata": {},
   "outputs": [],
   "source": []
  },
  {
   "cell_type": "code",
   "execution_count": null,
   "metadata": {},
   "outputs": [],
   "source": []
  }
 ],
 "metadata": {
  "kernelspec": {
   "display_name": "Python 3 (ipykernel)",
   "language": "python",
   "name": "python3"
  },
  "language_info": {
   "codemirror_mode": {
    "name": "ipython",
    "version": 3
   },
   "file_extension": ".py",
   "mimetype": "text/x-python",
   "name": "python",
   "nbconvert_exporter": "python",
   "pygments_lexer": "ipython3",
   "version": "3.10.12"
  },
  "vscode": {
   "interpreter": {
    "hash": "f85b883bff9a8a9f39576b94acbdf6672b3dc17c35647e7395f81e785740a4b3"
   }
  }
 },
 "nbformat": 4,
 "nbformat_minor": 4
}
