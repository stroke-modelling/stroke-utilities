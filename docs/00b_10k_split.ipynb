{
 "cells": [
  {
   "cell_type": "markdown",
   "metadata": {},
   "source": [
    "# SAMueL Create k-fold Data Sets\n",
    "\n",
    "## Plain English summary\n",
    "Create and save the data in 5 kfold splits."
   ]
  },
  {
   "cell_type": "markdown",
   "metadata": {},
   "source": [
    "## Load imports"
   ]
  },
  {
   "cell_type": "code",
   "execution_count": 1,
   "metadata": {},
   "outputs": [],
   "source": [
    "import pandas as pd\n",
    "import numpy as np\n",
    "import yaml\n",
    "\n",
    "from dataclasses import dataclass\n",
    "from sklearn.model_selection import train_test_split\n",
    "\n",
    "# Turn warnings off to keep notebook tidy\n",
    "import warnings\n",
    "warnings.filterwarnings(\"ignore\")"
   ]
  },
  {
   "cell_type": "markdown",
   "metadata": {},
   "source": [
    "## Set up paths and filenames"
   ]
  },
  {
   "cell_type": "code",
   "execution_count": 2,
   "metadata": {},
   "outputs": [],
   "source": [
    "@dataclass(frozen=True)\n",
    "class Paths:\n",
    "    '''Singleton object for storing paths to data and database.'''\n",
    "\n",
    "    data_read_path: str = './stroke_utilities/data/'\n",
    "    data_read_filename: str = 'reformatted_data_thrombolysis_decision.csv'\n",
    "    data_save_path: str = './stroke_utilities/data'\n",
    "    notebook: str = ''\n",
    "\n",
    "paths = Paths()"
   ]
  },
  {
   "cell_type": "markdown",
   "metadata": {},
   "source": [
    "# Load data\n",
    "\n"
   ]
  },
  {
   "cell_type": "code",
   "execution_count": 3,
   "metadata": {},
   "outputs": [],
   "source": [
    "filename = paths.data_read_path + paths.data_read_filename\n",
    "data = pd.read_csv(filename)"
   ]
  },
  {
   "cell_type": "markdown",
   "metadata": {},
   "source": [
    "\n",
    "Ensure all values are float and shuffle"
   ]
  },
  {
   "cell_type": "code",
   "execution_count": 4,
   "metadata": {},
   "outputs": [],
   "source": [
    "data = data.sample(frac=1.0, random_state=42)"
   ]
  },
  {
   "cell_type": "markdown",
   "metadata": {},
   "source": [
    "## Limit to scan with enough time for thrombolysis"
   ]
  },
  {
   "cell_type": "code",
   "execution_count": 5,
   "metadata": {},
   "outputs": [],
   "source": [
    "from stroke_utilities.scenario import create_masks"
   ]
  },
  {
   "cell_type": "code",
   "execution_count": 6,
   "metadata": {},
   "outputs": [],
   "source": [
    "with open('./stroke_utilities/fixed_params.yml') as f:\n",
    "    fixed_params = yaml.safe_load(f)"
   ]
  },
  {
   "cell_type": "code",
   "execution_count": 7,
   "metadata": {},
   "outputs": [],
   "source": [
    "# allowed_onset_to_needle_time_mins = fixed_params['allowed_onset_to_needle_time_mins']\n",
    "# minutes_left = fixed_params['minutes_left']\n",
    "allowed_onset_to_scan_time = fixed_params['allowed_onset_to_scan_time']"
   ]
  },
  {
   "cell_type": "code",
   "execution_count": 8,
   "metadata": {},
   "outputs": [],
   "source": [
    "def restrict_to_onset_to_scan_on_time(big_data):    \n",
    "    # Time left after scan for thrombolysis\n",
    "    big_data['onset_to_scan_time'] = (\n",
    "        big_data['onset_to_arrival_time'] + \n",
    "        big_data['arrival_to_scan_time']\n",
    "        )\n",
    "\n",
    "    mask_to_include = big_data['onset_to_scan_time'] <= allowed_onset_to_scan_time\n",
    "\n",
    "    # Restrict the data to these patients:\n",
    "    big_data = big_data[mask_to_include]\n",
    "    return big_data"
   ]
  },
  {
   "cell_type": "code",
   "execution_count": 9,
   "metadata": {},
   "outputs": [],
   "source": [
    "data = restrict_to_onset_to_scan_on_time(data)"
   ]
  },
  {
   "cell_type": "code",
   "execution_count": 10,
   "metadata": {},
   "outputs": [],
   "source": [
    "# mask = data['onset_to_arrival_time'] <= 240\n",
    "# data = data[mask]"
   ]
  },
  {
   "cell_type": "markdown",
   "metadata": {},
   "source": [
    "## Limit to 10 features and thrombolysis label"
   ]
  },
  {
   "cell_type": "code",
   "execution_count": 11,
   "metadata": {},
   "outputs": [],
   "source": [
    "features_to_use = [\n",
    "    'stroke_team_id',\n",
    "    'stroke_severity',\n",
    "    'prior_disability',\n",
    "    'age',\n",
    "    'infarction',\n",
    "    'onset_to_arrival_time',\n",
    "    'precise_onset_known',\n",
    "    'onset_during_sleep',\n",
    "    'arrival_to_scan_time',\n",
    "    'afib_anticoagulant',\n",
    "    'year',    \n",
    "    'thrombolysis'\n",
    "]\n",
    "\n",
    "data = data[features_to_use]"
   ]
  },
  {
   "cell_type": "markdown",
   "metadata": {},
   "source": [
    "## Create stratification based on hospital and thrombolysis use"
   ]
  },
  {
   "cell_type": "code",
   "execution_count": 12,
   "metadata": {},
   "outputs": [],
   "source": [
    "strat = data['stroke_team_id'].map(str) + '-' + data['thrombolysis'].map(str)"
   ]
  },
  {
   "cell_type": "markdown",
   "metadata": {},
   "source": [
    "## Create and save 10k test and train sets"
   ]
  },
  {
   "cell_type": "code",
   "execution_count": 13,
   "metadata": {},
   "outputs": [],
   "source": [
    "# Split X and y\n",
    "X = data.drop('thrombolysis', axis=1)\n",
    "y = data['thrombolysis']\n",
    "\n",
    "# Create train and test sets\n",
    "X_train, X_test, y_train, y_test = train_test_split(\n",
    "    X, y, test_size=10000, stratify=strat, random_state=42)\n",
    "train = pd.concat([X_train, y_train], axis=1)\n",
    "test = pd.concat([X_test, y_test], axis=1)\n",
    "\n",
    "# Save\n",
    "train.to_csv(f'{paths.data_save_path}/cohort_10000_train.csv', index=False)\n",
    "test.to_csv(f'{paths.data_save_path}/cohort_10000_test.csv', index=False)"
   ]
  }
 ],
 "metadata": {
  "kernelspec": {
   "display_name": "Python 3 (ipykernel)",
   "language": "python",
   "name": "python3"
  },
  "language_info": {
   "codemirror_mode": {
    "name": "ipython",
    "version": 3
   },
   "file_extension": ".py",
   "mimetype": "text/x-python",
   "name": "python",
   "nbconvert_exporter": "python",
   "pygments_lexer": "ipython3",
   "version": "3.9.17"
  },
  "vscode": {
   "interpreter": {
    "hash": "f85b883bff9a8a9f39576b94acbdf6672b3dc17c35647e7395f81e785740a4b3"
   }
  }
 },
 "nbformat": 4,
 "nbformat_minor": 4
}
